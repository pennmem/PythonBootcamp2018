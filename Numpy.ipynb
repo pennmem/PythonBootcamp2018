{
 "cells": [
  {
   "cell_type": "code",
   "execution_count": 1,
   "metadata": {},
   "outputs": [
    {
     "data": {
      "text/plain": [
       "'1.14.3'"
      ]
     },
     "execution_count": 1,
     "metadata": {},
     "output_type": "execute_result"
    }
   ],
   "source": [
    "import numpy as np\n",
    "np.__version__"
   ]
  },
  {
   "cell_type": "code",
   "execution_count": 20,
   "metadata": {},
   "outputs": [],
   "source": [
    "test1 = np.random.randn(1000)\n",
    "#test1"
   ]
  },
  {
   "cell_type": "code",
   "execution_count": 21,
   "metadata": {},
   "outputs": [
    {
     "name": "stdout",
     "output_type": "stream",
     "text": [
      "7.04 µs ± 37.7 ns per loop (mean ± std. dev. of 7 runs, 100000 loops each)\n"
     ]
    }
   ],
   "source": [
    "%timeit np.mean(test1)"
   ]
  },
  {
   "cell_type": "code",
   "execution_count": 22,
   "metadata": {},
   "outputs": [
    {
     "name": "stdout",
     "output_type": "stream",
     "text": [
      "72.5 µs ± 102 ns per loop (mean ± std. dev. of 7 runs, 10000 loops each)\n"
     ]
    }
   ],
   "source": [
    "%timeit sum(test1)/len(test1)"
   ]
  },
  {
   "cell_type": "code",
   "execution_count": 23,
   "metadata": {},
   "outputs": [
    {
     "data": {
      "text/plain": [
       "10.298295454545455"
      ]
     },
     "execution_count": 23,
     "metadata": {},
     "output_type": "execute_result"
    }
   ],
   "source": [
    "72.5/7.04"
   ]
  },
  {
   "cell_type": "code",
   "execution_count": 26,
   "metadata": {},
   "outputs": [
    {
     "data": {
      "text/plain": [
       "True"
      ]
     },
     "execution_count": 26,
     "metadata": {},
     "output_type": "execute_result"
    }
   ],
   "source": [
    "np.mean(test1) >= (sum(test1)/len(test1))"
   ]
  },
  {
   "cell_type": "code",
   "execution_count": 27,
   "metadata": {},
   "outputs": [],
   "source": [
    "def mymean(data):\n",
    "    sum = 0\n",
    "    count = 0\n",
    "    for dat in data:\n",
    "        sum += dat\n",
    "        count += 1\n",
    "    return sum/count"
   ]
  },
  {
   "cell_type": "code",
   "execution_count": 28,
   "metadata": {},
   "outputs": [
    {
     "name": "stdout",
     "output_type": "stream",
     "text": [
      "116 µs ± 53.1 ns per loop (mean ± std. dev. of 7 runs, 10000 loops each)\n"
     ]
    }
   ],
   "source": [
    "%timeit mymean(test1)"
   ]
  },
  {
   "cell_type": "code",
   "execution_count": 37,
   "metadata": {},
   "outputs": [
    {
     "data": {
      "text/plain": [
       "True"
      ]
     },
     "execution_count": 37,
     "metadata": {},
     "output_type": "execute_result"
    }
   ],
   "source": [
    "mymean(test1) == sum(test1)/len(test1)"
   ]
  },
  {
   "cell_type": "code",
   "execution_count": 38,
   "metadata": {},
   "outputs": [
    {
     "data": {
      "text/plain": [
       "14.344262295081966"
      ]
     },
     "execution_count": 38,
     "metadata": {},
     "output_type": "execute_result"
    }
   ],
   "source": [
    "105/7.32"
   ]
  },
  {
   "cell_type": "code",
   "execution_count": 29,
   "metadata": {},
   "outputs": [],
   "source": [
    "import math"
   ]
  },
  {
   "cell_type": "code",
   "execution_count": 30,
   "metadata": {},
   "outputs": [
    {
     "name": "stdout",
     "output_type": "stream",
     "text": [
      "72.1 µs ± 154 ns per loop (mean ± std. dev. of 7 runs, 10000 loops each)\n"
     ]
    }
   ],
   "source": [
    "%timeit sum(test1)"
   ]
  },
  {
   "cell_type": "code",
   "execution_count": 31,
   "metadata": {},
   "outputs": [
    {
     "name": "stdout",
     "output_type": "stream",
     "text": [
      "69.6 µs ± 135 ns per loop (mean ± std. dev. of 7 runs, 10000 loops each)\n"
     ]
    }
   ],
   "source": [
    "%timeit math.fsum(test1)"
   ]
  },
  {
   "cell_type": "code",
   "execution_count": 32,
   "metadata": {},
   "outputs": [
    {
     "name": "stdout",
     "output_type": "stream",
     "text": [
      "2.93 µs ± 19 ns per loop (mean ± std. dev. of 7 runs, 100000 loops each)\n"
     ]
    }
   ],
   "source": [
    "%timeit np.sum(test1)"
   ]
  },
  {
   "cell_type": "code",
   "execution_count": 33,
   "metadata": {},
   "outputs": [
    {
     "data": {
      "text/plain": [
       "-30.939807608922507"
      ]
     },
     "execution_count": 33,
     "metadata": {},
     "output_type": "execute_result"
    }
   ],
   "source": [
    "sum(test1)"
   ]
  },
  {
   "cell_type": "code",
   "execution_count": 34,
   "metadata": {},
   "outputs": [
    {
     "data": {
      "text/plain": [
       "-30.93980760892249"
      ]
     },
     "execution_count": 34,
     "metadata": {},
     "output_type": "execute_result"
    }
   ],
   "source": [
    "math.fsum(test1)"
   ]
  },
  {
   "cell_type": "code",
   "execution_count": 35,
   "metadata": {},
   "outputs": [
    {
     "data": {
      "text/plain": [
       "-30.93980760892249"
      ]
     },
     "execution_count": 35,
     "metadata": {},
     "output_type": "execute_result"
    }
   ],
   "source": [
    "np.sum(test1)"
   ]
  },
  {
   "cell_type": "code",
   "execution_count": 36,
   "metadata": {},
   "outputs": [
    {
     "data": {
      "text/plain": [
       "-1.7763568394002505e-14"
      ]
     },
     "execution_count": 36,
     "metadata": {},
     "output_type": "execute_result"
    }
   ],
   "source": [
    "sum(test1)-math.fsum(test1)"
   ]
  },
  {
   "cell_type": "code",
   "execution_count": 37,
   "metadata": {},
   "outputs": [
    {
     "data": {
      "text/plain": [
       "0.0"
      ]
     },
     "execution_count": 37,
     "metadata": {},
     "output_type": "execute_result"
    }
   ],
   "source": [
    "math.fsum(test1) - np.sum(test1)"
   ]
  },
  {
   "cell_type": "markdown",
   "metadata": {},
   "source": [
    "**Creating arrays**"
   ]
  },
  {
   "cell_type": "code",
   "execution_count": 40,
   "metadata": {},
   "outputs": [
    {
     "data": {
      "text/plain": [
       "array([1., 2., 3., 4.], dtype=float32)"
      ]
     },
     "execution_count": 40,
     "metadata": {},
     "output_type": "execute_result"
    }
   ],
   "source": [
    "np.array([1, 2, 3, 4], dtype='float32')"
   ]
  },
  {
   "cell_type": "code",
   "execution_count": 44,
   "metadata": {},
   "outputs": [
    {
     "data": {
      "text/plain": [
       "array([1, 2, 3, 4])"
      ]
     },
     "execution_count": 44,
     "metadata": {},
     "output_type": "execute_result"
    }
   ],
   "source": [
    "np.arange(1,5)"
   ]
  },
  {
   "cell_type": "code",
   "execution_count": 46,
   "metadata": {},
   "outputs": [
    {
     "data": {
      "text/plain": [
       "array([1., 2., 3., 4.])"
      ]
     },
     "execution_count": 46,
     "metadata": {},
     "output_type": "execute_result"
    }
   ],
   "source": [
    "np.arange(1.,5)"
   ]
  },
  {
   "cell_type": "code",
   "execution_count": 47,
   "metadata": {},
   "outputs": [
    {
     "data": {
      "text/plain": [
       "array([ True,  True,  True,  True])"
      ]
     },
     "execution_count": 47,
     "metadata": {},
     "output_type": "execute_result"
    }
   ],
   "source": [
    "np.arange(1, 5) == np.arange(1., 5)"
   ]
  },
  {
   "cell_type": "code",
   "execution_count": 54,
   "metadata": {},
   "outputs": [],
   "source": [
    "test = np.arange(5)"
   ]
  },
  {
   "cell_type": "code",
   "execution_count": 50,
   "metadata": {},
   "outputs": [
    {
     "data": {
      "text/plain": [
       "dtype('int64')"
      ]
     },
     "execution_count": 50,
     "metadata": {},
     "output_type": "execute_result"
    }
   ],
   "source": [
    "np.arange(1, 5).dtype"
   ]
  },
  {
   "cell_type": "code",
   "execution_count": 51,
   "metadata": {},
   "outputs": [
    {
     "data": {
      "text/plain": [
       "dtype('float64')"
      ]
     },
     "execution_count": 51,
     "metadata": {},
     "output_type": "execute_result"
    }
   ],
   "source": [
    "np.arange(1., 5).dtype"
   ]
  },
  {
   "cell_type": "code",
   "execution_count": 58,
   "metadata": {},
   "outputs": [
    {
     "data": {
      "text/plain": [
       "array([[2, 3, 4],\n",
       "       [4, 5, 6],\n",
       "       [6, 7, 8]])"
      ]
     },
     "execution_count": 58,
     "metadata": {},
     "output_type": "execute_result"
    }
   ],
   "source": [
    "np.array([range(i, i + 3) for i in [2, 4, 6]])"
   ]
  },
  {
   "cell_type": "code",
   "execution_count": 59,
   "metadata": {},
   "outputs": [
    {
     "data": {
      "text/plain": [
       "array([[0, 0, 0],\n",
       "       [0, 0, 0],\n",
       "       [0, 0, 0],\n",
       "       [0, 0, 0],\n",
       "       [0, 0, 0],\n",
       "       [0, 0, 0],\n",
       "       [0, 0, 0],\n",
       "       [0, 0, 0],\n",
       "       [0, 0, 0],\n",
       "       [0, 0, 0]])"
      ]
     },
     "execution_count": 59,
     "metadata": {},
     "output_type": "execute_result"
    }
   ],
   "source": [
    "np.zeros((10, 3), dtype=int)"
   ]
  },
  {
   "cell_type": "code",
   "execution_count": 60,
   "metadata": {},
   "outputs": [
    {
     "data": {
      "text/plain": [
       "array([ 0,  2,  4,  6,  8, 10, 12, 14, 16, 18])"
      ]
     },
     "execution_count": 60,
     "metadata": {},
     "output_type": "execute_result"
    }
   ],
   "source": [
    "np.arange(0, 20, 2)"
   ]
  },
  {
   "cell_type": "code",
   "execution_count": 61,
   "metadata": {},
   "outputs": [
    {
     "data": {
      "text/plain": [
       "array([ 0,  2,  4,  6,  8, 10, 12, 14, 16, 18])"
      ]
     },
     "execution_count": 61,
     "metadata": {},
     "output_type": "execute_result"
    }
   ],
   "source": [
    "np.array(range(0, 20, 2))"
   ]
  },
  {
   "cell_type": "code",
   "execution_count": 63,
   "metadata": {},
   "outputs": [
    {
     "data": {
      "text/plain": [
       "array([0.  , 0.25, 0.5 , 0.75, 1.  ])"
      ]
     },
     "execution_count": 63,
     "metadata": {},
     "output_type": "execute_result"
    }
   ],
   "source": [
    "np.linspace(0, 1, 5)"
   ]
  },
  {
   "cell_type": "code",
   "execution_count": 55,
   "metadata": {},
   "outputs": [
    {
     "data": {
      "text/plain": [
       "array([[1., 1., 1., 1., 1.],\n",
       "       [1., 1., 1., 1., 1.],\n",
       "       [1., 1., 1., 1., 1.]])"
      ]
     },
     "execution_count": 55,
     "metadata": {},
     "output_type": "execute_result"
    }
   ],
   "source": [
    "np.ones((3, 5))"
   ]
  },
  {
   "cell_type": "code",
   "execution_count": 63,
   "metadata": {},
   "outputs": [
    {
     "data": {
      "text/plain": [
       "array([['hello', 'hello', 'hello', 'hello', 'hello'],\n",
       "       ['hello', 'hello', 'hello', 'hello', 'hello'],\n",
       "       ['hello', 'hello', 'hello', 'hello', 'hello']], dtype='<U5')"
      ]
     },
     "execution_count": 63,
     "metadata": {},
     "output_type": "execute_result"
    }
   ],
   "source": [
    "np.full((3, 5), 'hello')"
   ]
  },
  {
   "cell_type": "markdown",
   "metadata": {},
   "source": [
    "** Data types **"
   ]
  },
  {
   "cell_type": "markdown",
   "metadata": {},
   "source": [
    "| Data type     | Description |\n",
    "|---------------|-------------|\n",
    "| ``bool_``     | Boolean (True or False) stored as a byte |\n",
    "| ``int_``      | Default integer type (same as C ``long``; normally either ``int64`` or ``int32``)|\n",
    "| ``intc``      | Identical to C ``int`` (normally ``int32`` or ``int64``)|\n",
    "| ``intp``      | Integer used for indexing (same as C ``ssize_t``; normally either ``int32`` or ``int64``)|\n",
    "| ``int8``      | Byte (-128 to 127)|\n",
    "| ``int16``     | Integer (-32768 to 32767)|\n",
    "| ``int32``     | Integer (-2147483648 to 2147483647)|\n",
    "| ``int64``     | Integer (-9223372036854775808 to 9223372036854775807)|\n",
    "| ``uint8``     | Unsigned integer (0 to 255)|\n",
    "| ``uint16``    | Unsigned integer (0 to 65535)|\n",
    "| ``uint32``    | Unsigned integer (0 to 4294967295)|\n",
    "| ``uint64``    | Unsigned integer (0 to 18446744073709551615)|\n",
    "| ``float_``    | Shorthand for ``float64``.|\n",
    "| ``float16``   | Half precision float: sign bit, 5 bits exponent, 10 bits mantissa|\n",
    "| ``float32``   | Single precision float: sign bit, 8 bits exponent, 23 bits mantissa|\n",
    "| ``float64``   | Double precision float: sign bit, 11 bits exponent, 52 bits mantissa|\n",
    "| ``complex_``  | Shorthand for ``complex128``.|\n",
    "| ``complex64`` | Complex number, represented by two 32-bit floats|\n",
    "| ``complex128``| Complex number, represented by two 64-bit floats|"
   ]
  },
  {
   "cell_type": "code",
   "execution_count": 39,
   "metadata": {},
   "outputs": [
    {
     "data": {
      "text/plain": [
       "\u001b[0;31mType:\u001b[0m        module\n",
       "\u001b[0;31mString form:\u001b[0m <module 'numpy.random' from '/usr/global/Anaconda3-5.1.0/envs/jupyterlab/lib/python3.6/site-packages/numpy/random/__init__.py'>\n",
       "\u001b[0;31mFile:\u001b[0m        /usr/global/Anaconda3-5.1.0/envs/jupyterlab/lib/python3.6/site-packages/numpy/random/__init__.py\n",
       "\u001b[0;31mDocstring:\u001b[0m  \n",
       "========================\n",
       "Random Number Generation\n",
       "========================\n",
       "\n",
       "==================== =========================================================\n",
       "Utility functions\n",
       "==============================================================================\n",
       "random_sample        Uniformly distributed floats over ``[0, 1)``.\n",
       "random               Alias for `random_sample`.\n",
       "bytes                Uniformly distributed random bytes.\n",
       "random_integers      Uniformly distributed integers in a given range.\n",
       "permutation          Randomly permute a sequence / generate a random sequence.\n",
       "shuffle              Randomly permute a sequence in place.\n",
       "seed                 Seed the random number generator.\n",
       "choice               Random sample from 1-D array.\n",
       "\n",
       "==================== =========================================================\n",
       "\n",
       "==================== =========================================================\n",
       "Compatibility functions\n",
       "==============================================================================\n",
       "rand                 Uniformly distributed values.\n",
       "randn                Normally distributed values.\n",
       "ranf                 Uniformly distributed floating point numbers.\n",
       "randint              Uniformly distributed integers in a given range.\n",
       "==================== =========================================================\n",
       "\n",
       "==================== =========================================================\n",
       "Univariate distributions\n",
       "==============================================================================\n",
       "beta                 Beta distribution over ``[0, 1]``.\n",
       "binomial             Binomial distribution.\n",
       "chisquare            :math:`\\chi^2` distribution.\n",
       "exponential          Exponential distribution.\n",
       "f                    F (Fisher-Snedecor) distribution.\n",
       "gamma                Gamma distribution.\n",
       "geometric            Geometric distribution.\n",
       "gumbel               Gumbel distribution.\n",
       "hypergeometric       Hypergeometric distribution.\n",
       "laplace              Laplace distribution.\n",
       "logistic             Logistic distribution.\n",
       "lognormal            Log-normal distribution.\n",
       "logseries            Logarithmic series distribution.\n",
       "negative_binomial    Negative binomial distribution.\n",
       "noncentral_chisquare Non-central chi-square distribution.\n",
       "noncentral_f         Non-central F distribution.\n",
       "normal               Normal / Gaussian distribution.\n",
       "pareto               Pareto distribution.\n",
       "poisson              Poisson distribution.\n",
       "power                Power distribution.\n",
       "rayleigh             Rayleigh distribution.\n",
       "triangular           Triangular distribution.\n",
       "uniform              Uniform distribution.\n",
       "vonmises             Von Mises circular distribution.\n",
       "wald                 Wald (inverse Gaussian) distribution.\n",
       "weibull              Weibull distribution.\n",
       "zipf                 Zipf's distribution over ranked data.\n",
       "==================== =========================================================\n",
       "\n",
       "==================== =========================================================\n",
       "Multivariate distributions\n",
       "==============================================================================\n",
       "dirichlet            Multivariate generalization of Beta distribution.\n",
       "multinomial          Multivariate generalization of the binomial distribution.\n",
       "multivariate_normal  Multivariate generalization of the normal distribution.\n",
       "==================== =========================================================\n",
       "\n",
       "==================== =========================================================\n",
       "Standard distributions\n",
       "==============================================================================\n",
       "standard_cauchy      Standard Cauchy-Lorentz distribution.\n",
       "standard_exponential Standard exponential distribution.\n",
       "standard_gamma       Standard Gamma distribution.\n",
       "standard_normal      Standard normal distribution.\n",
       "standard_t           Standard Student's t-distribution.\n",
       "==================== =========================================================\n",
       "\n",
       "==================== =========================================================\n",
       "Internal functions\n",
       "==============================================================================\n",
       "get_state            Get tuple representing internal state of generator.\n",
       "set_state            Set state of generator.\n",
       "==================== =========================================================\n"
      ]
     },
     "metadata": {},
     "output_type": "display_data"
    }
   ],
   "source": [
    "np.random?"
   ]
  },
  {
   "cell_type": "code",
   "execution_count": 68,
   "metadata": {},
   "outputs": [
    {
     "data": {
      "text/plain": [
       "array([[0.33966992, 0.47760629, 0.20039104],\n",
       "       [0.56625591, 0.94711808, 0.28454406],\n",
       "       [0.08112652, 0.13539006, 0.47081288]])"
      ]
     },
     "execution_count": 68,
     "metadata": {},
     "output_type": "execute_result"
    }
   ],
   "source": [
    "np.random.random((3,3))"
   ]
  },
  {
   "cell_type": "code",
   "execution_count": 69,
   "metadata": {},
   "outputs": [
    {
     "data": {
      "text/plain": [
       "array([[ 0.07431999, -1.46365937, -1.92080596],\n",
       "       [ 0.98826472,  0.21902753, -0.46514425],\n",
       "       [ 1.07211069,  0.03930181,  0.67881311]])"
      ]
     },
     "execution_count": 69,
     "metadata": {},
     "output_type": "execute_result"
    }
   ],
   "source": [
    "np.random.normal(0, 1, (3, 3))"
   ]
  },
  {
   "cell_type": "code",
   "execution_count": 71,
   "metadata": {},
   "outputs": [
    {
     "data": {
      "text/plain": [
       "\u001b[0;31mDocstring:\u001b[0m\n",
       "randn(d0, d1, ..., dn)\n",
       "\n",
       "Return a sample (or samples) from the \"standard normal\" distribution.\n",
       "\n",
       "If positive, int_like or int-convertible arguments are provided,\n",
       "`randn` generates an array of shape ``(d0, d1, ..., dn)``, filled\n",
       "with random floats sampled from a univariate \"normal\" (Gaussian)\n",
       "distribution of mean 0 and variance 1 (if any of the :math:`d_i` are\n",
       "floats, they are first converted to integers by truncation). A single\n",
       "float randomly sampled from the distribution is returned if no\n",
       "argument is provided.\n",
       "\n",
       "This is a convenience function.  If you want an interface that takes a\n",
       "tuple as the first argument, use `numpy.random.standard_normal` instead.\n",
       "\n",
       "Parameters\n",
       "----------\n",
       "d0, d1, ..., dn : int, optional\n",
       "    The dimensions of the returned array, should be all positive.\n",
       "    If no argument is given a single Python float is returned.\n",
       "\n",
       "Returns\n",
       "-------\n",
       "Z : ndarray or float\n",
       "    A ``(d0, d1, ..., dn)``-shaped array of floating-point samples from\n",
       "    the standard normal distribution, or a single such float if\n",
       "    no parameters were supplied.\n",
       "\n",
       "See Also\n",
       "--------\n",
       "random.standard_normal : Similar, but takes a tuple as its argument.\n",
       "\n",
       "Notes\n",
       "-----\n",
       "For random samples from :math:`N(\\mu, \\sigma^2)`, use:\n",
       "\n",
       "``sigma * np.random.randn(...) + mu``\n",
       "\n",
       "Examples\n",
       "--------\n",
       ">>> np.random.randn()\n",
       "2.1923875335537315 #random\n",
       "\n",
       "Two-by-four array of samples from N(3, 6.25):\n",
       "\n",
       ">>> 2.5 * np.random.randn(2, 4) + 3\n",
       "array([[-4.49401501,  4.00950034, -1.81814867,  7.29718677],  #random\n",
       "       [ 0.39924804,  4.68456316,  4.99394529,  4.84057254]]) #random\n",
       "\u001b[0;31mType:\u001b[0m      builtin_function_or_method\n"
      ]
     },
     "metadata": {},
     "output_type": "display_data"
    }
   ],
   "source": [
    "np.random.randn?"
   ]
  },
  {
   "cell_type": "code",
   "execution_count": 43,
   "metadata": {},
   "outputs": [
    {
     "data": {
      "text/plain": [
       "\u001b[0;31mDocstring:\u001b[0m\n",
       "standard_normal(size=None)\n",
       "\n",
       "Draw samples from a standard Normal distribution (mean=0, stdev=1).\n",
       "\n",
       "Parameters\n",
       "----------\n",
       "size : int or tuple of ints, optional\n",
       "    Output shape.  If the given shape is, e.g., ``(m, n, k)``, then\n",
       "    ``m * n * k`` samples are drawn.  Default is None, in which case a\n",
       "    single value is returned.\n",
       "\n",
       "Returns\n",
       "-------\n",
       "out : float or ndarray\n",
       "    Drawn samples.\n",
       "\n",
       "Examples\n",
       "--------\n",
       ">>> s = np.random.standard_normal(8000)\n",
       ">>> s\n",
       "array([ 0.6888893 ,  0.78096262, -0.89086505, ...,  0.49876311, #random\n",
       "       -0.38672696, -0.4685006 ])                               #random\n",
       ">>> s.shape\n",
       "(8000,)\n",
       ">>> s = np.random.standard_normal(size=(3, 4, 2))\n",
       ">>> s.shape\n",
       "(3, 4, 2)\n",
       "\u001b[0;31mType:\u001b[0m      builtin_function_or_method\n"
      ]
     },
     "metadata": {},
     "output_type": "display_data"
    }
   ],
   "source": [
    "np.random.standard_normal?"
   ]
  },
  {
   "cell_type": "code",
   "execution_count": 42,
   "metadata": {},
   "outputs": [
    {
     "data": {
      "text/plain": [
       "\u001b[0;31mDocstring:\u001b[0m\n",
       "seed(seed=None)\n",
       "\n",
       "Seed the generator.\n",
       "\n",
       "This method is called when `RandomState` is initialized. It can be\n",
       "called again to re-seed the generator. For details, see `RandomState`.\n",
       "\n",
       "Parameters\n",
       "----------\n",
       "seed : int or 1-d array_like, optional\n",
       "    Seed for `RandomState`.\n",
       "    Must be convertible to 32 bit unsigned integers.\n",
       "\n",
       "See Also\n",
       "--------\n",
       "RandomState\n",
       "\u001b[0;31mType:\u001b[0m      builtin_function_or_method\n"
      ]
     },
     "metadata": {},
     "output_type": "display_data"
    }
   ],
   "source": [
    "np.random.seed?"
   ]
  },
  {
   "cell_type": "code",
   "execution_count": 74,
   "metadata": {},
   "outputs": [
    {
     "data": {
      "text/plain": [
       "True"
      ]
     },
     "execution_count": 74,
     "metadata": {},
     "output_type": "execute_result"
    }
   ],
   "source": [
    "np.random.seed(123)\n",
    "test1 = np.random.randn(1000)\n",
    "np.random.seed(123)\n",
    "test2 = np.random.standard_normal(1000)\n",
    "np.random.seed(123)\n",
    "test3 = np.random.normal(0, 1, 1000)\n",
    "np.all(test1 == test2) and np.all(test1 == test3)"
   ]
  },
  {
   "cell_type": "code",
   "execution_count": 67,
   "metadata": {},
   "outputs": [
    {
     "data": {
      "text/plain": [
       "array([[0, 9, 6],\n",
       "       [7, 3, 8],\n",
       "       [8, 3, 9]])"
      ]
     },
     "execution_count": 67,
     "metadata": {},
     "output_type": "execute_result"
    }
   ],
   "source": [
    "np.random.randint(0, 10, (3, 3))"
   ]
  },
  {
   "cell_type": "code",
   "execution_count": 81,
   "metadata": {},
   "outputs": [
    {
     "data": {
      "text/plain": [
       "2.0"
      ]
     },
     "execution_count": 81,
     "metadata": {},
     "output_type": "execute_result"
    }
   ],
   "source": [
    "test = np.empty(3)\n",
    "test.fill(np.nan)\n",
    "test[:2] = 2\n",
    "np.nanmean(test)"
   ]
  },
  {
   "cell_type": "code",
   "execution_count": 85,
   "metadata": {},
   "outputs": [
    {
     "ename": "ValueError",
     "evalue": "cannot convert float NaN to integer",
     "output_type": "error",
     "traceback": [
      "\u001b[0;31m---------------------------------------------------------------------------\u001b[0m",
      "\u001b[0;31mValueError\u001b[0m                                Traceback (most recent call last)",
      "\u001b[0;32m<ipython-input-85-9f02bfcc51f6>\u001b[0m in \u001b[0;36m<module>\u001b[0;34m()\u001b[0m\n\u001b[1;32m      1\u001b[0m \u001b[0mtest\u001b[0m \u001b[0;34m=\u001b[0m \u001b[0mnp\u001b[0m\u001b[0;34m.\u001b[0m\u001b[0mones\u001b[0m\u001b[0;34m(\u001b[0m\u001b[0;36m10\u001b[0m\u001b[0;34m,\u001b[0m \u001b[0mnp\u001b[0m\u001b[0;34m.\u001b[0m\u001b[0mint\u001b[0m\u001b[0;34m)\u001b[0m\u001b[0;34m\u001b[0m\u001b[0m\n\u001b[0;32m----> 2\u001b[0;31m \u001b[0mtest\u001b[0m\u001b[0;34m[\u001b[0m\u001b[0;36m0\u001b[0m\u001b[0;34m]\u001b[0m \u001b[0;34m=\u001b[0m \u001b[0mnp\u001b[0m\u001b[0;34m.\u001b[0m\u001b[0mnan\u001b[0m\u001b[0;34m\u001b[0m\u001b[0m\n\u001b[0m",
      "\u001b[0;31mValueError\u001b[0m: cannot convert float NaN to integer"
     ]
    }
   ],
   "source": [
    "test = np.ones(10, np.int)\n",
    "test[0] = np.nan"
   ]
  },
  {
   "cell_type": "code",
   "execution_count": 91,
   "metadata": {},
   "outputs": [
    {
     "data": {
      "text/plain": [
       "array(['hello', '1', '1.8', 'test'], dtype='<U5')"
      ]
     },
     "execution_count": 91,
     "metadata": {},
     "output_type": "execute_result"
    }
   ],
   "source": [
    "test = ['hello', 1, 1.8, 'test']\n",
    "np.array(test)"
   ]
  },
  {
   "cell_type": "code",
   "execution_count": 92,
   "metadata": {},
   "outputs": [],
   "source": [
    "x = np.random.randint(10, size=(3, 4, 5)) # 3D array"
   ]
  },
  {
   "cell_type": "code",
   "execution_count": 70,
   "metadata": {},
   "outputs": [
    {
     "data": {
      "text/plain": [
       "3"
      ]
     },
     "execution_count": 70,
     "metadata": {},
     "output_type": "execute_result"
    }
   ],
   "source": [
    "x.ndim"
   ]
  },
  {
   "cell_type": "code",
   "execution_count": 71,
   "metadata": {},
   "outputs": [
    {
     "data": {
      "text/plain": [
       "(3, 4, 5)"
      ]
     },
     "execution_count": 71,
     "metadata": {},
     "output_type": "execute_result"
    }
   ],
   "source": [
    "x.shape"
   ]
  },
  {
   "cell_type": "code",
   "execution_count": 72,
   "metadata": {},
   "outputs": [
    {
     "data": {
      "text/plain": [
       "60"
      ]
     },
     "execution_count": 72,
     "metadata": {},
     "output_type": "execute_result"
    }
   ],
   "source": [
    "x.size"
   ]
  },
  {
   "cell_type": "code",
   "execution_count": 73,
   "metadata": {},
   "outputs": [
    {
     "data": {
      "text/plain": [
       "dtype('int64')"
      ]
     },
     "execution_count": 73,
     "metadata": {},
     "output_type": "execute_result"
    }
   ],
   "source": [
    "x.dtype"
   ]
  },
  {
   "cell_type": "code",
   "execution_count": 93,
   "metadata": {},
   "outputs": [
    {
     "data": {
      "text/plain": [
       "8"
      ]
     },
     "execution_count": 93,
     "metadata": {},
     "output_type": "execute_result"
    }
   ],
   "source": [
    "x.itemsize"
   ]
  },
  {
   "cell_type": "code",
   "execution_count": 94,
   "metadata": {},
   "outputs": [
    {
     "data": {
      "text/plain": [
       "480"
      ]
     },
     "execution_count": 94,
     "metadata": {},
     "output_type": "execute_result"
    }
   ],
   "source": [
    "x.nbytes"
   ]
  },
  {
   "cell_type": "code",
   "execution_count": 95,
   "metadata": {},
   "outputs": [
    {
     "data": {
      "text/plain": [
       "array([[[0, 9, 6, 7, 3],\n",
       "        [8, 8, 3, 9, 0],\n",
       "        [3, 2, 8, 0, 5],\n",
       "        [6, 1, 7, 1, 3]],\n",
       "\n",
       "       [[2, 8, 8, 1, 7],\n",
       "        [7, 8, 6, 8, 3],\n",
       "        [4, 6, 3, 8, 3],\n",
       "        [8, 2, 6, 9, 3]],\n",
       "\n",
       "       [[8, 0, 0, 8, 2],\n",
       "        [2, 0, 5, 9, 1],\n",
       "        [3, 1, 7, 3, 3],\n",
       "        [3, 9, 5, 1, 8]]])"
      ]
     },
     "execution_count": 95,
     "metadata": {},
     "output_type": "execute_result"
    }
   ],
   "source": [
    "x"
   ]
  },
  {
   "cell_type": "code",
   "execution_count": 96,
   "metadata": {},
   "outputs": [],
   "source": [
    "x[0, 0, 0] = 11"
   ]
  },
  {
   "cell_type": "code",
   "execution_count": 97,
   "metadata": {},
   "outputs": [
    {
     "data": {
      "text/plain": [
       "array([[[11,  9,  6,  7,  3],\n",
       "        [ 8,  8,  3,  9,  0],\n",
       "        [ 3,  2,  8,  0,  5],\n",
       "        [ 6,  1,  7,  1,  3]],\n",
       "\n",
       "       [[ 2,  8,  8,  1,  7],\n",
       "        [ 7,  8,  6,  8,  3],\n",
       "        [ 4,  6,  3,  8,  3],\n",
       "        [ 8,  2,  6,  9,  3]],\n",
       "\n",
       "       [[ 8,  0,  0,  8,  2],\n",
       "        [ 2,  0,  5,  9,  1],\n",
       "        [ 3,  1,  7,  3,  3],\n",
       "        [ 3,  9,  5,  1,  8]]])"
      ]
     },
     "execution_count": 97,
     "metadata": {},
     "output_type": "execute_result"
    }
   ],
   "source": [
    "x"
   ]
  },
  {
   "cell_type": "code",
   "execution_count": 102,
   "metadata": {},
   "outputs": [],
   "source": [
    "x[0, 0, 0] = '4' #3.14159    # this will be truncated!"
   ]
  },
  {
   "cell_type": "code",
   "execution_count": 105,
   "metadata": {},
   "outputs": [
    {
     "data": {
      "text/plain": [
       "3"
      ]
     },
     "execution_count": 105,
     "metadata": {},
     "output_type": "execute_result"
    }
   ],
   "source": [
    "np.int('3')"
   ]
  },
  {
   "cell_type": "code",
   "execution_count": 112,
   "metadata": {},
   "outputs": [
    {
     "data": {
      "text/plain": [
       "array([[[  8,   8,   3,   9,   5],\n",
       "        [  3,   7,   3,   0,   5],\n",
       "        [  5,   6,   7,   7,   3],\n",
       "        [  1,   6,   0,   8,   6]],\n",
       "\n",
       "       [[  5,   6,   5,   0,   3],\n",
       "        [  1,   2,   2,   1,   5],\n",
       "        [  9,   8,   9,   1,   2],\n",
       "        [  4,   9, 888,   7,   4]],\n",
       "\n",
       "       [[  7,   4,   3,   5,   5],\n",
       "        [  1,   7,   1,   2,   0],\n",
       "        [  3,   4,   2,   7,   1],\n",
       "        [  3,   4,   5,   9,   6]]])"
      ]
     },
     "execution_count": 112,
     "metadata": {},
     "output_type": "execute_result"
    }
   ],
   "source": [
    "start = 0\n",
    "stop = len(x)\n",
    "step = 1\n",
    "x[start:stop:step] # defaults: 0, size of dim, 1\n",
    "x[:5] # first five elements\n",
    "x[5:] # elements after index 5\n",
    "x[4:7] # middle sub-array\n",
    "x[::2] # every other element\n",
    "x[1::2] # every other element, starting at index 1\n",
    "x[::-1] # all elements, reversed\n",
    "x[5::-2] # reversed every other from index 5\n",
    "x[:2, :3] # two rows, three columns\n",
    "x[:3, ::2] # three rows, every other column\n",
    "x[::-1, ::-1] # reverse rows and columns"
   ]
  },
  {
   "cell_type": "code",
   "execution_count": 106,
   "metadata": {},
   "outputs": [
    {
     "data": {
      "text/plain": [
       "array([[[6],\n",
       "        [3],\n",
       "        [8],\n",
       "        [7]],\n",
       "\n",
       "       [[8],\n",
       "        [6],\n",
       "        [3],\n",
       "        [6]],\n",
       "\n",
       "       [[0],\n",
       "        [5],\n",
       "        [7],\n",
       "        [5]]])"
      ]
     },
     "execution_count": 106,
     "metadata": {},
     "output_type": "execute_result"
    }
   ],
   "source": [
    "x[..., 2:4:2]  # start:stop:step\n",
    "x[:, :, 2:4:2]"
   ]
  },
  {
   "cell_type": "code",
   "execution_count": 107,
   "metadata": {},
   "outputs": [],
   "source": [
    "x_sub = x[:2, :2]"
   ]
  },
  {
   "cell_type": "code",
   "execution_count": 108,
   "metadata": {},
   "outputs": [
    {
     "data": {
      "text/plain": [
       "array([[[4, 9, 6, 7, 3],\n",
       "        [8, 8, 3, 9, 0]],\n",
       "\n",
       "       [[2, 8, 8, 1, 7],\n",
       "        [7, 8, 6, 8, 3]]])"
      ]
     },
     "execution_count": 108,
     "metadata": {},
     "output_type": "execute_result"
    }
   ],
   "source": [
    "x_sub"
   ]
  },
  {
   "cell_type": "code",
   "execution_count": 109,
   "metadata": {},
   "outputs": [],
   "source": [
    "x_sub[1, 0, 2] = 888"
   ]
  },
  {
   "cell_type": "code",
   "execution_count": 110,
   "metadata": {},
   "outputs": [
    {
     "data": {
      "text/plain": [
       "array([[[  4,   9,   6,   7,   3],\n",
       "        [  8,   8,   3,   9,   0]],\n",
       "\n",
       "       [[  2,   8, 888,   1,   7],\n",
       "        [  7,   8,   6,   8,   3]]])"
      ]
     },
     "execution_count": 110,
     "metadata": {},
     "output_type": "execute_result"
    }
   ],
   "source": [
    "x_sub"
   ]
  },
  {
   "cell_type": "code",
   "execution_count": 111,
   "metadata": {},
   "outputs": [
    {
     "data": {
      "text/plain": [
       "array([[[  4,   9,   6,   7,   3],\n",
       "        [  8,   8,   3,   9,   0],\n",
       "        [  3,   2,   8,   0,   5],\n",
       "        [  6,   1,   7,   1,   3]],\n",
       "\n",
       "       [[  2,   8, 888,   1,   7],\n",
       "        [  7,   8,   6,   8,   3],\n",
       "        [  4,   6,   3,   8,   3],\n",
       "        [  8,   2,   6,   9,   3]],\n",
       "\n",
       "       [[  8,   0,   0,   8,   2],\n",
       "        [  2,   0,   5,   9,   1],\n",
       "        [  3,   1,   7,   3,   3],\n",
       "        [  3,   9,   5,   1,   8]]])"
      ]
     },
     "execution_count": 111,
     "metadata": {},
     "output_type": "execute_result"
    }
   ],
   "source": [
    "x"
   ]
  },
  {
   "cell_type": "code",
   "execution_count": 112,
   "metadata": {},
   "outputs": [],
   "source": [
    "x_sub_copy = x[:2, :2].copy()"
   ]
  },
  {
   "cell_type": "code",
   "execution_count": 113,
   "metadata": {},
   "outputs": [
    {
     "data": {
      "text/plain": [
       "array([[[  4,   9,   6,   7,   3],\n",
       "        [  8,   8,   3,   9,   0]],\n",
       "\n",
       "       [[  2,   8, 888,   1,   7],\n",
       "        [  7,   8,   6,   8,   3]]])"
      ]
     },
     "execution_count": 113,
     "metadata": {},
     "output_type": "execute_result"
    }
   ],
   "source": [
    "x_sub_copy"
   ]
  },
  {
   "cell_type": "code",
   "execution_count": 114,
   "metadata": {},
   "outputs": [],
   "source": [
    "x_sub_copy[1, 0, 2] = 777"
   ]
  },
  {
   "cell_type": "code",
   "execution_count": 115,
   "metadata": {},
   "outputs": [
    {
     "data": {
      "text/plain": [
       "array([[[  4,   9,   6,   7,   3],\n",
       "        [  8,   8,   3,   9,   0]],\n",
       "\n",
       "       [[  2,   8, 777,   1,   7],\n",
       "        [  7,   8,   6,   8,   3]]])"
      ]
     },
     "execution_count": 115,
     "metadata": {},
     "output_type": "execute_result"
    }
   ],
   "source": [
    "x_sub_copy"
   ]
  },
  {
   "cell_type": "code",
   "execution_count": 116,
   "metadata": {},
   "outputs": [
    {
     "data": {
      "text/plain": [
       "array([[[  4,   9,   6,   7,   3],\n",
       "        [  8,   8,   3,   9,   0],\n",
       "        [  3,   2,   8,   0,   5],\n",
       "        [  6,   1,   7,   1,   3]],\n",
       "\n",
       "       [[  2,   8, 888,   1,   7],\n",
       "        [  7,   8,   6,   8,   3],\n",
       "        [  4,   6,   3,   8,   3],\n",
       "        [  8,   2,   6,   9,   3]],\n",
       "\n",
       "       [[  8,   0,   0,   8,   2],\n",
       "        [  2,   0,   5,   9,   1],\n",
       "        [  3,   1,   7,   3,   3],\n",
       "        [  3,   9,   5,   1,   8]]])"
      ]
     },
     "execution_count": 116,
     "metadata": {},
     "output_type": "execute_result"
    }
   ],
   "source": [
    "x"
   ]
  },
  {
   "cell_type": "markdown",
   "metadata": {},
   "source": [
    "| Operator      | Equivalent ufunc    | Description                           |\n",
    "|---------------|---------------------|---------------------------------------|\n",
    "|``+``          |``np.add``           |Addition (e.g., ``1 + 1 = 2``)         |\n",
    "|``-``          |``np.subtract``      |Subtraction (e.g., ``3 - 2 = 1``)      |\n",
    "|``-``          |``np.negative``      |Unary negation (e.g., ``-2``)          |\n",
    "|``*``          |``np.multiply``      |Multiplication (e.g., ``2 * 3 = 6``)   |\n",
    "|``/``          |``np.divide``        |Division (e.g., ``3 / 2 = 1.5``)       |\n",
    "|``//``         |``np.floor_divide``  |Floor division (e.g., ``3 // 2 = 1``)  |\n",
    "|``**``         |``np.power``         |Exponentiation (e.g., ``2 ** 3 = 8``)  |\n",
    "|``%``          |``np.mod``           |Modulus/remainder (e.g., ``9 % 4 = 1``)|"
   ]
  },
  {
   "cell_type": "markdown",
   "metadata": {},
   "source": [
    "|Function Name      |   NaN-safe Version  | Description                                   |\n",
    "|-------------------|---------------------|-----------------------------------------------|\n",
    "| ``np.sum``        | ``np.nansum``       | Compute sum of elements                       |\n",
    "| ``np.prod``       | ``np.nanprod``      | Compute product of elements                   |\n",
    "| ``np.mean``       | ``np.nanmean``      | Compute mean of elements                      |\n",
    "| ``np.std``        | ``np.nanstd``       | Compute standard deviation                    |\n",
    "| ``np.var``        | ``np.nanvar``       | Compute variance                              |\n",
    "| ``np.min``        | ``np.nanmin``       | Find minimum value                            |\n",
    "| ``np.max``        | ``np.nanmax``       | Find maximum value                            |\n",
    "| ``np.argmin``     | ``np.nanargmin``    | Find index of minimum value                   |\n",
    "| ``np.argmax``     | ``np.nanargmax``    | Find index of maximum value                   |\n",
    "| ``np.median``     | ``np.nanmedian``    | Compute median of elements                    |\n",
    "| ``np.percentile`` | ``np.nanpercentile``| Compute rank-based statistics of elements     |\n",
    "| ``np.any``        | N/A                 | Evaluate whether any elements are true        |\n",
    "| ``np.all``        | N/A                 | Evaluate whether all elements are true        |"
   ]
  },
  {
   "cell_type": "markdown",
   "metadata": {},
   "source": [
    "| Operator      | Equivalent ufunc    || Operator      | Equivalent ufunc    |\n",
    "|---------------|---------------------||---------------|---------------------|\n",
    "|``==``         |``np.equal``         ||``!=``         |``np.not_equal``     |\n",
    "|``<``          |``np.less``          ||``<=``         |``np.less_equal``    |\n",
    "|``>``          |``np.greater``       ||``>=``         |``np.greater_equal`` |"
   ]
  },
  {
   "cell_type": "markdown",
   "metadata": {},
   "source": [
    "| Operator      | Equivalent ufunc    || Operator      | Equivalent ufunc    |\n",
    "|---------------|---------------------||---------------|---------------------|\n",
    "|``&``          |``np.bitwise_and``   ||&#124;         |``np.bitwise_or``    |\n",
    "|``^``          |``np.bitwise_xor``   ||``~``          |``np.bitwise_not``   |"
   ]
  },
  {
   "cell_type": "markdown",
   "metadata": {},
   "source": [
    "** Broadcasting **\n",
    "\n",
    "![Broadcasting Visual](figures/broadcasting.png)\n",
    "\n",
    "1. If the two arrays differ in their number of dimensions, the\n",
    "shape of the one with fewer dimensions is padded with ones\n",
    "on its leading (left) side.\n",
    "1. If the shape of the two arrays does not match in any\n",
    "dimension, the array with shape equal to 1 in that dimension\n",
    "is stretched to match the other shape.\n",
    "1. If in any dimension the sizes disagree and neither is equal to\n",
    "1, an error is raised.\n"
   ]
  },
  {
   "cell_type": "markdown",
   "metadata": {},
   "source": [
    "Assignments\n",
    "- Create a 10 × 2 array with random values. Assume these\n",
    "are cartesian coordinates and convert them to polar\n",
    "coordinates. Use a ufunc!\n",
    "- Create a random 5 × 10 array and subtract the mean of\n",
    "each row.\n",
    "- Now z-transform each column.\n",
    "- ndarrays have an attribute that determines whether they\n",
    "are writable. Find out how to make an array read-only!\n",
    "- Compute bootstrapped 95% confidence intervals for the\n",
    "mean of a 1D array X (i.e., resample the elements of an\n",
    "array with replacement N times, compute the mean of\n",
    "each sample, and then compute percentiles over the\n",
    "means). Use np.randon.randn to create a 1D array with\n",
    "100 random values for which to calculate the\n",
    "bootstrapped 95% CI.\n"
   ]
  },
  {
   "cell_type": "code",
   "execution_count": 157,
   "metadata": {},
   "outputs": [],
   "source": [
    "test = np.random.randn(100)"
   ]
  },
  {
   "cell_type": "code",
   "execution_count": 154,
   "metadata": {},
   "outputs": [],
   "source": [
    "means = []\n",
    "for i in range(1000):\n",
    "    means.append(np.random.choice(test, size=100).mean())"
   ]
  },
  {
   "cell_type": "code",
   "execution_count": null,
   "metadata": {},
   "outputs": [],
   "source": []
  },
  {
   "cell_type": "code",
   "execution_count": 158,
   "metadata": {},
   "outputs": [
    {
     "data": {
      "text/plain": [
       "0.021993865551463595"
      ]
     },
     "execution_count": 158,
     "metadata": {},
     "output_type": "execute_result"
    }
   ],
   "source": [
    "test.mean()"
   ]
  },
  {
   "cell_type": "code",
   "execution_count": 153,
   "metadata": {},
   "outputs": [
    {
     "data": {
      "text/plain": [
       "\u001b[0;31mDocstring:\u001b[0m\n",
       "choice(a, size=None, replace=True, p=None)\n",
       "\n",
       "Generates a random sample from a given 1-D array\n",
       "\n",
       "        .. versionadded:: 1.7.0\n",
       "\n",
       "Parameters\n",
       "-----------\n",
       "a : 1-D array-like or int\n",
       "    If an ndarray, a random sample is generated from its elements.\n",
       "    If an int, the random sample is generated as if a were np.arange(a)\n",
       "size : int or tuple of ints, optional\n",
       "    Output shape.  If the given shape is, e.g., ``(m, n, k)``, then\n",
       "    ``m * n * k`` samples are drawn.  Default is None, in which case a\n",
       "    single value is returned.\n",
       "replace : boolean, optional\n",
       "    Whether the sample is with or without replacement\n",
       "p : 1-D array-like, optional\n",
       "    The probabilities associated with each entry in a.\n",
       "    If not given the sample assumes a uniform distribution over all\n",
       "    entries in a.\n",
       "\n",
       "Returns\n",
       "--------\n",
       "samples : single item or ndarray\n",
       "    The generated random samples\n",
       "\n",
       "Raises\n",
       "-------\n",
       "ValueError\n",
       "    If a is an int and less than zero, if a or p are not 1-dimensional,\n",
       "    if a is an array-like of size 0, if p is not a vector of\n",
       "    probabilities, if a and p have different lengths, or if\n",
       "    replace=False and the sample size is greater than the population\n",
       "    size\n",
       "\n",
       "See Also\n",
       "---------\n",
       "randint, shuffle, permutation\n",
       "\n",
       "Examples\n",
       "---------\n",
       "Generate a uniform random sample from np.arange(5) of size 3:\n",
       "\n",
       ">>> np.random.choice(5, 3)\n",
       "array([0, 3, 4])\n",
       ">>> #This is equivalent to np.random.randint(0,5,3)\n",
       "\n",
       "Generate a non-uniform random sample from np.arange(5) of size 3:\n",
       "\n",
       ">>> np.random.choice(5, 3, p=[0.1, 0, 0.3, 0.6, 0])\n",
       "array([3, 3, 0])\n",
       "\n",
       "Generate a uniform random sample from np.arange(5) of size 3 without\n",
       "replacement:\n",
       "\n",
       ">>> np.random.choice(5, 3, replace=False)\n",
       "array([3,1,0])\n",
       ">>> #This is equivalent to np.random.permutation(np.arange(5))[:3]\n",
       "\n",
       "Generate a non-uniform random sample from np.arange(5) of size\n",
       "3 without replacement:\n",
       "\n",
       ">>> np.random.choice(5, 3, replace=False, p=[0.1, 0, 0.3, 0.6, 0])\n",
       "array([2, 3, 0])\n",
       "\n",
       "Any of the above can be repeated with an arbitrary array-like\n",
       "instead of just integers. For instance:\n",
       "\n",
       ">>> aa_milne_arr = ['pooh', 'rabbit', 'piglet', 'Christopher']\n",
       ">>> np.random.choice(aa_milne_arr, 5, p=[0.5, 0.1, 0.1, 0.3])\n",
       "array(['pooh', 'pooh', 'pooh', 'Christopher', 'piglet'],\n",
       "      dtype='|S11')\n",
       "\u001b[0;31mType:\u001b[0m      builtin_function_or_method\n"
      ]
     },
     "metadata": {},
     "output_type": "display_data"
    }
   ],
   "source": [
    "np.random.choice?"
   ]
  },
  {
   "cell_type": "code",
   "execution_count": 159,
   "metadata": {},
   "outputs": [],
   "source": [
    "bootstrap = test[np.random.randint(\n",
    "    low=0, high=100, size=(100, 1000))]"
   ]
  },
  {
   "cell_type": "code",
   "execution_count": 160,
   "metadata": {},
   "outputs": [
    {
     "data": {
      "text/plain": [
       "array([-0.17013823,  0.21966828])"
      ]
     },
     "execution_count": 160,
     "metadata": {},
     "output_type": "execute_result"
    }
   ],
   "source": [
    "np.percentile(bootstrap.mean(0), [2.5, 97.5])"
   ]
  },
  {
   "cell_type": "code",
   "execution_count": 156,
   "metadata": {},
   "outputs": [
    {
     "data": {
      "text/plain": [
       "\u001b[0;31mSignature:\u001b[0m \u001b[0mnp\u001b[0m\u001b[0;34m.\u001b[0m\u001b[0mpercentile\u001b[0m\u001b[0;34m(\u001b[0m\u001b[0ma\u001b[0m\u001b[0;34m,\u001b[0m \u001b[0mq\u001b[0m\u001b[0;34m,\u001b[0m \u001b[0maxis\u001b[0m\u001b[0;34m=\u001b[0m\u001b[0;32mNone\u001b[0m\u001b[0;34m,\u001b[0m \u001b[0mout\u001b[0m\u001b[0;34m=\u001b[0m\u001b[0;32mNone\u001b[0m\u001b[0;34m,\u001b[0m \u001b[0moverwrite_input\u001b[0m\u001b[0;34m=\u001b[0m\u001b[0;32mFalse\u001b[0m\u001b[0;34m,\u001b[0m \u001b[0minterpolation\u001b[0m\u001b[0;34m=\u001b[0m\u001b[0;34m'linear'\u001b[0m\u001b[0;34m,\u001b[0m \u001b[0mkeepdims\u001b[0m\u001b[0;34m=\u001b[0m\u001b[0;32mFalse\u001b[0m\u001b[0;34m)\u001b[0m\u001b[0;34m\u001b[0m\u001b[0m\n",
       "\u001b[0;31mDocstring:\u001b[0m\n",
       "Compute the qth percentile of the data along the specified axis.\n",
       "\n",
       "Returns the qth percentile(s) of the array elements.\n",
       "\n",
       "Parameters\n",
       "----------\n",
       "a : array_like\n",
       "    Input array or object that can be converted to an array.\n",
       "q : float in range of [0,100] (or sequence of floats)\n",
       "    Percentile to compute, which must be between 0 and 100 inclusive.\n",
       "axis : {int, sequence of int, None}, optional\n",
       "    Axis or axes along which the percentiles are computed. The\n",
       "    default is to compute the percentile(s) along a flattened\n",
       "    version of the array. A sequence of axes is supported since\n",
       "    version 1.9.0.\n",
       "out : ndarray, optional\n",
       "    Alternative output array in which to place the result. It must\n",
       "    have the same shape and buffer length as the expected output,\n",
       "    but the type (of the output) will be cast if necessary.\n",
       "overwrite_input : bool, optional\n",
       "    If True, then allow use of memory of input array `a`\n",
       "    calculations. The input array will be modified by the call to\n",
       "    `percentile`. This will save memory when you do not need to\n",
       "    preserve the contents of the input array. In this case you\n",
       "    should not make any assumptions about the contents of the input\n",
       "    `a` after this function completes -- treat it as undefined.\n",
       "    Default is False. If `a` is not already an array, this parameter\n",
       "    will have no effect as `a` will be converted to an array\n",
       "    internally regardless of the value of this parameter.\n",
       "interpolation : {'linear', 'lower', 'higher', 'midpoint', 'nearest'}\n",
       "    This optional parameter specifies the interpolation method to\n",
       "    use when the desired quantile lies between two data points\n",
       "    ``i < j``:\n",
       "        * linear: ``i + (j - i) * fraction``, where ``fraction``\n",
       "          is the fractional part of the index surrounded by ``i``\n",
       "          and ``j``.\n",
       "        * lower: ``i``.\n",
       "        * higher: ``j``.\n",
       "        * nearest: ``i`` or ``j``, whichever is nearest.\n",
       "        * midpoint: ``(i + j) / 2``.\n",
       "\n",
       "    .. versionadded:: 1.9.0\n",
       "keepdims : bool, optional\n",
       "    If this is set to True, the axes which are reduced are left in\n",
       "    the result as dimensions with size one. With this option, the\n",
       "    result will broadcast correctly against the original array `a`.\n",
       "\n",
       "    .. versionadded:: 1.9.0\n",
       "\n",
       "Returns\n",
       "-------\n",
       "percentile : scalar or ndarray\n",
       "    If `q` is a single percentile and `axis=None`, then the result\n",
       "    is a scalar. If multiple percentiles are given, first axis of\n",
       "    the result corresponds to the percentiles. The other axes are\n",
       "    the axes that remain after the reduction of `a`. If the input\n",
       "    contains integers or floats smaller than ``float64``, the output\n",
       "    data-type is ``float64``. Otherwise, the output data-type is the\n",
       "    same as that of the input. If `out` is specified, that array is\n",
       "    returned instead.\n",
       "\n",
       "See Also\n",
       "--------\n",
       "mean, median, nanpercentile\n",
       "\n",
       "Notes\n",
       "-----\n",
       "Given a vector ``V`` of length ``N``, the ``q``-th percentile of\n",
       "``V`` is the value ``q/100`` of the way from the minimum to the\n",
       "maximum in a sorted copy of ``V``. The values and distances of\n",
       "the two nearest neighbors as well as the `interpolation` parameter\n",
       "will determine the percentile if the normalized ranking does not\n",
       "match the location of ``q`` exactly. This function is the same as\n",
       "the median if ``q=50``, the same as the minimum if ``q=0`` and the\n",
       "same as the maximum if ``q=100``.\n",
       "\n",
       "Examples\n",
       "--------\n",
       ">>> a = np.array([[10, 7, 4], [3, 2, 1]])\n",
       ">>> a\n",
       "array([[10,  7,  4],\n",
       "       [ 3,  2,  1]])\n",
       ">>> np.percentile(a, 50)\n",
       "3.5\n",
       ">>> np.percentile(a, 50, axis=0)\n",
       "array([[ 6.5,  4.5,  2.5]])\n",
       ">>> np.percentile(a, 50, axis=1)\n",
       "array([ 7.,  2.])\n",
       ">>> np.percentile(a, 50, axis=1, keepdims=True)\n",
       "array([[ 7.],\n",
       "       [ 2.]])\n",
       "\n",
       ">>> m = np.percentile(a, 50, axis=0)\n",
       ">>> out = np.zeros_like(m)\n",
       ">>> np.percentile(a, 50, axis=0, out=out)\n",
       "array([[ 6.5,  4.5,  2.5]])\n",
       ">>> m\n",
       "array([[ 6.5,  4.5,  2.5]])\n",
       "\n",
       ">>> b = a.copy()\n",
       ">>> np.percentile(b, 50, axis=1, overwrite_input=True)\n",
       "array([ 7.,  2.])\n",
       ">>> assert not np.all(a == b)\n",
       "\u001b[0;31mFile:\u001b[0m      ~/anaconda3/envs/PTSA/lib/python3.6/site-packages/numpy/lib/function_base.py\n",
       "\u001b[0;31mType:\u001b[0m      function\n"
      ]
     },
     "metadata": {},
     "output_type": "display_data"
    }
   ],
   "source": [
    "np.percentile?"
   ]
  },
  {
   "cell_type": "code",
   "execution_count": 143,
   "metadata": {},
   "outputs": [
    {
     "data": {
      "text/plain": [
       "\u001b[0;31mSignature:\u001b[0m \u001b[0mnp\u001b[0m\u001b[0;34m.\u001b[0m\u001b[0mpercentile\u001b[0m\u001b[0;34m(\u001b[0m\u001b[0ma\u001b[0m\u001b[0;34m,\u001b[0m \u001b[0mq\u001b[0m\u001b[0;34m,\u001b[0m \u001b[0maxis\u001b[0m\u001b[0;34m=\u001b[0m\u001b[0;32mNone\u001b[0m\u001b[0;34m,\u001b[0m \u001b[0mout\u001b[0m\u001b[0;34m=\u001b[0m\u001b[0;32mNone\u001b[0m\u001b[0;34m,\u001b[0m \u001b[0moverwrite_input\u001b[0m\u001b[0;34m=\u001b[0m\u001b[0;32mFalse\u001b[0m\u001b[0;34m,\u001b[0m \u001b[0minterpolation\u001b[0m\u001b[0;34m=\u001b[0m\u001b[0;34m'linear'\u001b[0m\u001b[0;34m,\u001b[0m \u001b[0mkeepdims\u001b[0m\u001b[0;34m=\u001b[0m\u001b[0;32mFalse\u001b[0m\u001b[0;34m)\u001b[0m\u001b[0;34m\u001b[0m\u001b[0m\n",
       "\u001b[0;31mDocstring:\u001b[0m\n",
       "Compute the qth percentile of the data along the specified axis.\n",
       "\n",
       "Returns the qth percentile(s) of the array elements.\n",
       "\n",
       "Parameters\n",
       "----------\n",
       "a : array_like\n",
       "    Input array or object that can be converted to an array.\n",
       "q : float in range of [0,100] (or sequence of floats)\n",
       "    Percentile to compute, which must be between 0 and 100 inclusive.\n",
       "axis : {int, sequence of int, None}, optional\n",
       "    Axis or axes along which the percentiles are computed. The\n",
       "    default is to compute the percentile(s) along a flattened\n",
       "    version of the array. A sequence of axes is supported since\n",
       "    version 1.9.0.\n",
       "out : ndarray, optional\n",
       "    Alternative output array in which to place the result. It must\n",
       "    have the same shape and buffer length as the expected output,\n",
       "    but the type (of the output) will be cast if necessary.\n",
       "overwrite_input : bool, optional\n",
       "    If True, then allow use of memory of input array `a`\n",
       "    calculations. The input array will be modified by the call to\n",
       "    `percentile`. This will save memory when you do not need to\n",
       "    preserve the contents of the input array. In this case you\n",
       "    should not make any assumptions about the contents of the input\n",
       "    `a` after this function completes -- treat it as undefined.\n",
       "    Default is False. If `a` is not already an array, this parameter\n",
       "    will have no effect as `a` will be converted to an array\n",
       "    internally regardless of the value of this parameter.\n",
       "interpolation : {'linear', 'lower', 'higher', 'midpoint', 'nearest'}\n",
       "    This optional parameter specifies the interpolation method to\n",
       "    use when the desired quantile lies between two data points\n",
       "    ``i < j``:\n",
       "        * linear: ``i + (j - i) * fraction``, where ``fraction``\n",
       "          is the fractional part of the index surrounded by ``i``\n",
       "          and ``j``.\n",
       "        * lower: ``i``.\n",
       "        * higher: ``j``.\n",
       "        * nearest: ``i`` or ``j``, whichever is nearest.\n",
       "        * midpoint: ``(i + j) / 2``.\n",
       "\n",
       "    .. versionadded:: 1.9.0\n",
       "keepdims : bool, optional\n",
       "    If this is set to True, the axes which are reduced are left in\n",
       "    the result as dimensions with size one. With this option, the\n",
       "    result will broadcast correctly against the original array `a`.\n",
       "\n",
       "    .. versionadded:: 1.9.0\n",
       "\n",
       "Returns\n",
       "-------\n",
       "percentile : scalar or ndarray\n",
       "    If `q` is a single percentile and `axis=None`, then the result\n",
       "    is a scalar. If multiple percentiles are given, first axis of\n",
       "    the result corresponds to the percentiles. The other axes are\n",
       "    the axes that remain after the reduction of `a`. If the input\n",
       "    contains integers or floats smaller than ``float64``, the output\n",
       "    data-type is ``float64``. Otherwise, the output data-type is the\n",
       "    same as that of the input. If `out` is specified, that array is\n",
       "    returned instead.\n",
       "\n",
       "See Also\n",
       "--------\n",
       "mean, median, nanpercentile\n",
       "\n",
       "Notes\n",
       "-----\n",
       "Given a vector ``V`` of length ``N``, the ``q``-th percentile of\n",
       "``V`` is the value ``q/100`` of the way from the minimum to the\n",
       "maximum in a sorted copy of ``V``. The values and distances of\n",
       "the two nearest neighbors as well as the `interpolation` parameter\n",
       "will determine the percentile if the normalized ranking does not\n",
       "match the location of ``q`` exactly. This function is the same as\n",
       "the median if ``q=50``, the same as the minimum if ``q=0`` and the\n",
       "same as the maximum if ``q=100``.\n",
       "\n",
       "Examples\n",
       "--------\n",
       ">>> a = np.array([[10, 7, 4], [3, 2, 1]])\n",
       ">>> a\n",
       "array([[10,  7,  4],\n",
       "       [ 3,  2,  1]])\n",
       ">>> np.percentile(a, 50)\n",
       "3.5\n",
       ">>> np.percentile(a, 50, axis=0)\n",
       "array([[ 6.5,  4.5,  2.5]])\n",
       ">>> np.percentile(a, 50, axis=1)\n",
       "array([ 7.,  2.])\n",
       ">>> np.percentile(a, 50, axis=1, keepdims=True)\n",
       "array([[ 7.],\n",
       "       [ 2.]])\n",
       "\n",
       ">>> m = np.percentile(a, 50, axis=0)\n",
       ">>> out = np.zeros_like(m)\n",
       ">>> np.percentile(a, 50, axis=0, out=out)\n",
       "array([[ 6.5,  4.5,  2.5]])\n",
       ">>> m\n",
       "array([[ 6.5,  4.5,  2.5]])\n",
       "\n",
       ">>> b = a.copy()\n",
       ">>> np.percentile(b, 50, axis=1, overwrite_input=True)\n",
       "array([ 7.,  2.])\n",
       ">>> assert not np.all(a == b)\n",
       "\u001b[0;31mFile:\u001b[0m      ~/anaconda3/envs/PTSA/lib/python3.6/site-packages/numpy/lib/function_base.py\n",
       "\u001b[0;31mType:\u001b[0m      function\n"
      ]
     },
     "metadata": {},
     "output_type": "display_data"
    }
   ],
   "source": [
    "np.percentile?"
   ]
  },
  {
   "cell_type": "code",
   "execution_count": 129,
   "metadata": {},
   "outputs": [
    {
     "ename": "ValueError",
     "evalue": "assignment destination is read-only",
     "output_type": "error",
     "traceback": [
      "\u001b[0;31m---------------------------------------------------------------------------\u001b[0m",
      "\u001b[0;31mValueError\u001b[0m                                Traceback (most recent call last)",
      "\u001b[0;32m<ipython-input-129-82f76629d085>\u001b[0m in \u001b[0;36m<module>\u001b[0;34m()\u001b[0m\n\u001b[0;32m----> 1\u001b[0;31m \u001b[0mtest\u001b[0m\u001b[0;34m[\u001b[0m\u001b[0;36m0\u001b[0m\u001b[0;34m]\u001b[0m \u001b[0;34m=\u001b[0m \u001b[0;36m10\u001b[0m\u001b[0;34m\u001b[0m\u001b[0m\n\u001b[0m",
      "\u001b[0;31mValueError\u001b[0m: assignment destination is read-only"
     ]
    }
   ],
   "source": [
    "test[0] = 10"
   ]
  },
  {
   "cell_type": "code",
   "execution_count": 164,
   "metadata": {},
   "outputs": [],
   "source": [
    "test = np.array([('Joe', 22), ('Jill', 23)], dtype=[\n",
    "    ('name', 'U5'), ('age', np.int)])"
   ]
  },
  {
   "cell_type": "code",
   "execution_count": 165,
   "metadata": {},
   "outputs": [
    {
     "data": {
      "text/plain": [
       "array(['Joe', 'Jill'], dtype='<U5')"
      ]
     },
     "execution_count": 165,
     "metadata": {},
     "output_type": "execute_result"
    }
   ],
   "source": [
    "test['name']"
   ]
  },
  {
   "cell_type": "code",
   "execution_count": 166,
   "metadata": {},
   "outputs": [
    {
     "data": {
      "text/plain": [
       "array([22, 23])"
      ]
     },
     "execution_count": 166,
     "metadata": {},
     "output_type": "execute_result"
    }
   ],
   "source": [
    "test['age']"
   ]
  },
  {
   "cell_type": "code",
   "execution_count": null,
   "metadata": {},
   "outputs": [],
   "source": []
  }
 ],
 "metadata": {
  "kernelspec": {
   "display_name": "PTSA",
   "language": "python",
   "name": "ptsa"
  },
  "language_info": {
   "codemirror_mode": {
    "name": "ipython",
    "version": 3
   },
   "file_extension": ".py",
   "mimetype": "text/x-python",
   "name": "python",
   "nbconvert_exporter": "python",
   "pygments_lexer": "ipython3",
   "version": "3.6.5"
  }
 },
 "nbformat": 4,
 "nbformat_minor": 2
}
