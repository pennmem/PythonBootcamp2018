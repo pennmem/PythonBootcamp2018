{
 "cells": [
  {
   "cell_type": "markdown",
   "metadata": {},
   "source": [
    "# Purpose of this notebook:\n",
    "The purpose of this notebook is to document and demo various functions that can be utilized in order to generate a plot of activity or some other statistic onto an averaged subject's brain.\n",
    "\n",
    "In this notebook we will cover the following topics:\n",
    "1). Gathering subject's electrodes and rendering brain surface plots based upon the number of subjects with nearby electrodes\n",
    "2). Plotting a single subject's subsequent memory effect onto an average surface brain\n",
    "\n",
    "At the end of this you'll have created a file which can then be viewed using the various scripts locally (not on rhino)"
   ]
  },
  {
   "cell_type": "markdown",
   "metadata": {},
   "source": [
    "### Relevant imports"
   ]
  },
  {
   "cell_type": "code",
   "execution_count": 19,
   "metadata": {
    "collapsed": true
   },
   "outputs": [],
   "source": [
    "from time import time\n",
    "import numpy as np\n",
    "from scipy.spatial.distance import euclidean\n",
    "from os import path as op\n",
    "from nibabel.freesurfer.io import read_geometry\n",
    "from six import b\n",
    "from scipy import sparse\n",
    "from scipy.sparse import coo_matrix, csr_matrix\n",
    "import nibabel as nib\n",
    "from itertools import product\n",
    "import os, sys\n",
    "import pickle\n",
    "from ptsa.data.readers import TalReader, JsonIndexReader\n",
    "from collections import OrderedDict\n",
    "sys.path.append('/home2/loganf/SecondYear/CML_lib')\n",
    "from GetDataNew import get_subjects"
   ]
  },
  {
   "cell_type": "markdown",
   "metadata": {},
   "source": [
    "### Function to load an atlas of the subject"
   ]
  },
  {
   "cell_type": "code",
   "execution_count": 3,
   "metadata": {
    "collapsed": true
   },
   "outputs": [],
   "source": [
    "def get_subject_brainatlas(subject, experiment, return_channels=False):\n",
    "    \"\"\"Returns a subject's talairach using TalReader and JsonIndexReader\n",
    "    -----\n",
    "    INPUTS:\n",
    "    -----\n",
    "    subject: str, subject ID, e.g. 'R1111M'\n",
    "    experiment: str, experiment, e.g. 'FR1', 'catFR1'\n",
    "    return_channels: bool, default = False, whether to return arrays of\n",
    "                     monopolar and bipolar channels used for EEGReader\n",
    "    ------\n",
    "    OUTPUTS if return_channels is False:\n",
    "    ------\n",
    "    tal_reader.read(): np.recarray, an array containing relevant values \n",
    "                       for electrode localization\n",
    "    ------\n",
    "    OUTPUTS if return_channels is True:\n",
    "    ------                   \n",
    "    mp: np.recarray, monopolar channels used for EEGReader\n",
    "    bp: np.recarray, bipolar channels used for EEGReader\n",
    "    tal_reader.read(): np.recarray, an array containing relevant values \n",
    "                       for electrode localization\n",
    "    \"\"\"\n",
    "    \n",
    "    # Check if we're using this locally or through rhino directly\n",
    "    cwd = os.getcwd()\n",
    "    local = '' if (cwd.split('/')[1][:4] == 'home') else '/Volumes/rhino'\n",
    "    protocol = local + '/protocols/r1.json'\n",
    "    \n",
    "    if experiment == 'pyFR':\n",
    "        path = os.path.join('/data/eeg/', subject, 'tal', subject + '_talLocs_database_bipol.mat')\n",
    "        tal_reader = TalReader(filename=path)\n",
    "        \n",
    "        if return_channels:\n",
    "            mp = tal_reader.get_monopolar_channels()\n",
    "            bp = tal_reader.get_bipolar_pairs()\n",
    "            return mp, bp, tal_reader.read()\n",
    "        \n",
    "        return tal_reader.read()\n",
    "            \n",
    "    # Load the protocol \n",
    "    jr = JsonIndexReader(protocol)\n",
    "    \n",
    "    # Get the path for the TalReader\n",
    "    pairs_path = jr.get_value('pairs', subject=subject, experiment=experiment)\n",
    "    \n",
    "    # Create an instance of the TalReader object\n",
    "    tal_reader = TalReader(filename=pairs_path)\n",
    "    \n",
    "    # If desired, also return the monopolar and bipolar channels\n",
    "    if return_channels:\n",
    "        mp = tal_reader.get_monopolar_channels()\n",
    "        bp = tal_reader.get_bipolar_pairs()\n",
    "        return mp, bp, tal_reader.read()\n",
    "    \n",
    "    # Otherwise just return the tal\n",
    "    return tal_reader.read()"
   ]
  },
  {
   "cell_type": "markdown",
   "metadata": {},
   "source": [
    "# Demo how to create an electrode density plot across all FR1 subjects"
   ]
  },
  {
   "cell_type": "code",
   "execution_count": 4,
   "metadata": {
    "collapsed": true
   },
   "outputs": [],
   "source": [
    "def get_avg_surface_spheres_ranges(radius=10, step=3):\n",
    "    \"\"\" Generates a sphere centroid w/ radius radius in mm stepped every step in mm using average subject brain\n",
    "\n",
    "    Parameters\n",
    "    ------INPUTS------\n",
    "    radius: int, by default 10, the radius in mm of the average surface spheres to generate\n",
    "    step: int, by default 3, the step in mm of the average surface spheres to generate\n",
    "    ------OUTPUTS-----\n",
    "    x_range, y_range, z_range: np.array, range of valid values with discrete steps.\n",
    "    \"\"\"\n",
    "    # Format path for local mounted vs local access\n",
    "    basedir = '/data/eeg/freesurfer/subjects/'\n",
    "    if not os.path.exists(basedir):\n",
    "        basedir = os.path.join('/Volumes/rhino', basedir)\n",
    "\n",
    "        # Get cortical surface of average patient right and left hemi\n",
    "    rh = nib.freesurfer.read_geometry(os.path.join(basedir, 'average/surf/rh.pial'))\n",
    "    lh = nib.freesurfer.read_geometry(os.path.join(basedir, 'average/surf/lh.pial'))\n",
    "    surface = np.concatenate((lh[0], rh[0]))\n",
    "\n",
    "    # Get minimum and maximum x value, use parameters to make range\n",
    "    x_min, x_max = np.min(surface[:, 0]), np.max(surface[:, 0])\n",
    "    x_range = np.arange(x_min + radius, x_max - radius, step)\n",
    "\n",
    "    # Get minimum and maximum y value, use parameters to make range\n",
    "    y_min, y_max = np.min(surface[:, 1]), np.max(surface[:, 1])\n",
    "    y_range = np.arange(y_min + radius, y_max - radius, step)\n",
    "\n",
    "    # Get minimum and maximum z value, use parameters to make range\n",
    "    z_min, z_max = np.min(surface[:, 2]), np.max(surface[:, 2])\n",
    "    z_range = np.arange(z_min + radius, z_max - radius, step)\n",
    "\n",
    "    return x_range, y_range, z_range\n",
    "\n",
    "\n",
    "def get_avg_surface_spheres(subject, experiment, radius=10, step=3, as_index=True):\n",
    "    \"\"\"Returns a dictionary where each key is str(x)_str(y)_str(z) in average subject space\n",
    "    and values are corresponding bipolar channel names (['061', '062', etc.]) or their index\n",
    "    within radius mm of the atlas brain\n",
    "\n",
    "    Parameters\n",
    "    ------INPUTS------\n",
    "    subject: str, subject_id,\n",
    "    radius: int, by default 10, the radius in mm of the average surface spheres to generate\n",
    "    step: int, by default 3, the step in mm of the average surface spheres to generate\n",
    "    as_index: bool, by default True, whether to return the indicies rather than the raw values for\n",
    "              the bipolar_pairs that match\n",
    "    ------OUTPUTS------\n",
    "    subject_sphere_d: dictionary of matches\n",
    "    \"\"\"\n",
    "    \n",
    "    mp, bp, atlas = get_subject_brainatlas(subject, experiment, return_channels=True)\n",
    "    # For loop only necessary for older versions of ptsa compatibility...\n",
    "    # Otherwise direct indexing is obviously better and can be changed to that\n",
    "    coords = np.concatenate([np.vstack((avg['atlases']['avg.dural']['x'], \n",
    "                                        avg['atlases']['avg.dural']['y'], \n",
    "                                        avg['atlases']['avg.dural']['z'])).T\n",
    "                             for avg in atlas])\n",
    "\n",
    "    # x,y,z boundries of avg brain stepped every step with a spherical radius of radius\n",
    "    x_range, y_range, z_range = get_avg_surface_spheres_ranges(radius=radius, step=step)\n",
    "\n",
    "    subject_sphere_d = {}  # Add data here\n",
    "\n",
    "    # Use itertools to make essentially a nested for loop of them\n",
    "    # E.g. as if we did for x in x_range: for y in y_range: for z in z_range:\n",
    "    for sphere_center in product(x_range, y_range, z_range):\n",
    "\n",
    "        # Find distance of each center to all coords\n",
    "        dist = np.linalg.norm(coords - np.array(sphere_center), axis=1)\n",
    "\n",
    "        # Find where it's closer than the defined radius\n",
    "        matches = np.where(dist < radius)\n",
    "\n",
    "        # If there are any matches add it to the dictionary\n",
    "        if len(matches[0]) > 0:\n",
    "            x, y, z = sphere_center\n",
    "            # Format key as a union of x_y_x coordinates\n",
    "            key = (str(x.round(2)) + '_' + str(y.round(2)) + '_' + str(z.round(2)))\n",
    "            if as_index:\n",
    "                subject_sphere_d[key] = matches\n",
    "            else:\n",
    "                subject_sphere_d[key] = bp[matches]\n",
    "\n",
    "    return subject_sphere_d"
   ]
  },
  {
   "cell_type": "markdown",
   "metadata": {},
   "source": [
    "### Get all FR1 subjects"
   ]
  },
  {
   "cell_type": "code",
   "execution_count": 66,
   "metadata": {
    "collapsed": false,
    "scrolled": true
   },
   "outputs": [
    {
     "name": "stdout",
     "output_type": "stream",
     "text": [
      "Help on function get_subjects in module GetDataNew:\n",
      "\n",
      "get_subjects(experiment)\n",
      "    Return an array of subjects who participanted in the given experiment\n",
      "    \n",
      "    PARAMETERS\n",
      "    ------\n",
      "    INPUTS:\n",
      "    experiment: str, the kind of experiment to input, for RAM subjects use json reader field for json files and\n",
      "                matlab folders for matlab files\n",
      "    \n",
      "                ###Accepted arguments###\n",
      "                valid json experiments:\n",
      "                    [u'FR1', u'FR2', u'FR3', u'FR5', u'FR6', u'PAL1', u'PAL2',\n",
      "                     u'PAL3', u'PAL5', u'PS1', u'PS2', u'PS2.1', u'PS3', u'PS4_FR',\n",
      "                     u'PS4_catFR', u'PS5_catFR', u'TH1', u'TH3', u'THR', u'THR1',\n",
      "                     u'YC1', u'YC2', u'catFR1', u'catFR2', u'catFR3', u'catFR5', u'catFR6']\n",
      "    \n",
      "                valid matlab experiments:\n",
      "                    ['RAM_CatFR1' 'RAM_CatFR2' 'RAM_CatFR3' 'RAM_DBS1' 'RAM_DBS2' 'RAM_FR1'\n",
      "                     'RAM_FR1-restored' 'RAM_FR2' 'RAM_FR3' 'RAM_FR3_pilot' 'RAM_FR4'\n",
      "                     'RAM_PAL1' 'RAM_PAL2' 'RAM_PAL3' 'RAM_PS' 'RAM_TH1' 'RAM_TH3' 'RAM_THR'\n",
      "                     'RAM_YC1' 'RAM_YC2' 'classFR' 'dBoy25_scalp' 'dBoy30' 'dboy' 'iCatFR'\n",
      "                     'localGlobalTones' 'ltpFR' 'motormap' 'pa3' 'pa3_stim' 'prob_sel2' 'pyFR'\n",
      "                     'pyFR_stim' 'pyFR_stim2' 'pyFR_theta' 'pymms' 'realTime_recog' 'tones2.1'\n",
      "                     'tones3.0' 'trackball' 'train']\n",
      "    \n",
      "                valid scalp json experiments:\n",
      "                    [u'ltpFR2']\n",
      "    ------\n",
      "    OUTPUTS:\n",
      "    subs: np.array, an array of subjects in the experiment\n",
      "    \n",
      "    NOTES ON RAM USUAGE:\n",
      "    ----------\n",
      "    by default 'FR1' will get you json version of events whereas 'RAM_FR1' will get you matlab version\n",
      "\n",
      "None\n",
      "251\n"
     ]
    }
   ],
   "source": [
    "print(help(get_subjects))\n",
    "f_subjects = get_subjects(experiment='FR1')\n",
    "print(len(f_subjects))"
   ]
  },
  {
   "cell_type": "markdown",
   "metadata": {},
   "source": [
    "### Make a dictionary with the number of subjects that have a bipolar pair within a given area"
   ]
  },
  {
   "cell_type": "code",
   "execution_count": 28,
   "metadata": {
    "collapsed": false,
    "scrolled": true
   },
   "outputs": [
    {
     "name": "stdout",
     "output_type": "stream",
     "text": [
      "Total Time of R1001P: 2.19023895264\n",
      "Total Time of R1002P: 1.85484600067\n",
      "Total Time of R1003P: 2.16330695152\n",
      "Total Time of R1006P: 2.09743094444\n",
      "Total Time of R1010J: 2.19923186302\n",
      "Total Time of R1015J: 2.20999908447\n",
      "Total Time of R1018P: 2.09105110168\n",
      "Total Time of R1020J: 2.05608105659\n",
      "Total Time of R1022J: 1.91049098969\n",
      "Total Time of R1023J: 2.05374288559\n",
      "Total Time of R1026D: 2.03185105324\n",
      "Total Time of R1027J: 2.10671901703\n",
      "Total Time of R1030J: 2.03660607338\n",
      "Total Time of R1031M: 1.66036295891\n",
      "Total Time of R1032D: 2.12924098969\n",
      "Total Time of R1033D: 2.12403488159\n",
      "Total Time of R1034D: 2.20876383781\n",
      "Total Time of R1035M: 2.00627589226\n",
      "Total Time of R1036M: 1.99292111397\n",
      "Total Time of R1039M: 2.30075001717\n",
      "Total Time of R1042M: 2.03156900406\n",
      "Total Time of R1044J: 2.22338318825\n",
      "Total Time of R1045E: 2.0809700489\n",
      "Total Time of R1048E: 1.81783819199\n",
      "Total Time of R1049J: 2.02835488319\n",
      "Total Time of R1050M: 1.94265699387\n",
      "Total Time of R1051J: 1.81959915161\n",
      "Total Time of R1052E: 2.20301485062\n",
      "Total Time of R1053M: 2.09824419022\n",
      "Total Time of R1054J: 2.16356277466\n",
      "Total Time of R1056M: 2.05333209038\n",
      "Total Time of R1057E: 2.11564397812\n",
      "Total Time of R1059J: 2.26880192757\n",
      "Total Time of R1060M: 1.93708395958\n",
      "Total Time of R1061T: 2.03981208801\n",
      "Total Time of R1062J: 2.15137195587\n",
      "Total Time of R1063C: 2.15716695786\n",
      "Total Time of R1065J: 2.21446800232\n",
      "Total Time of R1066P: 2.67152810097\n",
      "Total Time of R1067P: 2.18928289413\n",
      "Total Time of R1068J: 1.94059300423\n",
      "Total Time of R1069M: 2.40519785881\n",
      "Total Time of R1070T: 2.17283987999\n",
      "Total Time of R1074M: 2.28225898743\n",
      "Total Time of R1075J: 2.08805584908\n",
      "Total Time of R1076D: 1.86610102654\n",
      "Total Time of R1077T: 2.18677306175\n",
      "Total Time of R1080E: 2.52087306976\n",
      "Total Time of R1081J: 2.3285369873\n",
      "Total Time of R1083J: 2.67056488991\n",
      "Total Time of R1084T: 2.7200319767\n",
      "Total Time of R1086M: 2.33720397949\n",
      "Total Time of R1089P: 2.56987214088\n",
      "Total Time of R1092J: 2.61983895302\n",
      "Total Time of R1093J: 2.39410114288\n",
      "Total Time of R1094T: 2.355052948\n",
      "Total Time of R1096E: 2.4061460495\n",
      "Total Time of R1098D: 2.50172114372\n",
      "Total Time of R1100D: 2.60697317123\n",
      "Total Time of R1101T: 4.98071980476\n",
      "Total Time of R1102P: 3.09179496765\n",
      "Total Time of R1104D: 2.60219907761\n",
      "Total Time of R1105E: 2.2488720417\n",
      "Total Time of R1106M: 2.23332691193\n",
      "Total Time of R1108J: 2.51184296608\n",
      "Total Time of R1111M: 4.38666582108\n",
      "Total Time of R1112M: 2.71434593201\n",
      "Total Time of R1113T: 3.69234395027\n",
      "Total Time of R1114C: 3.19936704636\n",
      "Total Time of R1115T: 3.46925997734\n",
      "Total Time of R1118N: 3.95794391632\n",
      "Total Time of R1120E: 3.23572301865\n",
      "Total Time of R1121M: 4.78476309776\n",
      "Total Time of R1122E: 3.03870081902\n",
      "Total Time of R1123C: 3.82316589355\n",
      "Total Time of R1124J: 5.16744589806\n",
      "Total Time of R1125T: 4.04561209679\n",
      "Total Time of R1127P: 3.44782209396\n",
      "Total Time of R1128E: 3.81305789948\n",
      "Total Time of R1129D: 3.88145303726\n",
      "Total Time of R1130M: 4.13938188553\n",
      "Total Time of R1131M: 4.1301381588\n",
      "Total Time of R1134T: 3.869576931\n",
      "Total Time of R1135E: 5.08597993851\n",
      "Total Time of R1136N: 4.22340202332\n",
      "Total Time of R1137E: 4.33055710793\n",
      "Total Time of R1138T: 4.63129806519\n",
      "Total Time of R1142N: 4.65721416473\n",
      "Total Time of R1145J: 4.37196707726\n",
      "Total Time of R1146E: 4.67333817482\n",
      "Total Time of R1147P: 6.11909103394\n",
      "Total Time of R1148P: 3.49790787697\n",
      "Total Time of R1149N: 3.91353583336\n",
      "Total Time of R1150J: 4.7744679451\n",
      "Total Time of R1151E: 4.69367003441\n",
      "Total Time of R1153T: 4.16436600685\n",
      "Total Time of R1154D: 4.70465302467\n",
      "Total Time of R1155D: 4.96617794037\n",
      "Total Time of R1156D: 3.48732089996\n",
      "Total Time of R1158T: 3.38408493996\n",
      "Total Time of R1159P: 6.21694493294\n",
      "Total Time of R1161E: 4.2611951828\n",
      "Total Time of R1162N: 5.07782912254\n",
      "Total Time of R1163T: 2.93079805374\n",
      "Total Time of R1164E: 3.89105606079\n",
      "Total Time of R1166D: 3.47312998772\n",
      "Total Time of R1167M: 3.40911602974\n",
      "Total Time of R1168T: 3.06770300865\n",
      "Total Time of R1169P: 2.86467003822\n",
      "Total Time of R1170J: 4.51802802086\n",
      "Total Time of R1171M: 3.49126315117\n",
      "Total Time of R1172E: 3.5817489624\n",
      "Total Time of R1173J: 3.52664208412\n",
      "Total Time of R1174T: 2.72891783714\n",
      "Total Time of R1175N: 2.68058300018\n",
      "Total Time of R1176M: 3.77311205864\n",
      "Total Time of R1177M: 3.48368191719\n",
      "Total Time of R1178P: 2.81699299812\n",
      "Total Time of R1184M: 4.14652705193\n",
      "Total Time of R1185N: 5.37946391106\n",
      "Total Time of R1186P: 4.70974707603\n",
      "Total Time of R1187P: 2.6059949398\n",
      "Total Time of R1189M: 3.6383202076\n",
      "Total Time of R1191J: 2.89946198463\n",
      "Total Time of R1193T: 3.788022995\n",
      "Total Time of R1195E: 2.83710122108\n",
      "Total Time of R1196N: 3.22364807129\n",
      "Total Time of R1198M: 3.78851509094\n",
      "Total Time of R1200T: 3.45018196106\n",
      "Total Time of R1201P: 4.15763497353\n",
      "Total Time of R1202M: 3.16461110115\n",
      "Total Time of R1203T: 3.60385394096\n",
      "Total Time of R1204T: 5.35516309738\n",
      "Total Time of R1207J: 4.22297382355\n",
      "Total Time of R1212P: 4.40359687805\n",
      "ufunc 'subtract' did not contain a loop with signature matching types dtype('<U32') dtype('<U32') dtype('<U32')\n",
      "R1214M\n",
      "Total Time of R1215M: 4.08601593971\n",
      "Total Time of R1216E: 5.92566680908\n",
      "Total Time of R1217T: 4.34238910675\n",
      "Total Time of R1221P: 4.85395002365\n",
      "Total Time of R1222M: 4.06288599968\n",
      "Total Time of R1223E: 2.94990706444\n",
      "Total Time of R1226D: 4.61549687386\n",
      "Total Time of R1228M: 4.52047896385\n",
      "Total Time of R1229M: 4.53893899918\n",
      "Total Time of R1230J: 3.4631588459\n",
      "Total Time of R1231M: 3.09040999413\n",
      "Total Time of R1232N: 3.05727601051\n",
      "Total Time of R1234D: 2.97409200668\n",
      "Total Time of R1236J: 3.90009593964\n",
      "Total Time of R1240T: 4.56765294075\n",
      "Total Time of R1241J: 4.10137581825\n",
      "Total Time of R1243T: 2.4794819355\n",
      "Total Time of R1247P: 2.70381593704\n",
      "Total Time of R1250N: 3.30249881744\n",
      "Total Time of R1251M: 3.62732291222\n",
      "Total Time of R1260D: 3.59601187706\n",
      "Total Time of R1264P: 2.48758506775\n",
      "Total Time of R1268T: 3.77215194702\n",
      "Total Time of R1274T: 2.18059802055\n",
      "Total Time of R1275D: 3.633852005\n",
      "Total Time of R1277J: 3.66436004639\n",
      "Total Time of R1281E: 3.53306484222\n",
      "Total Time of R1283T: 3.75612711906\n",
      "Total Time of R1286J: 2.88120794296\n",
      "Total Time of R1288P: 3.99050402641\n",
      "Total Time of R1290M: 3.30464482307\n",
      "Total Time of R1291M: 2.92301297188\n",
      "Total Time of R1292E: 3.08010196686\n",
      "Total Time of R1293P: 2.87417793274\n",
      "Total Time of R1297T: 3.89326405525\n",
      "Total Time of R1298E: 3.73989009857\n",
      "Total Time of R1299T: 3.74349713326\n",
      "Total Time of R1302M: 3.23601794243\n",
      "Total Time of R1304N: 2.70591592789\n",
      "Total Time of R1306E: 5.21884799004\n",
      "Total Time of R1307N: 3.67175602913\n",
      "Total Time of R1308T: 4.66231513023\n",
      "Total Time of R1309M: 4.3523709774\n",
      "Total Time of R1310J: 4.02001309395\n",
      "Total Time of R1311T: 3.42047905922\n",
      "Total Time of R1313J: 2.57645106316\n",
      "Total Time of R1315T: 3.22195005417\n",
      "Total Time of R1316T: 3.67867708206\n",
      "Total Time of R1317D: 4.44015312195\n",
      "Total Time of R1318N: 2.63755202293\n",
      "Total Time of R1320D: 3.33748817444\n",
      "Total Time of R1321M: 2.82548904419\n",
      "Total Time of R1323T: 3.48886680603\n",
      "Total Time of R1324M: 3.40175890923\n",
      "Total Time of R1325C: 2.43969798088\n",
      "Total Time of R1328E: 2.24955415726\n",
      "Total Time of R1329T: 2.69657993317\n",
      "Total Time of R1330D: 3.07861185074\n",
      "Total Time of R1331T: 2.72034406662\n",
      "Total Time of R1332M: 2.17878603935\n",
      "Total Time of R1334T: 3.04234886169\n",
      "Total Time of R1336T: 3.2437980175\n",
      "Total Time of R1337E: 2.81874990463\n",
      "Total Time of R1338T: 2.88213181496\n",
      "Total Time of R1339D: 3.53041911125\n",
      "Total Time of R1341T: 2.88154792786\n",
      "Total Time of R1342M: 2.8220911026\n",
      "string indices must be integers\n",
      "R1345D\n",
      "Total Time of R1346T: 2.94783091545\n",
      "string indices must be integers\n",
      "R1347D\n",
      "Total Time of R1349T: 2.82017087936\n",
      "string indices must be integers\n",
      "R1350D\n",
      "string indices must be integers\n",
      "R1351M\n",
      "'avg.dural'\n",
      "R1354E\n",
      "'avg.dural'\n",
      "R1355T\n",
      "string indices must be integers\n",
      "R1358T\n",
      "'avg.dural'\n",
      "R1361C\n",
      "string indices must be integers\n",
      "R1363T\n",
      "string indices must be integers\n",
      "R1364C\n",
      "'avg.dural'\n",
      "R1367D\n",
      "string indices must be integers\n",
      "R1368T\n",
      "string indices must be integers\n",
      "R1373T\n",
      "'avg.dural'\n",
      "R1374T\n",
      "'avg.dural'\n",
      "R1375C\n",
      "'avg.dural'\n",
      "R1376D\n",
      "'avg.dural'\n",
      "R1377M\n",
      "string indices must be integers\n",
      "R1378T\n",
      "'avg.dural'\n",
      "R1379E\n",
      "'avg.dural'\n",
      "R1380D\n",
      "string indices must be integers\n",
      "R1381T\n",
      "'avg.dural'\n",
      "R1383J\n",
      "'avg.dural'\n",
      "R1384J\n",
      "'avg.dural'\n",
      "R1385E\n",
      "'avg.dural'\n",
      "R1386T\n",
      "'avg.dural'\n",
      "R1387E\n",
      "'avg.dural'\n",
      "R1390M\n",
      "'avg.dural'\n",
      "R1391T\n",
      "string indices must be integers\n",
      "R1393T\n",
      "Expected 1 value for pairs, found 2\n",
      "R1394E\n",
      "string indices must be integers\n",
      "R1395M\n",
      "string indices must be integers\n",
      "R1396T\n",
      "'avg.dural'\n",
      "R1397D\n",
      "string indices must be integers\n",
      "R1398J\n",
      "string indices must be integers\n",
      "R1401J\n",
      "'avg.dural'\n",
      "R1402E\n",
      "string indices must be integers\n",
      "R1404E\n",
      "Expected 1 value for pairs, found 2\n",
      "R1405E\n",
      "string indices must be integers\n",
      "R1406M\n",
      "'avg.dural'\n",
      "R1409D\n",
      "string indices must be integers\n",
      "R1412M\n",
      "string indices must be integers\n",
      "R1414E\n",
      "'avg.dural'\n",
      "R1415T\n",
      "'avg.dural'\n",
      "R1416T\n",
      "'avg.dural'\n",
      "R1420T\n",
      "string indices must be integers\n",
      "R1421M\n",
      "Total Time all subjects: -712.97360301\n"
     ]
    }
   ],
   "source": [
    "subject_density_dict = OrderedDict()\n",
    "    \n",
    "start_time = time()\n",
    "# Go through each subject and see which centroids they have bipolar pairs in\n",
    "for i, subject in enumerate(f_subjects):\n",
    "    try:\n",
    "        s = time()\n",
    "        subject_sphere_dict = get_avg_surface_spheres(subject=subject, \n",
    "                                                      experiment='FR1', \n",
    "                                                      radius=10, \n",
    "                                                      step=3, \n",
    "                                                      as_index=True)\n",
    "        # Go through each x_y_z point and add it to the subject dictionary\n",
    "        for k,v in enumerate(subject_sphere_dict):\n",
    "            if v not in subject_density_dict:\n",
    "                subject_density_dict[v] = []\n",
    "            if v in subject_density_dict:\n",
    "                subject_density_dict[v].append(1)\n",
    "        print('Total Time of {}: {}'.format(subject, time()-s))\n",
    "        \n",
    "    except Exception as e:\n",
    "        print(e)\n",
    "        print(subject)\n",
    "        continue\n",
    "print('Total Time all subjects: {}'.format(start_time-time()))  "
   ]
  },
  {
   "cell_type": "markdown",
   "metadata": {},
   "source": [
    "# Code for label writing"
   ]
  },
  {
   "cell_type": "code",
   "execution_count": 62,
   "metadata": {
    "collapsed": true
   },
   "outputs": [],
   "source": [
    "import time\n",
    "\n",
    "class Label(object):\n",
    "    \"\"\"Code Written by Jim Kregal&Logan Fickling for writing annotation labels to the surface of \n",
    "    an averaged subject brain\"\"\"\n",
    "\n",
    "    def __init__(self, tal, pos=None, values=None, hemi=None, comment=\"\",\n",
    "                 name=None, outdir=None, subject=None, verbose=None,\n",
    "                 basedir='/data/eeg/freesurfer/subjects/', radius=3.0,\n",
    "                 stat=None, smooth=0.0, x=None, y=None, z=None):\n",
    "        if hemi == 'lh':\n",
    "            self.surf = basedir + 'average/surf/lh.pial'\n",
    "\n",
    "        elif hemi == 'rh':\n",
    "            self.surf = basedir + 'average/surf/rh.pial'\n",
    "\n",
    "        if x is None:\n",
    "            x = tal['atlases']['avg.dural']['x']\n",
    "\n",
    "        if y is None:\n",
    "            y = tal['atlases']['avg.dural']['y']\n",
    "\n",
    "        if z is None:\n",
    "            z = tal['atlases']['avg.dural']['z']\n",
    "\n",
    "        pos = np.vstack((x, y, z)).T\n",
    "\n",
    "        # need to filter all the electrodes by hemisphere\n",
    "        if hemi == 'lh':\n",
    "            stat = stat[pos[:, 0] < 0]\n",
    "            pos = pos[pos[:, 0] < 0]\n",
    "        elif hemi == 'rh':\n",
    "            stat = stat[pos[:, 0] > 0]\n",
    "            pos = pos[pos[:, 0] > 0]\n",
    "\n",
    "        # TODO: may want to exclude depth electrodes\n",
    "        # TODO: may want to have minimum distance to surface\n",
    "\n",
    "        self.surface = nib.freesurfer.read_geometry(os.path.join(basedir, 'average' + '/surf/' + hemi + '.pial'))\n",
    "        self.cortex = np.sort(\n",
    "            nib.freesurfer.read_label(os.path.join(basedir, 'average' + '/label/' + hemi + '.cortex.label')))\n",
    "        self.sulc = nib.freesurfer.read_morph_data(os.path.join(basedir, 'average' + '/surf/lh.sulc'))\n",
    "\n",
    "        self.pos = pos\n",
    "        self.stat = stat\n",
    "\n",
    "        self.radius = radius\n",
    "        self.hemi = hemi\n",
    "        self.comment = comment\n",
    "        self.verbose = verbose\n",
    "        self.subject = subject\n",
    "        self.name = name\n",
    "        self.outdir = outdir\n",
    "        self.smooth = smooth / 2.35482\n",
    "\n",
    "    def map_stat_to_label(self):\n",
    "        \"\"\"Main function to call, writes a file that can then be read onto a brain surface\"\"\"\n",
    "        self.coords, faces, vertices = self.get_vertices_from_surf()\n",
    "\n",
    "        fnames = []\n",
    "        elec_vertices = np.empty(self.pos.shape[0], dtype=int)\n",
    "\n",
    "        filename = op.join(self.outdir, self.subject)\n",
    "        path_head, name = op.split(filename)\n",
    "        if name.endswith('.label'):\n",
    "            name = name[:-6]\n",
    "        if not (name.startswith(self.hemi) or name.endswith(self.hemi)):\n",
    "            name += '-' + self.hemi\n",
    "        filename = op.join(path_head, name) + '.label'\n",
    "\n",
    "        start_time = time.time()\n",
    "\n",
    "        self.counts = np.full(len(vertices), 0)\n",
    "        self.vertices = vertices\n",
    "        self.values = np.full(len(vertices), 0.)\n",
    "\n",
    "        connectivity = mesh_dist(self.surface[1], self.surface[0])\n",
    "\n",
    "        for i, elec_coord in enumerate(self.pos):\n",
    "            elec_vertices[i] = self.get_nearest_vertex(elec_coord)[0]\n",
    "\n",
    "        elec_dists = sparse.csgraph.dijkstra(connectivity, indices=elec_vertices)\n",
    "\n",
    "        for i, e_dist in enumerate(elec_dists):\n",
    "            self.values[np.where(((e_dist < self.radius) & (e_dist > 0.0)) | (vertices == elec_vertices[i]))] += \\\n",
    "            self.stat[i]\n",
    "            self.counts[np.where(((e_dist < self.radius) & (e_dist > 0.0)) | (vertices == elec_vertices[i]))] += 1\n",
    "\n",
    "        self.values = self.values / self.counts\n",
    "        # TODO: may want to remove vertices, pos, values where there is no data to make a smaller label files\n",
    "        label = write_label(filename, self)\n",
    "        fnames.append(filename)\n",
    "\n",
    "        return fnames\n",
    "\n",
    "    def get_vertices_from_surf(self):\n",
    "        '''\n",
    "\n",
    "        :param hemi:\n",
    "        :return:\n",
    "        '''\n",
    "\n",
    "        coords, faces = read_geometry(self.surf)\n",
    "        vertices = np.arange(coords.shape[0])\n",
    "        return coords, faces, vertices\n",
    "\n",
    "    def get_nearest_vertex(self, elec_coord):\n",
    "        '''\n",
    "\n",
    "        :return:\n",
    "        '''\n",
    "\n",
    "        dist = np.linalg.norm(self.coords - elec_coord, axis=1)\n",
    "        idx = np.where(dist == dist.min())[0]\n",
    "\n",
    "        return idx\n",
    "\n",
    "\n",
    "def write_label(filename, label, verbose=None):\n",
    "    \"\"\"Write a FreeSurfer label.\n",
    "    Parameters\n",
    "    ----------\n",
    "    filename : string\n",
    "        Path to label file to produce.\n",
    "    label : Label\n",
    "        The label object to save.\n",
    "    verbose : bool, str, int, or None\n",
    "        If not None, override default verbose level (see :func:`mne.verbose`\n",
    "        and :ref:`Logging documentation <tut_logging>` for more).\n",
    "    Notes\n",
    "    -----\n",
    "    Note that due to file specification limitations, the Label's subject and\n",
    "    color attributes are not saved to disk.\n",
    "    See Also\n",
    "    --------\n",
    "    write_labels_to_annot\n",
    "    \"\"\"\n",
    "\n",
    "    with open(filename, 'wb') as fid:\n",
    "        n_vertices = len(label.vertices)\n",
    "        data = np.zeros((n_vertices, 5), dtype=np.float)\n",
    "        data[:, 0] = label.vertices\n",
    "        data[:, 1:4] = label.coords  # self.pos #1e3 *\n",
    "        data[:, 4] = label.values\n",
    "        fid.write(b(\"#%s\\n\" % label.comment))\n",
    "        fid.write(b(\"%d\\n\" % n_vertices))\n",
    "        for d in data:\n",
    "            fid.write(b(\"%d %f %f %f %f\\n\" % tuple(d)))\n",
    "    return label\n",
    "\n",
    "\n",
    "def average_duplicates(vertices, pos, values):\n",
    "    result_vertices = np.unique(vertices)\n",
    "    result_values = np.empty(result_vertices.shape)\n",
    "    result_pos = np.empty((1, len(result_vertices), 3))\n",
    "\n",
    "    for i, vertex in enumerate(result_vertices):\n",
    "        result_values[i] = np.mean(values[vertices == vertex])\n",
    "        result_pos[0, i, :] = np.mean(pos[0, vertices == vertex, :], axis=0)\n",
    "\n",
    "    return result_vertices, result_pos, result_values\n",
    "\n",
    "\n",
    "def gaussian(dist, sig):\n",
    "    return np.exp(-np.power(dist, 2.) / (2 * np.power(sig, 2.)))\n",
    "\n",
    "\n",
    "def mesh_edges(tris):\n",
    "    \"\"\"Return sparse matrix with edges as an adjacency matrix.\n",
    "    Parameters\n",
    "    ----------\n",
    "    tris : array of shape [n_triangles x 3]\n",
    "        The triangles.\n",
    "    Returns\n",
    "    -------\n",
    "    edges : sparse matrix\n",
    "        The adjacency matrix.\n",
    "    \"\"\"\n",
    "    if np.max(tris) > len(np.unique(tris)):\n",
    "        raise ValueError('Cannot compute connectivity on a selection of '\n",
    "                         'triangles.')\n",
    "\n",
    "    npoints = np.max(tris) + 1\n",
    "    ones_ntris = np.ones(3 * len(tris))\n",
    "\n",
    "    a, b, c = tris.T\n",
    "    x = np.concatenate((a, b, c))\n",
    "    y = np.concatenate((b, c, a))\n",
    "    edges = coo_matrix((ones_ntris, (x, y)), shape=(npoints, npoints))\n",
    "    edges = edges.tocsr()\n",
    "    edges = edges + edges.T\n",
    "    return edges\n",
    "\n",
    "\n",
    "def mesh_dist(tris, vert):\n",
    "    \"\"\"Compute adjacency matrix weighted by distances.\n",
    "    It generates an adjacency matrix where the entries are the distances\n",
    "    between neighboring vertices.\n",
    "    Parameters\n",
    "    ----------\n",
    "    tris : array (n_tris x 3)\n",
    "        Mesh triangulation\n",
    "    vert : array (n_vert x 3)\n",
    "        Vertex locations\n",
    "    Returns\n",
    "    -------\n",
    "    dist_matrix : scipy.sparse.csr_matrix\n",
    "        Sparse matrix with distances between adjacent vertices\n",
    "    \"\"\"\n",
    "    edges = mesh_edges(tris).tocoo()\n",
    "\n",
    "    # Euclidean distances between neighboring vertices\n",
    "    dist = np.linalg.norm(vert[edges.row, :] - vert[edges.col, :], axis=1)\n",
    "    dist_matrix = csr_matrix((dist, (edges.row, edges.col)), shape=edges.shape)\n",
    "    return dist_matrix"
   ]
  },
  {
   "cell_type": "markdown",
   "metadata": {},
   "source": [
    "### Prepare the data for the object used to create brain plots"
   ]
  },
  {
   "cell_type": "code",
   "execution_count": 56,
   "metadata": {
    "collapsed": false
   },
   "outputs": [],
   "source": [
    "my_label_d = OrderedDict()\n",
    "for k,v in enumerate(subject_density_dict):\n",
    "    my_label_d[v] = sum(subject_density_dict[v])"
   ]
  },
  {
   "cell_type": "code",
   "execution_count": 57,
   "metadata": {
    "collapsed": false
   },
   "outputs": [],
   "source": [
    "def split_keys_to_xyz_coords(dictionary):\n",
    "    \"\"\"Return arrays of x y and z coordinates from a dictionary withs keys set up like 'x_y_z' \n",
    "    dictionary: dict, dictionary with keys being xyz coords and values being stats\n",
    "    returns\n",
    "    x, y, z: np.array, arrays of x y or z values\n",
    "    \"\"\"\n",
    "    x = map(lambda s:float(s.split('_')[0]), dictionary.keys())\n",
    "    y = map(lambda s:float(s.split('_')[1]), dictionary.keys())\n",
    "    z = map(lambda s:float(s.split('_')[2]), dictionary.keys())\n",
    "    return np.array(x), np.array(y), np.array(z)"
   ]
  },
  {
   "cell_type": "code",
   "execution_count": 58,
   "metadata": {
    "collapsed": false
   },
   "outputs": [],
   "source": [
    "X, Y, Z = split_keys_to_xyz_coords(my_label_d)\n",
    "stats = np.array(my_label_d.values())\n",
    "atlas = get_subject_brainatlas('R1111M', 'FR1', return_channels=False)\n",
    "label_name = 'all_fr1_electrodes' # What we want to call the file\n",
    "label_dir = '/scratch/loganf/' # where we want to save\n"
   ]
  },
  {
   "cell_type": "markdown",
   "metadata": {},
   "source": [
    "# Generate plots for left hemisphere"
   ]
  },
  {
   "cell_type": "code",
   "execution_count": 64,
   "metadata": {
    "collapsed": false
   },
   "outputs": [
    {
     "name": "stderr",
     "output_type": "stream",
     "text": [
      "/home2/loganf/anaconda3/envs/ptsa_fresh/lib/python2.7/site-packages/ipykernel_launcher.py:88: RuntimeWarning: invalid value encountered in divide\n"
     ]
    },
    {
     "name": "stdout",
     "output_type": "stream",
     "text": [
      "2572.12319613\n"
     ]
    }
   ],
   "source": [
    "s = time.time()\n",
    "my_label = Label(tal=atlas, pos=None, values=None, hemi='lh', comment=\"\",\n",
    "                 name=None, outdir=label_dir, subject=label_name, verbose=None,\n",
    "                 basedir='/data/eeg/freesurfer/subjects/', radius=10.,\n",
    "                 stat=stats, smooth=3.0, x=X, y=Y, z=Z)\n",
    "my_label.map_stat_to_label()\n",
    "print(time.time()-s)"
   ]
  },
  {
   "cell_type": "markdown",
   "metadata": {},
   "source": [
    "# Generate plots for Right hemisphere"
   ]
  },
  {
   "cell_type": "code",
   "execution_count": 65,
   "metadata": {
    "collapsed": false
   },
   "outputs": [
    {
     "name": "stderr",
     "output_type": "stream",
     "text": [
      "/home2/loganf/anaconda3/envs/ptsa_fresh/lib/python2.7/site-packages/ipykernel_launcher.py:88: RuntimeWarning: invalid value encountered in divide\n"
     ]
    },
    {
     "name": "stdout",
     "output_type": "stream",
     "text": [
      "2437.83229995\n"
     ]
    }
   ],
   "source": [
    "s = time.time()\n",
    "my_label = Label(tal=atlas, pos=None, values=None, hemi='rh', comment=\"\",\n",
    "                 name=None, outdir=label_dir, subject=label_name, verbose=None,\n",
    "                 basedir='/data/eeg/freesurfer/subjects/', radius=10.,\n",
    "                 stat=stats, smooth=3.0, x=X, y=Y, z=Z)\n",
    "my_label.map_stat_to_label()\n",
    "print(time.time()-s)"
   ]
  },
  {
   "cell_type": "markdown",
   "metadata": {},
   "source": [
    "# Subsequent memory effect processing:\n",
    "Install: ptsa, scipy, bottleneck, (if sys.path.append to my (Logan) home dir fails then possibly CML_lib, but I think I set it to readable."
   ]
  },
  {
   "cell_type": "code",
   "execution_count": 113,
   "metadata": {
    "collapsed": false
   },
   "outputs": [
    {
     "name": "stdout",
     "output_type": "stream",
     "text": [
      "Set Attribute possible_sessions\n"
     ]
    }
   ],
   "source": [
    "from SpectralAnalysis.MentalChronometry import Subject\n",
    "fr_subject = Subject(subject=f_subjects[0], experiment='FR1', session=0, \n",
    "                     eeg_start=0., eeg_end=1.6, eeg_buffer=1.0, \n",
    "                     verbose=True, save=False)"
   ]
  },
  {
   "cell_type": "code",
   "execution_count": 114,
   "metadata": {
    "collapsed": false
   },
   "outputs": [
    {
     "name": "stdout",
     "output_type": "stream",
     "text": [
      "Setting all events....\n",
      "Mean Recall in session: 17.6666666667%\n"
     ]
    }
   ],
   "source": [
    "fr_subject.set_events()\n",
    "events=fr_subject.events[fr_subject.events['type']=='WORD']"
   ]
  },
  {
   "cell_type": "code",
   "execution_count": 280,
   "metadata": {
    "collapsed": false,
    "scrolled": true
   },
   "outputs": [
    {
     "data": {
      "image/png": "[encoded data removed]",
      "text/plain": [
       "<matplotlib.figure.Figure at 0x2b759bde5810>"
      ]
     },
     "metadata": {},
     "output_type": "display_data"
    }
   ],
   "source": [
    "import pandas as pd\n",
    "from matplotlib import pyplot as plt\n",
    "% matplotlib inline\n",
    "fig, ax = plt.subplots(figsize=(5,5))\n",
    "df = pd.DataFrame(events.recalled)\n",
    "df.hist(ax=ax)\n",
    "plt.title('Number of Remembered vs Forgotten Words\\n subject{}'.format(fr_subject.subject))\n",
    "\n",
    "x = np.arange(2)\n",
    "label = ['Forgotten', 'Remembered']\n",
    "xticks = plt.xticks(x, label, rotation='horizontal', fontsize=16)\n",
    "ax.set_ylabel('Number of Words', fontsize = 16)\n",
    "plt.tight_layout()"
   ]
  },
  {
   "cell_type": "code",
   "execution_count": 145,
   "metadata": {
    "collapsed": false
   },
   "outputs": [
    {
     "name": "stdout",
     "output_type": "stream",
     "text": [
      "Setting Json mp, bp, and tal\n",
      "Setting Logan brain atlas to tal\n",
      "Setting eeg for passed events....\n",
      "Setting attribute bad_channels\n",
      "Removing [58.0, 62.0] linenoise....\n",
      "Not removing frequency < .1Hz....\n",
      "Converting monopolar channels to bipolar pairs....\n"
     ]
    }
   ],
   "source": [
    "fr_subject.set_eeg(events=events, remove_artifacts=True)"
   ]
  },
  {
   "cell_type": "code",
   "execution_count": 146,
   "metadata": {
    "collapsed": false
   },
   "outputs": [
    {
     "name": "stdout",
     "output_type": "stream",
     "text": [
      "Starting Morlet Wavelet....\n",
      "(72, 300, 13)\n",
      "('CPP total time wavelet loop: ', 17.32143807411194)\n",
      "Starting Log transform....\n",
      "Removing the buffer\n"
     ]
    }
   ],
   "source": [
    "fr_subject.morlet(data = fr_subject.eeg, output='power')"
   ]
  },
  {
   "cell_type": "code",
   "execution_count": 147,
   "metadata": {
    "collapsed": false
   },
   "outputs": [],
   "source": [
    "# Average into bands\n",
    "timeseries = fr_subject.power\n",
    "freq_names = map(lambda x:'theta' if x else 'hfa', \n",
    "                 timeseries.frequency < 8.06)\n",
    "timeseries['frequency'] = freq_names\n",
    "timeseries = timeseries.groupby('frequency').mean('frequency')"
   ]
  },
  {
   "cell_type": "code",
   "execution_count": 166,
   "metadata": {
    "collapsed": false,
    "scrolled": true
   },
   "outputs": [],
   "source": [
    "from scipy.stats import zscore\n",
    "# Zscore\n",
    "timeseries = timeseries.transpose('events', 'frequency','bipolar_pairs','time')\n",
    "z_data = zscore(timeseries,axis=0)\n",
    "timeseries.data = z_data\n",
    "remembered_evs = timeseries.events.data['recalled']==1\n",
    "remembered = timeseries.sel(events = remembered_evs)\n",
    "forgotten = timeseries.sel(events = ~remembered_evs)\n",
    "forgotten = forgotten.mean('time')\n",
    "remembered = remembered.mean('time')"
   ]
  },
  {
   "cell_type": "markdown",
   "metadata": {},
   "source": [
    "Since there are more forgotten words than remembered words we'll shuffle the forgotten words 10000 times and average the t-stat from each of these shuffles."
   ]
  },
  {
   "cell_type": "code",
   "execution_count": 228,
   "metadata": {
    "collapsed": false
   },
   "outputs": [
    {
     "name": "stdout",
     "output_type": "stream",
     "text": [
      "13.3809459209\n"
     ]
    }
   ],
   "source": [
    "from scipy.stats import ttest_ind \n",
    "from time import time \n",
    "tstats = []\n",
    "pvals = []\n",
    "\n",
    "s = time()\n",
    "for i in np.arange(10000):\n",
    "    num_rem = len(remembered['events'])\n",
    "    num_for = len(forgotten['events'])\n",
    "    select = np.random.choice(np.arange(num_for), replace=False, size=num_rem)\n",
    "    t, p = ttest_ind(remembered, forgotten[select], 0)\n",
    "    tstats.append(t)\n",
    "    pvals.append(p)\n",
    "tstat_arr = np.array(tstats).mean(0)\n",
    "print(time()-s)"
   ]
  },
  {
   "cell_type": "code",
   "execution_count": 242,
   "metadata": {
    "collapsed": true
   },
   "outputs": [],
   "source": [
    "ts_tstat = timeseries.mean('events').mean('time')\n",
    "ts_tstat.data = tstat_arr\n",
    "hfa = ts_tstat[0]\n",
    "theta = ts_tstat[1]"
   ]
  },
  {
   "cell_type": "code",
   "execution_count": 257,
   "metadata": {
    "collapsed": true
   },
   "outputs": [],
   "source": [
    "atlas = get_subject_brainatlas(fr_subject.subject, 'FR1')\n",
    "\n",
    "# For loop only necessary for older versions of ptsa compatibility...\n",
    "# Otherwise direct indexing is obviously better and can be changed to that\n",
    "coords = np.concatenate([np.vstack((avg['atlases']['avg.dural']['x'], \n",
    "                                    avg['atlases']['avg.dural']['y'], \n",
    "                                    avg['atlases']['avg.dural']['z'])).T\n",
    "                         for avg in atlas])\n",
    "X, Y, Z = coords[:,0], coords[:,1], coords[:,2]"
   ]
  },
  {
   "cell_type": "markdown",
   "metadata": {},
   "source": [
    "# Make Theta"
   ]
  },
  {
   "cell_type": "code",
   "execution_count": 278,
   "metadata": {
    "collapsed": false,
    "scrolled": true
   },
   "outputs": [
    {
     "name": "stdout",
     "output_type": "stream",
     "text": [
      "4.65221309662\n",
      "4.35722303391\n"
     ]
    }
   ],
   "source": [
    "import time\n",
    "label_name = 'R1001P_theta' # What we want to call the file\n",
    "label_dir = '/scratch/loganf/' # where we want to save\n",
    "s = time.time()\n",
    "my_label = Label(tal=atlas, pos=None, values=None, hemi='rh', comment=\"\",\n",
    "                 name=None, outdir=label_dir, subject=label_name, verbose=None,\n",
    "                 basedir='/data/eeg/freesurfer/subjects/', radius=10.,\n",
    "                 stat=theta.data, smooth=3.0, x=X, y=Y, z=Z)\n",
    "my_label.map_stat_to_label()\n",
    "print(time.time()-s)\n",
    "s = time.time()\n",
    "my_label = Label(tal=atlas, pos=None, values=None, hemi='lh', comment=\"\",\n",
    "                 name=None, outdir=label_dir, subject=label_name, verbose=None,\n",
    "                 basedir='/data/eeg/freesurfer/subjects/', radius=10.,\n",
    "                 stat=theta.data, smooth=3.0, x=X, y=Y, z=Z)\n",
    "my_label.map_stat_to_label()\n",
    "print(time.time()-s)"
   ]
  },
  {
   "cell_type": "markdown",
   "metadata": {},
   "source": [
    "# Make HFA:\n",
    "For each electrode plot a radius of 10 with it's tstat value "
   ]
  },
  {
   "cell_type": "code",
   "execution_count": 279,
   "metadata": {
    "collapsed": false,
    "scrolled": true
   },
   "outputs": [
    {
     "name": "stdout",
     "output_type": "stream",
     "text": [
      "4.83900308609\n",
      "4.3748819828\n"
     ]
    }
   ],
   "source": [
    "label_name = 'R1001P_hfa' # What we want to call the file\n",
    "label_dir = '/scratch/loganf/' # where we want to save\n",
    "s = time.time()\n",
    "my_label = Label(tal=atlas, pos=None, values=None, hemi='rh', comment=\"\",\n",
    "                 name=None, outdir=label_dir, subject=label_name, verbose=None,\n",
    "                 basedir='/data/eeg/freesurfer/subjects/', radius=10.,\n",
    "                 stat=hfa.data, smooth=3.0, x=X, y=Y, z=Z)\n",
    "my_label.map_stat_to_label()\n",
    "print(time.time()-s)\n",
    "s = time.time()\n",
    "my_label = Label(tal=atlas, pos=None, values=None, hemi='lh', comment=\"\",\n",
    "                 name=None, outdir=label_dir, subject=label_name, verbose=None,\n",
    "                 basedir='/data/eeg/freesurfer/subjects/', radius=10.,\n",
    "                 stat=hfa.data, smooth=3.0, x=X, y=Y, z=Z)\n",
    "my_label.map_stat_to_label()\n",
    "print(time.time()-s)"
   ]
  }
 ],
 "metadata": {
  "kernelspec": {
   "display_name": "PTSA",
   "language": "python",
   "name": "ptsa"
  },
  "language_info": {
   "codemirror_mode": {
    "name": "ipython",
    "version": 3
   },
   "file_extension": ".py",
   "mimetype": "text/x-python",
   "name": "python",
   "nbconvert_exporter": "python",
   "pygments_lexer": "ipython3",
   "version": "3.6.5"
  }
 },
 "nbformat": 4,
 "nbformat_minor": 2
}
