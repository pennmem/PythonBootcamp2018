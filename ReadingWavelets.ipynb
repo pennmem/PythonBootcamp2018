{
 "cells": [
  {
   "cell_type": "code",
   "execution_count": 1,
   "metadata": {},
   "outputs": [],
   "source": [
    "import numpy as np\n",
    "#from ptsa.data.filters import MorletWaveletFilter\n",
    "from ptsa.data.filters.MorletWaveletFilter import MorletWaveletFilter\n",
    "from ptsa.data.readers import EEGReader\n",
    "from ptsa.data.filters import MonopolarToBipolarMapper\n",
    "from ptsa.data.filters import ResampleFilter\n",
    "from ptsa.data.filters import ButterworthFilter\n",
    "# from ptsa.data.readers.TalReader import TalReader\n",
    "from ptsa.data.readers import TalReader\n",
    "# from ptsa.data.readers.IndexReader import JsonIndexReader\n",
    "from ptsa.data.readers import JsonIndexReader\n",
    "from ptsa.data.readers import BaseEventReader\n",
    "from ptsa.data.TimeSeriesX import TimeSeriesX as TimeSeries\n",
    "import h5py\n",
    "#from exceptions import OSError\n",
    "import os\n",
    "import mne\n",
    "from glob import glob\n",
    "\n",
    "\n"
   ]
  },
  {
   "cell_type": "code",
   "execution_count": 2,
   "metadata": {},
   "outputs": [],
   "source": [
    "rhino_mount = ''\n",
    "jr = JsonIndexReader(rhino_mount + '/protocols/ltp.json')\n",
    "exp = 'ltpFR2'"
   ]
  },
  {
   "cell_type": "code",
   "execution_count": 4,
   "metadata": {},
   "outputs": [],
   "source": [
    "evs = []\n",
    "\n",
    "bad_subjsess_files = [\n",
    "    rhino_mount+\n",
    "    '/protocols/ltp/subjects/LTP326/experiments/ltpFR2/sessions/19/behavioral/current_processed/task_events.json']\n",
    "\n",
    "for f in sorted(jr.aggregate_values('task_events', experiment=exp))[-10:]:\n",
    "    if f in bad_subjsess_files:\n",
    "        continue\n",
    "    tmpev = BaseEventReader(filename=f).read()\n",
    "    if len(tmpev) == 0:\n",
    "        continue\n",
    "    # only use BioSemi events\n",
    "    if tmpev['eegfile'][0].split('.')[-1] != 'bdf':\n",
    "        continue\n",
    "    else:\n",
    "        # only use encoding events:\n",
    "        tmpev = tmpev[tmpev['type'] == 'WORD']\n",
    "        evs.append(tmpev)\n",
    "evs = np.concatenate(evs)\n",
    "\n",
    "evs['eegfile'] = np.array([rhino_mount+ef for ef in evs['eegfile']])\n"
   ]
  },
  {
   "cell_type": "code",
   "execution_count": 5,
   "metadata": {},
   "outputs": [
    {
     "data": {
      "text/plain": [
       "array(['A1', 'A2', 'A3', 'A4', 'A5', 'A6', 'A7', 'A8', 'A9', 'A10', 'A11',\n",
       "       'A12', 'A13', 'A14', 'A15', 'A16', 'A17', 'A18', 'A19', 'A20',\n",
       "       'A21', 'A22', 'A23', 'A24', 'A25', 'A26', 'A27', 'A28', 'A29',\n",
       "       'A30', 'A31', 'A32', 'B1', 'B2', 'B3', 'B4', 'B5', 'B6', 'B7',\n",
       "       'B8', 'B9', 'B10', 'B11', 'B12', 'B13', 'B14', 'B15', 'B16', 'B17',\n",
       "       'B18', 'B19', 'B20', 'B21', 'B22', 'B23', 'B24', 'B25', 'B26',\n",
       "       'B27', 'B28', 'B29', 'B30', 'B31', 'B32', 'C1', 'C2', 'C3', 'C4',\n",
       "       'C5', 'C6', 'C7', 'C8', 'C9', 'C10', 'C11', 'C12', 'C13', 'C14',\n",
       "       'C15', 'C16', 'C17', 'C18', 'C19', 'C20', 'C21', 'C22', 'C23',\n",
       "       'C24', 'C25', 'C26', 'C27', 'C28', 'C29', 'C30', 'C31', 'C32',\n",
       "       'D1', 'D2', 'D3', 'D4', 'D5', 'D6', 'D7', 'D8', 'D9', 'D10', 'D11',\n",
       "       'D12', 'D13', 'D14', 'D15', 'D16', 'D17', 'D18', 'D19', 'D20',\n",
       "       'D21', 'D22', 'D23', 'D24', 'D25', 'D26', 'D27', 'D28', 'D29',\n",
       "       'D30', 'D31', 'D32'], dtype='<U3')"
      ]
     },
     "execution_count": 5,
     "metadata": {},
     "output_type": "execute_result"
    }
   ],
   "source": [
    "channels = ['A'+str(i) for i in range(1, 33)]\n",
    "channels.extend(['B'+str(i) for i in range(1, 33)])\n",
    "channels.extend(['C'+str(i) for i in range(1, 33)])\n",
    "channels.extend(['D'+str(i) for i in range(1, 33)])\n",
    "\n",
    "channels = np.array(channels)\n",
    "channels"
   ]
  },
  {
   "cell_type": "code",
   "execution_count": 6,
   "metadata": {},
   "outputs": [],
   "source": [
    "start_time = -0.2\n",
    "end_time = 1.0\n",
    "buf_time = 2.0\n",
    "powhz = 50\n",
    "freqs = np.logspace(np.log10(2), np.log10(200), 15)"
   ]
  },
  {
   "cell_type": "code",
   "execution_count": 7,
   "metadata": {},
   "outputs": [],
   "source": [
    "def get_raw_eeg(subj, sess):\n",
    "    eegpath = (rhino_mount+'/protocols/ltp/subjects/'+subj+\n",
    "               '/experiments/ltpFR2/sessions/'+str(sess)+\n",
    "               '/ephys/current_processed/')\n",
    "    sys = 'bio' if int(subj[-3:]) > 330 else 'egi'\n",
    "    if sys == 'bio':\n",
    "        eegfile = glob(eegpath+'*.bdf')\n",
    "        if len(eegfile)!=1:\n",
    "            return\n",
    "        eegfile = eegfile[0]\n",
    "        raw = mne.io.read_raw_edf(eegfile, eog=['EXG1', 'EXG2', 'EXG3', 'EXG4'], \n",
    "                                  misc=['EXG5', 'EXG6', 'EXG7', 'EXG8'], \n",
    "                                  stim_channel='Status', \n",
    "                                  montage='biosemi128', \n",
    "                                  preload=True) # needs to be true for 0.1Hz high-pass filter to work\n",
    "\n",
    "    else:\n",
    "        # for now catch this case -- different pipeline for EGI subjects!\n",
    "        raise ValueError('EGI subject!')\n",
    "        eegfile = (glob(eegpath+'*.2.raw') + glob(eegpath+'*.1.raw') +\n",
    "                   glob(eegpath+'*.mff'))\n",
    "        if len(eegfile)!=1:\n",
    "            return\n",
    "        eegfile = eegfile[0]\n",
    "        raw = mne.io.read_raw_egi(eegfile, preload=True)\n",
    "        raw.rename_channels({'E129': 'Cz'})\n",
    "        raw.set_montage(mne.channels.read_montage('GSN-HydroCel-129'))\n",
    "        raw.set_channel_types({'E8': 'eog', 'E25': 'eog', 'E126': 'eog',\n",
    "                               'E127': 'eog', 'Cz': 'misc'})\n",
    "        \n",
    "    # get bad channels - new version\n",
    "    badchanfile = glob(eegpath+'*_bad_chan.txt')\n",
    "    if len(badchanfile) > 0:\n",
    "        with open(badchanfile[0], 'r') as f:\n",
    "            bad = [s.strip() for s in f.readlines()]\n",
    "        raw.info['bads'] = bad\n",
    "    # 0.1Hz high-pass filter\n",
    "    raw.filter(l_freq=0.1, h_freq=None, method='iir', iir_params=None)\n",
    "    return raw"
   ]
  },
  {
   "cell_type": "code",
   "execution_count": 8,
   "metadata": {},
   "outputs": [],
   "source": [
    "subj = evs['subject'][0]\n",
    "sess = evs['session'][0]"
   ]
  },
  {
   "cell_type": "code",
   "execution_count": 16,
   "metadata": {},
   "outputs": [
    {
     "name": "stdout",
     "output_type": "stream",
     "text": [
      "Extracting EDF parameters from /protocols/ltp/subjects/LTP393/experiments/ltpFR2/sessions/21/ephys/current_processed/LTP393_session_21.bdf...\n",
      "BDF file detected\n",
      "Setting channel info structure...\n",
      "Creating raw.info structure...\n",
      "Reading 0 ... 10651647  =      0.000 ...  5201.000 secs...\n",
      "Setting up high-pass filter at 0.1 Hz\n"
     ]
    }
   ],
   "source": [
    "dat=get_raw_eeg(subj, sess)"
   ]
  },
  {
   "cell_type": "code",
   "execution_count": 17,
   "metadata": {},
   "outputs": [],
   "source": [
    "def create_epoch(raw, events, start_time=start_time,\n",
    "                 end_time=end_time, buf_time=buf_time):\n",
    "    mne_events = np.zeros((len(events), 3), dtype=int)\n",
    "    mne_events[:, 0] = events['eegoffset']\n",
    "    ep = mne.Epochs(raw, mne_events, tmin=start_time-buf_time,\n",
    "                    tmax=end_time+buf_time, baseline=None, preload=True)\n",
    "    # convert to microvolts, average reference\n",
    "    ep._data = ep._data * 1000000\n",
    "    ep.set_eeg_reference('average', projection=False)\n",
    "\n",
    "    ep.pick_types(eeg=True, exclude=[])\n",
    "    # # - resample\n",
    "    # ep.resample(500.0)\n",
    "    return ep\n",
    "\n"
   ]
  },
  {
   "cell_type": "code",
   "execution_count": 18,
   "metadata": {},
   "outputs": [
    {
     "name": "stdout",
     "output_type": "stream",
     "text": [
      "5 matching events found\n",
      "No baseline correction applied\n",
      "Not setting metadata\n",
      "0 projection items activated\n",
      "Loading data for 5 events and 10651 original time points ...\n",
      "0 bad epochs dropped\n",
      "Applying average reference.\n",
      "Applying a custom EEG reference.\n"
     ]
    }
   ],
   "source": [
    "subjfilt = evs['subject'] == subj\n",
    "sessfilt = evs['session'] == sess\n",
    "dat = create_epoch(dat, events=evs[100:105],\n",
    "                   start_time=start_time,\n",
    "                   end_time=end_time, buf_time=buf_time)\n",
    "dat = TimeSeries(dat._data, dims=('events','channels','time'),\n",
    "                 coords={'events': evs[100:105], #[subjfilt & sessfilt], \n",
    "                         'channels': dat.info['ch_names'], \n",
    "                         'time': dat.times,\n",
    "                         'samplerate': dat.info['sfreq']})\n"
   ]
  },
  {
   "cell_type": "code",
   "execution_count": 19,
   "metadata": {},
   "outputs": [],
   "source": [
    "chan = 'A23'\n",
    "dat = dat.sel(channels=[chan])\n",
    "ev_subjsess = evs[subjfilt & sessfilt]"
   ]
  },
  {
   "cell_type": "code",
   "execution_count": 22,
   "metadata": {},
   "outputs": [
    {
     "data": {
      "text/plain": [
       "<xarray.TimeSeriesX (events: 5, channels: 1)>\n",
       "array([[ 1.091640e-14],\n",
       "       [-4.058219e-15],\n",
       "       [ 3.971828e-16],\n",
       "       [ 8.813405e-16],\n",
       "       [ 1.585396e-15]])\n",
       "Coordinates:\n",
       "  * events      (events) (numpy.record, [('begin_distractor', '<i8'), ('begin_math_correct', '<i8'), ('eegfile', '<U256'), ('eegoffset', '<i8'), ('eogArtifact', '<i8'), ('experiment', '<U256'), ('final_distractor', '<i8'), ('final_math_correct', '<i8'), ('intruded', '<i8'), ('intrusion', '<i8'), ('item_name', '<U256'), ('item_num', '<i8'), ('montage', '<U256'), ('msoffset', '<i8'), ('mstime', '<i8'), ('protocol', '<U256'), ('recalled', '<i8'), ('rectime', '<i8'), ('serialpos', '<i8'), ('session', '<i8'), ('subject', '<U256'), ('trial', '<i8'), ('type', '<U256')]) (0, -999, '/protocols/ltp/subjects/LTP393/experiments/ltpFR2/sessions/21/ephys/current_processed/LTP393_session_21.bdf', 2142975, 0, 'ltpFR2', 24000, 9, 0, -999, 'BARREL', 91, '0.0', 1, 1526485083826, 'ltp', 0, -999, 5, 21, 'LTP393', 5, 'WORD') ...\n",
       "  * channels    (channels) <U3 'A23'\n",
       "    samplerate  float64 2.048e+03"
      ]
     },
     "execution_count": 22,
     "metadata": {},
     "output_type": "execute_result"
    }
   ],
   "source": [
    "dat -= dat.mean('time')\n",
    "dat.mean('time')"
   ]
  },
  {
   "cell_type": "code",
   "execution_count": 25,
   "metadata": {},
   "outputs": [
    {
     "name": "stdout",
     "output_type": "stream",
     "text": [
      "total time wavelet loop:  0.06775879859924316\n"
     ]
    },
    {
     "ename": "TypeError",
     "evalue": "__init__() takes 1 positional argument but 2 were given",
     "output_type": "error",
     "traceback": [
      "\u001b[0;31m---------------------------------------------------------------------------\u001b[0m",
      "\u001b[0;31mTypeError\u001b[0m                                 Traceback (most recent call last)",
      "\u001b[0;32m<ipython-input-25-41de1a99baf2>\u001b[0m in \u001b[0;36m<module>\u001b[0;34m()\u001b[0m\n\u001b[1;32m      6\u001b[0m \u001b[0mdat\u001b[0m \u001b[0;34m=\u001b[0m \u001b[0mnp\u001b[0m\u001b[0;34m.\u001b[0m\u001b[0mlog10\u001b[0m\u001b[0;34m(\u001b[0m\u001b[0mdat\u001b[0m\u001b[0;34m)\u001b[0m\u001b[0;34m\u001b[0m\u001b[0m\n\u001b[1;32m      7\u001b[0m \u001b[0mpowhz\u001b[0m \u001b[0;34m=\u001b[0m \u001b[0;36m50\u001b[0m\u001b[0;34m\u001b[0m\u001b[0m\n\u001b[0;32m----> 8\u001b[0;31m \u001b[0mdat\u001b[0m \u001b[0;34m=\u001b[0m \u001b[0mResampleFilter\u001b[0m\u001b[0;34m(\u001b[0m\u001b[0mdat\u001b[0m\u001b[0;34m,\u001b[0m \u001b[0mresamplerate\u001b[0m\u001b[0;34m=\u001b[0m\u001b[0mpowhz\u001b[0m\u001b[0;34m)\u001b[0m\u001b[0;34m.\u001b[0m\u001b[0mfilter\u001b[0m\u001b[0;34m(\u001b[0m\u001b[0;34m)\u001b[0m\u001b[0;34m\u001b[0m\u001b[0m\n\u001b[0m\u001b[1;32m      9\u001b[0m \u001b[0mdat\u001b[0m \u001b[0;34m=\u001b[0m \u001b[0mdat\u001b[0m\u001b[0;34m.\u001b[0m\u001b[0mremove_buffer\u001b[0m\u001b[0;34m(\u001b[0m\u001b[0mduration\u001b[0m\u001b[0;34m=\u001b[0m\u001b[0mbuf_time\u001b[0m\u001b[0;34m)\u001b[0m\u001b[0;34m\u001b[0m\u001b[0m\n\u001b[1;32m     10\u001b[0m \u001b[0;31m# dat.to_hdf(pfile_path, compression='gzip', compression_opts=9, mode='w-')\u001b[0m\u001b[0;34m\u001b[0m\u001b[0;34m\u001b[0m\u001b[0m\n",
      "\u001b[0;32m~/anaconda3/envs/PTSA/lib/python3.6/site-packages/ptsa/data/common/TypedUtils.py\u001b[0m in \u001b[0;36m__call__\u001b[0;34m(cls, *args, **kwds)\u001b[0m\n\u001b[1;32m     35\u001b[0m \u001b[0;34m\u001b[0m\u001b[0m\n\u001b[1;32m     36\u001b[0m     \u001b[0;32mdef\u001b[0m \u001b[0m__call__\u001b[0m\u001b[0;34m(\u001b[0m\u001b[0mcls\u001b[0m\u001b[0;34m,\u001b[0m \u001b[0;34m*\u001b[0m\u001b[0margs\u001b[0m\u001b[0;34m,\u001b[0m \u001b[0;34m**\u001b[0m\u001b[0mkwds\u001b[0m\u001b[0;34m)\u001b[0m\u001b[0;34m:\u001b[0m\u001b[0;34m\u001b[0m\u001b[0m\n\u001b[0;32m---> 37\u001b[0;31m         \u001b[0mret_obj\u001b[0m \u001b[0;34m=\u001b[0m \u001b[0mtype\u001b[0m\u001b[0;34m.\u001b[0m\u001b[0m__call__\u001b[0m\u001b[0;34m(\u001b[0m\u001b[0mcls\u001b[0m\u001b[0;34m,\u001b[0m \u001b[0;34m*\u001b[0m\u001b[0margs\u001b[0m\u001b[0;34m,\u001b[0m \u001b[0;34m**\u001b[0m\u001b[0mkwds\u001b[0m\u001b[0;34m)\u001b[0m\u001b[0;34m\u001b[0m\u001b[0m\n\u001b[0m\u001b[1;32m     38\u001b[0m         \u001b[0;32mreturn\u001b[0m \u001b[0mret_obj\u001b[0m\u001b[0;34m\u001b[0m\u001b[0m\n\u001b[1;32m     39\u001b[0m \u001b[0;34m\u001b[0m\u001b[0m\n",
      "\u001b[0;31mTypeError\u001b[0m: __init__() takes 1 positional argument but 2 were given"
     ]
    }
   ],
   "source": [
    "dat = MorletWaveletFilter(\n",
    "            # timeseries=dat_chan, freqs=freqs, output='power', width=5,\n",
    "            time_series=dat, freqs=freqs, output='power', width=5,\n",
    "            verbose=True).filter()[0]  # ['power']\n",
    "dat = np.log10(dat)\n"
   ]
  },
  {
   "cell_type": "code",
   "execution_count": 28,
   "metadata": {},
   "outputs": [
    {
     "data": {
      "text/plain": [
       "<xarray.DataArray (frequency: 15, events: 5, channels: 1, time: 10651)>\n",
       "array([[[[7.063094, ..., 5.949063]],\n",
       "\n",
       "        ...,\n",
       "\n",
       "        [[5.89553 , ..., 4.943697]]],\n",
       "\n",
       "\n",
       "       ...,\n",
       "\n",
       "\n",
       "       [[[4.768149, ..., 3.86895 ]],\n",
       "\n",
       "        ...,\n",
       "\n",
       "        [[4.633956, ..., 4.773765]]]], dtype=float32)\n",
       "Coordinates:\n",
       "  * events      (events) (numpy.record, [('begin_distractor', '<i8'), ('begin_math_correct', '<i8'), ('eegfile', '<U256'), ('eegoffset', '<i8'), ('eogArtifact', '<i8'), ('experiment', '<U256'), ('final_distractor', '<i8'), ('final_math_correct', '<i8'), ('intruded', '<i8'), ('intrusion', '<i8'), ('item_name', '<U256'), ('item_num', '<i8'), ('montage', '<U256'), ('msoffset', '<i8'), ('mstime', '<i8'), ('protocol', '<U256'), ('recalled', '<i8'), ('rectime', '<i8'), ('serialpos', '<i8'), ('session', '<i8'), ('subject', '<U256'), ('trial', '<i8'), ('type', '<U256')]) (0, -999, '/protocols/ltp/subjects/LTP393/experiments/ltpFR2/sessions/21/ephys/current_processed/LTP393_session_21.bdf', 2142975, 0, 'ltpFR2', 24000, 9, 0, -999, 'BARREL', 91, '0.0', 1, 1526485083826, 'ltp', 0, -999, 5, 21, 'LTP393', 5, 'WORD') ...\n",
       "  * channels    (channels) <U3 'A23'\n",
       "  * frequency   (frequency) float64 2.0 2.779 3.861 5.365 7.455 10.36 14.39 ...\n",
       "  * time        (time) float64 -2.2 -2.2 -2.199 -2.199 -2.198 -2.198 -2.197 ...\n",
       "    samplerate  float64 2.048e+03"
      ]
     },
     "execution_count": 28,
     "metadata": {},
     "output_type": "execute_result"
    }
   ],
   "source": [
    "dat"
   ]
  },
  {
   "cell_type": "code",
   "execution_count": 35,
   "metadata": {},
   "outputs": [
    {
     "name": "stdout",
     "output_type": "stream",
     "text": [
      "260\n"
     ]
    }
   ],
   "source": [
    "powhz = 50.\n",
    "dat = TimeSeries(dat, coords=dat.coords)\n",
    "dat = ResampleFilter(time_series=dat, resamplerate=powhz).filter()\n",
    "#dat = dat.remove_buffer(duration=buf_time)\n",
    "# dat.to_hdf(pfile_path, compression='gzip', compression_opts=9, mode='w-')"
   ]
  },
  {
   "cell_type": "code",
   "execution_count": 36,
   "metadata": {},
   "outputs": [
    {
     "data": {
      "text/plain": [
       "<xarray.TimeSeriesX (frequency: 15, events: 5, channels: 1, time: 260)>\n",
       "array([[[[6.527364, ..., 5.885956]],\n",
       "\n",
       "        ...,\n",
       "\n",
       "        [[5.43626 , ..., 4.894592]]],\n",
       "\n",
       "\n",
       "       ...,\n",
       "\n",
       "\n",
       "       [[[4.561391, ..., 4.286065]],\n",
       "\n",
       "        ...,\n",
       "\n",
       "        [[4.854352, ..., 4.679119]]]])\n",
       "Coordinates:\n",
       "  * frequency   (frequency) float64 2.0 2.779 3.861 5.365 7.455 10.36 14.39 ...\n",
       "  * events      (events) (numpy.record, [('begin_distractor', '<i8'), ('begin_math_correct', '<i8'), ('eegfile', '<U256'), ('eegoffset', '<i8'), ('eogArtifact', '<i8'), ('experiment', '<U256'), ('final_distractor', '<i8'), ('final_math_correct', '<i8'), ('intruded', '<i8'), ('intrusion', '<i8'), ('item_name', '<U256'), ('item_num', '<i8'), ('montage', '<U256'), ('msoffset', '<i8'), ('mstime', '<i8'), ('protocol', '<U256'), ('recalled', '<i8'), ('rectime', '<i8'), ('serialpos', '<i8'), ('session', '<i8'), ('subject', '<U256'), ('trial', '<i8'), ('type', '<U256')]) (0, -999, '/protocols/ltp/subjects/LTP393/experiments/ltpFR2/sessions/21/ephys/current_processed/LTP393_session_21.bdf', 2142975, 0, 'ltpFR2', 24000, 9, 0, -999, 'BARREL', 91, '0.0', 1, 1526485083826, 'ltp', 0, -999, 5, 21, 'LTP393', 5, 'WORD') ...\n",
       "  * channels    (channels) <U3 'A23'\n",
       "  * time        (time) float64 -2.2 -2.18 -2.16 -2.14 -2.12 -2.1 -2.08 -2.06 ...\n",
       "    samplerate  float64 50.0"
      ]
     },
     "execution_count": 36,
     "metadata": {},
     "output_type": "execute_result"
    }
   ],
   "source": [
    "dat"
   ]
  },
  {
   "cell_type": "code",
   "execution_count": 37,
   "metadata": {},
   "outputs": [],
   "source": [
    "test = np.arange(100)"
   ]
  },
  {
   "cell_type": "code",
   "execution_count": 39,
   "metadata": {},
   "outputs": [
    {
     "data": {
      "text/plain": [
       "array([ 0,  2,  4,  6,  8, 10, 12, 14, 16, 18, 20, 22, 24, 26, 28, 30, 32,\n",
       "       34, 36, 38, 40, 42, 44, 46, 48, 50, 52, 54, 56, 58, 60, 62, 64, 66,\n",
       "       68, 70, 72, 74, 76, 78, 80, 82, 84, 86, 88, 90, 92, 94, 96, 98])"
      ]
     },
     "execution_count": 39,
     "metadata": {},
     "output_type": "execute_result"
    }
   ],
   "source": [
    "test[::2]"
   ]
  },
  {
   "cell_type": "code",
   "execution_count": 40,
   "metadata": {},
   "outputs": [
    {
     "data": {
      "text/plain": [
       "array([ 0,  1,  2,  3,  4,  5,  6,  7,  8,  9, 10, 11, 12, 13, 14, 15, 16,\n",
       "       17, 18, 19, 20, 21, 22, 23, 24, 25, 26, 27, 28, 29, 30, 31, 32, 33,\n",
       "       34, 35, 36, 37, 38, 39, 40, 41, 42, 43, 44, 45, 46, 47, 48, 49, 50,\n",
       "       51, 52, 53, 54, 55, 56, 57, 58, 59, 60, 61, 62, 63, 64, 65, 66, 67,\n",
       "       68, 69, 70, 71, 72, 73, 74, 75, 76, 77, 78, 79, 80, 81, 82, 83, 84,\n",
       "       85, 86, 87, 88, 89, 90, 91, 92, 93, 94, 95, 96, 97, 98, 99])"
      ]
     },
     "execution_count": 40,
     "metadata": {},
     "output_type": "execute_result"
    }
   ],
   "source": [
    "test"
   ]
  },
  {
   "cell_type": "code",
   "execution_count": 41,
   "metadata": {},
   "outputs": [
    {
     "data": {
      "text/plain": [
       "<xarray.TimeSeriesX 'frequency' (frequency: 15)>\n",
       "array([  2.      ,   2.778991,   3.861395,   5.365392,   7.455187,  10.358949,\n",
       "        14.393713,  20.      ,  27.78991 ,  38.613955,  53.653916,  74.551874,\n",
       "       103.589494, 143.937135, 200.      ])\n",
       "Coordinates:\n",
       "  * frequency   (frequency) float64 2.0 2.779 3.861 5.365 7.455 10.36 14.39 ...\n",
       "    samplerate  float64 50.0"
      ]
     },
     "execution_count": 41,
     "metadata": {},
     "output_type": "execute_result"
    }
   ],
   "source": [
    "dat['frequency']"
   ]
  },
  {
   "cell_type": "code",
   "execution_count": 44,
   "metadata": {},
   "outputs": [
    {
     "data": {
      "text/plain": [
       "1.3020833333333334e-07"
      ]
     },
     "execution_count": 44,
     "metadata": {},
     "output_type": "execute_result"
    }
   ],
   "source": [
    "0.05 / (200*128*15)"
   ]
  },
  {
   "cell_type": "code",
   "execution_count": 45,
   "metadata": {},
   "outputs": [
    {
     "data": {
      "text/plain": [
       "<xarray.TimeSeriesX (frequency: 15, events: 5, channels: 1, time: 260)>\n",
       "array([[[[6.527364, ..., 5.885956]],\n",
       "\n",
       "        ...,\n",
       "\n",
       "        [[5.43626 , ..., 4.894592]]],\n",
       "\n",
       "\n",
       "       ...,\n",
       "\n",
       "\n",
       "       [[[4.561391, ..., 4.286065]],\n",
       "\n",
       "        ...,\n",
       "\n",
       "        [[4.854352, ..., 4.679119]]]])\n",
       "Coordinates:\n",
       "  * frequency   (frequency) float64 2.0 2.779 3.861 5.365 7.455 10.36 14.39 ...\n",
       "  * events      (events) (numpy.record, [('begin_distractor', '<i8'), ('begin_math_correct', '<i8'), ('eegfile', '<U256'), ('eegoffset', '<i8'), ('eogArtifact', '<i8'), ('experiment', '<U256'), ('final_distractor', '<i8'), ('final_math_correct', '<i8'), ('intruded', '<i8'), ('intrusion', '<i8'), ('item_name', '<U256'), ('item_num', '<i8'), ('montage', '<U256'), ('msoffset', '<i8'), ('mstime', '<i8'), ('protocol', '<U256'), ('recalled', '<i8'), ('rectime', '<i8'), ('serialpos', '<i8'), ('session', '<i8'), ('subject', '<U256'), ('trial', '<i8'), ('type', '<U256')]) (0, -999, '/protocols/ltp/subjects/LTP393/experiments/ltpFR2/sessions/21/ephys/current_processed/LTP393_session_21.bdf', 2142975, 0, 'ltpFR2', 24000, 9, 0, -999, 'BARREL', 91, '0.0', 1, 1526485083826, 'ltp', 0, -999, 5, 21, 'LTP393', 5, 'WORD') ...\n",
       "  * channels    (channels) <U3 'A23'\n",
       "  * time        (time) float64 -2.2 -2.18 -2.16 -2.14 -2.12 -2.1 -2.08 -2.06 ...\n",
       "    samplerate  float64 50.0"
      ]
     },
     "execution_count": 45,
     "metadata": {},
     "output_type": "execute_result"
    }
   ],
   "source": [
    "dat"
   ]
  },
  {
   "cell_type": "code",
   "execution_count": null,
   "metadata": {},
   "outputs": [],
   "source": []
  }
 ],
 "metadata": {
  "kernelspec": {
   "display_name": "PTSA",
   "language": "python",
   "name": "ptsa"
  },
  "language_info": {
   "codemirror_mode": {
    "name": "ipython",
    "version": 3
   },
   "file_extension": ".py",
   "mimetype": "text/x-python",
   "name": "python",
   "nbconvert_exporter": "python",
   "pygments_lexer": "ipython3",
   "version": "3.6.5"
  }
 },
 "nbformat": 4,
 "nbformat_minor": 2
}
