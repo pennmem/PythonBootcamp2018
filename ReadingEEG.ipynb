{
 "cells": [
  {
   "cell_type": "code",
   "execution_count": 2,
   "metadata": {},
   "outputs": [],
   "source": [
    "import numpy as np\n",
    "#from ptsa.data.filters.morlet import MorletWaveletFilter\n",
    "from ptsa.data.readers import EEGReader\n",
    "from ptsa.data.filters import MonopolarToBipolarMapper\n",
    "from ptsa.data.filters import ResampleFilter\n",
    "from ptsa.data.filters import ButterworthFilter\n",
    "# from ptsa.data.readers.TalReader import TalReader\n",
    "from ptsa.data.readers import TalReader\n",
    "# from ptsa.data.readers.IndexReader import JsonIndexReader\n",
    "from ptsa.data.readers import JsonIndexReader\n",
    "from ptsa.data.readers import BaseEventReader\n",
    "from ptsa.data.TimeSeriesX import TimeSeriesX as TimeSeries\n",
    "import h5py\n",
    "#from exceptions import OSError\n",
    "import os\n",
    "import mne\n",
    "from glob import glob\n",
    "\n",
    "\n"
   ]
  },
  {
   "cell_type": "code",
   "execution_count": 3,
   "metadata": {},
   "outputs": [],
   "source": [
    "rhino_mount = ''\n",
    "jr = JsonIndexReader(rhino_mount + '/protocols/ltp.json')\n",
    "exp = 'ltpFR2'"
   ]
  },
  {
   "cell_type": "code",
   "execution_count": 14,
   "metadata": {},
   "outputs": [
    {
     "data": {
      "text/plain": [
       "\u001b[0;31mType:\u001b[0m           JsonIndexReader\n",
       "\u001b[0;31mString form:\u001b[0m    <ptsa.data.readers.index.JsonIndexReader object at 0x2ae67c4f4518>\n",
       "\u001b[0;31mFile:\u001b[0m           ~/anaconda3/envs/PTSA/lib/python3.6/site-packages/ptsa/data/readers/index.py\n",
       "\u001b[0;31mDocstring:\u001b[0m     \n",
       "Reads from one of the top level indexing files (r1.json, ltp.json)\n",
       "Allows for aggregation of values across any field with any constraint through the use of aggregateValues() or the\n",
       "specific methods subject(), experiment(), session() or montage().\n",
       "\u001b[0;31mInit docstring:\u001b[0m\n",
       "Constructor.\n",
       "Reads from the passed in index file, and appends the root of the index files to anything that\n",
       "appears to be a path\n",
       ":param protocols: 'r1', 'ltp'\n"
      ]
     },
     "metadata": {},
     "output_type": "display_data"
    }
   ],
   "source": [
    "jr?"
   ]
  },
  {
   "cell_type": "code",
   "execution_count": 4,
   "metadata": {},
   "outputs": [],
   "source": [
    "evs = []\n",
    "\n",
    "bad_subjsess_files = [\n",
    "    rhino_mount+\n",
    "    '/protocols/ltp/subjects/LTP326/experiments/ltpFR2/sessions/19/behavioral/current_processed/task_events.json']\n",
    "\n",
    "for f in sorted(jr.aggregate_values('task_events', experiment=exp)):\n",
    "    if f in bad_subjsess_files:\n",
    "        continue\n",
    "    tmpev = BaseEventReader(filename=f).read()\n",
    "    if len(tmpev) == 0:\n",
    "        continue\n",
    "    # only use BioSemi events\n",
    "    if tmpev['eegfile'][0].split('.')[-1] != 'bdf':\n",
    "        continue\n",
    "    else:\n",
    "        # only use encoding events:\n",
    "        tmpev = tmpev[tmpev['type'] == 'WORD']\n",
    "        evs.append(tmpev)\n",
    "evs = np.concatenate(evs)\n",
    "\n",
    "evs['eegfile'] = np.array([rhino_mount+ef for ef in evs['eegfile']])\n"
   ]
  },
  {
   "cell_type": "code",
   "execution_count": 23,
   "metadata": {},
   "outputs": [
    {
     "data": {
      "text/plain": [
       "array(['0.0'], dtype='<U256')"
      ]
     },
     "execution_count": 23,
     "metadata": {},
     "output_type": "execute_result"
    }
   ],
   "source": [
    "np.unique(evs['montage'])"
   ]
  },
  {
   "cell_type": "code",
   "execution_count": 5,
   "metadata": {},
   "outputs": [
    {
     "data": {
      "text/plain": [
       "array(['A1', 'A2', 'A3', 'A4', 'A5', 'A6', 'A7', 'A8', 'A9', 'A10', 'A11',\n",
       "       'A12', 'A13', 'A14', 'A15', 'A16', 'A17', 'A18', 'A19', 'A20',\n",
       "       'A21', 'A22', 'A23', 'A24', 'A25', 'A26', 'A27', 'A28', 'A29',\n",
       "       'A30', 'A31', 'A32', 'B1', 'B2', 'B3', 'B4', 'B5', 'B6', 'B7',\n",
       "       'B8', 'B9', 'B10', 'B11', 'B12', 'B13', 'B14', 'B15', 'B16', 'B17',\n",
       "       'B18', 'B19', 'B20', 'B21', 'B22', 'B23', 'B24', 'B25', 'B26',\n",
       "       'B27', 'B28', 'B29', 'B30', 'B31', 'B32', 'C1', 'C2', 'C3', 'C4',\n",
       "       'C5', 'C6', 'C7', 'C8', 'C9', 'C10', 'C11', 'C12', 'C13', 'C14',\n",
       "       'C15', 'C16', 'C17', 'C18', 'C19', 'C20', 'C21', 'C22', 'C23',\n",
       "       'C24', 'C25', 'C26', 'C27', 'C28', 'C29', 'C30', 'C31', 'C32',\n",
       "       'D1', 'D2', 'D3', 'D4', 'D5', 'D6', 'D7', 'D8', 'D9', 'D10', 'D11',\n",
       "       'D12', 'D13', 'D14', 'D15', 'D16', 'D17', 'D18', 'D19', 'D20',\n",
       "       'D21', 'D22', 'D23', 'D24', 'D25', 'D26', 'D27', 'D28', 'D29',\n",
       "       'D30', 'D31', 'D32'], dtype='<U3')"
      ]
     },
     "execution_count": 5,
     "metadata": {},
     "output_type": "execute_result"
    }
   ],
   "source": [
    "channels = ['A'+str(i) for i in range(1, 33)]\n",
    "channels.extend(['B'+str(i) for i in range(1, 33)])\n",
    "channels.extend(['C'+str(i) for i in range(1, 33)])\n",
    "channels.extend(['D'+str(i) for i in range(1, 33)])\n",
    "\n",
    "channels = np.array(channels)\n",
    "channels"
   ]
  },
  {
   "cell_type": "code",
   "execution_count": 10,
   "metadata": {},
   "outputs": [],
   "source": [
    "start_time = -0.2\n",
    "end_time = 1.0\n",
    "buf_time = 0.0"
   ]
  },
  {
   "cell_type": "code",
   "execution_count": 6,
   "metadata": {},
   "outputs": [],
   "source": [
    "def get_raw_eeg(subj, sess):\n",
    "    eegpath = (rhino_mount+'/protocols/ltp/subjects/'+subj+\n",
    "               '/experiments/ltpFR2/sessions/'+str(sess)+\n",
    "               '/ephys/current_processed/')\n",
    "    sys = 'bio' if int(subj[-3:]) > 330 else 'egi'\n",
    "    if sys == 'bio':\n",
    "        eegfile = glob(eegpath+'*.bdf')\n",
    "        if len(eegfile)!=1:\n",
    "            return\n",
    "        eegfile = eegfile[0]\n",
    "        raw = mne.io.read_raw_edf(eegfile, eog=['EXG1', 'EXG2', 'EXG3', 'EXG4'], \n",
    "                                  misc=['EXG5', 'EXG6', 'EXG7', 'EXG8'], \n",
    "                                  stim_channel='Status', \n",
    "                                  montage='biosemi128', \n",
    "                                  preload=True) # needs to be true for 0.1Hz high-pass filter to work\n",
    "\n",
    "    else:\n",
    "        # for now catch this case -- different pipeline for EGI subjects!\n",
    "        raise ValueError('EGI subject!')\n",
    "        eegfile = (glob(eegpath+'*.2.raw') + glob(eegpath+'*.1.raw') +\n",
    "                   glob(eegpath+'*.mff'))\n",
    "        if len(eegfile)!=1:\n",
    "            return\n",
    "        eegfile = eegfile[0]\n",
    "        raw = mne.io.read_raw_egi(eegfile, preload=True)\n",
    "        raw.rename_channels({'E129': 'Cz'})\n",
    "        raw.set_montage(mne.channels.read_montage('GSN-HydroCel-129'))\n",
    "        raw.set_channel_types({'E8': 'eog', 'E25': 'eog', 'E126': 'eog',\n",
    "                               'E127': 'eog', 'Cz': 'misc'})\n",
    "        \n",
    "    # get bad channels - new version\n",
    "    badchanfile = glob(eegpath+'*_bad_chan.txt')\n",
    "    if len(badchanfile) > 0:\n",
    "        with open(badchanfile[0], 'r') as f:\n",
    "            bad = [s.strip() for s in f.readlines()]\n",
    "        raw.info['bads'] = bad\n",
    "    # 0.1Hz high-pass filter\n",
    "    raw.filter(l_freq=0.1, h_freq=None, method='iir', iir_params=None)\n",
    "    return raw"
   ]
  },
  {
   "cell_type": "code",
   "execution_count": 7,
   "metadata": {},
   "outputs": [],
   "source": [
    "subj = evs['subject'][0]\n",
    "sess = evs['session'][0]"
   ]
  },
  {
   "cell_type": "code",
   "execution_count": 8,
   "metadata": {},
   "outputs": [
    {
     "name": "stdout",
     "output_type": "stream",
     "text": [
      "Extracting EDF parameters from /protocols/ltp/subjects/LTP331/experiments/ltpFR2/sessions/0/ephys/current_processed/LTP331_session_0.bdf...\n",
      "BDF file detected\n",
      "Setting channel info structure...\n",
      "Creating raw.info structure...\n",
      "Reading 0 ... 12107775  =      0.000 ...  5912.000 secs...\n",
      "Setting up high-pass filter at 0.1 Hz\n"
     ]
    }
   ],
   "source": [
    "dat=get_raw_eeg(subj, sess)"
   ]
  },
  {
   "cell_type": "code",
   "execution_count": 11,
   "metadata": {},
   "outputs": [],
   "source": [
    "def create_epoch(raw, events, start_time=start_time,\n",
    "                 end_time=end_time, buf_time=buf_time):\n",
    "    mne_events = np.zeros((len(events), 3), dtype=int)\n",
    "    mne_events[:, 0] = events['eegoffset']\n",
    "    ep = mne.Epochs(raw, mne_events, tmin=start_time-buf_time,\n",
    "                    tmax=end_time+buf_time, baseline=None, preload=True)\n",
    "    # convert to microvolts, average reference\n",
    "    ep._data = ep._data * 1000000\n",
    "    ep.set_eeg_reference('average', projection=False)\n",
    "\n",
    "    ep.pick_types(eeg=True, exclude=[])\n",
    "    # # - resample\n",
    "    # ep.resample(500.0)\n",
    "    return ep\n",
    "\n"
   ]
  },
  {
   "cell_type": "code",
   "execution_count": 13,
   "metadata": {},
   "outputs": [
    {
     "name": "stdout",
     "output_type": "stream",
     "text": [
      "576 matching events found\n",
      "No baseline correction applied\n",
      "Not setting metadata\n",
      "0 projection items activated\n",
      "Loading data for 576 events and 2459 original time points ...\n",
      "0 bad epochs dropped\n",
      "Applying average reference.\n",
      "Applying a custom EEG reference.\n"
     ]
    }
   ],
   "source": [
    "subjfilt = evs['subject'] == subj\n",
    "sessfilt = evs['session'] == sess\n",
    "dat = create_epoch(dat, events=evs[subjfilt & sessfilt],\n",
    "                   start_time=start_time,\n",
    "                   end_time=end_time, buf_time=buf_time)\n",
    "dat = TimeSeries(dat._data, dims=('events','channels','time'),\n",
    "                 coords={'events': evs[subjfilt & sessfilt], \n",
    "                         'channels': dat.info['ch_names'], \n",
    "                         'time': dat.times,\n",
    "                         'samplerate': dat.info['sfreq']})\n"
   ]
  },
  {
   "cell_type": "code",
   "execution_count": 14,
   "metadata": {},
   "outputs": [
    {
     "data": {
      "text/plain": [
       "<xarray.TimeSeriesX (events: 576, channels: 128, time: 2459)>\n",
       "array([[[ -0.396328,  -2.007153, ...,   7.611448,   7.28664 ],\n",
       "        [ -7.524218,  -8.696657, ...,  -4.800465,  -3.906373],\n",
       "        ...,\n",
       "        [ -2.709054,  -2.656746, ..., -19.420009, -20.363116],\n",
       "        [ -6.234364,  -4.355129, ...,  24.228725,  23.734813]],\n",
       "\n",
       "       [[  1.022116,   2.474697, ...,  -1.143036,  -0.985908],\n",
       "        [  1.95798 ,   1.784579, ...,   7.272733,   6.897204],\n",
       "        ...,\n",
       "        [-10.893025, -11.903706, ...,  20.002299,  18.914087],\n",
       "        [ 25.173282,  22.484499, ..., -22.580421, -22.660712]],\n",
       "\n",
       "       ...,\n",
       "\n",
       "       [[  1.356298,   1.054923, ...,   9.437575,  10.02151 ],\n",
       "        [  1.138747,   1.96411 , ...,   9.176513,   9.824518],\n",
       "        ...,\n",
       "        [  8.515531,   8.651153, ...,   9.525339,  10.670418],\n",
       "        [ -2.147861,   0.396645, ...,   1.994784,  -0.045593]],\n",
       "\n",
       "       [[ -1.958529,  -1.466091, ...,   1.002504,   0.614769],\n",
       "        [  4.208517,   2.296452, ...,   4.130437,   3.369708],\n",
       "        ...,\n",
       "        [  3.804685,   3.482372, ...,  -5.649595,  -5.696501],\n",
       "        [  3.665857,   4.157198, ...,  -5.161214,  -4.176298]]])\n",
       "Coordinates:\n",
       "  * events      (events) (numpy.record, [('begin_distractor', '<i8'), ('begin_math_correct', '<i8'), ('eegfile', '<U256'), ('eegoffset', '<i8'), ('eogArtifact', '<i8'), ('experiment', '<U256'), ('final_distractor', '<i8'), ('final_math_correct', '<i8'), ('intruded', '<i8'), ('intrusion', '<i8'), ('item_name', '<U256'), ('item_num', '<i8'), ('montage', '<U256'), ('msoffset', '<i8'), ('mstime', '<i8'), ('protocol', '<U256'), ('recalled', '<i8'), ('rectime', '<i8'), ('serialpos', '<i8'), ('session', '<i8'), ('subject', '<U256'), ('trial', '<i8'), ('type', '<U256')]) (0, -999, '/protocols/ltp/subjects/LTP331/experiments/ltpFR2/sessions/0/ephys/current_processed/LTP331_session_0.bdf', 1559059, 1, 'ltpFR2', 24000, 11, 0, -999, 'VICTIM', 1562, '0.0', 1, 1484840043992, 'ltp', 1, -999, 1, 0, 'LTP331', 1, 'WORD') ...\n",
       "  * channels    (channels) <U3 'A1' 'A2' 'A3' 'A4' 'A5' 'A6' 'A7' 'A8' 'A9' ...\n",
       "  * time        (time) float64 -0.2002 -0.1997 -0.1992 -0.1987 -0.1982 ...\n",
       "    samplerate  float64 2.048e+03"
      ]
     },
     "execution_count": 14,
     "metadata": {},
     "output_type": "execute_result"
    }
   ],
   "source": [
    "dat"
   ]
  },
  {
   "cell_type": "code",
   "execution_count": 26,
   "metadata": {},
   "outputs": [],
   "source": [
    "dat -= dat.sel(time=dat['time']<0).mean('time')"
   ]
  },
  {
   "cell_type": "code",
   "execution_count": 33,
   "metadata": {},
   "outputs": [
    {
     "data": {
      "text/plain": [
       "<xarray.TimeSeriesX (events: 576, channels: 128, time: 2459)>\n",
       "array([[[  3.443741,   1.832915, ...,  11.451516,  11.126709],\n",
       "        [  2.839841,   1.667402, ...,   5.563594,   6.457687],\n",
       "        ...,\n",
       "        [  3.632159,   3.684467, ..., -13.078795, -14.021902],\n",
       "        [ -2.17386 ,  -0.294625, ...,  28.289229,  27.795317]],\n",
       "\n",
       "       [[ -1.542187,  -0.089606, ...,  -3.707338,  -3.550211],\n",
       "        [ -4.457799,  -4.6312  , ...,   0.856954,   0.481425],\n",
       "        ...,\n",
       "        [ -2.560272,  -3.570953, ...,  28.335052,  27.246839],\n",
       "        [ 23.872326,  21.183544, ..., -23.881376, -23.961667]],\n",
       "\n",
       "       ...,\n",
       "\n",
       "       [[  7.615629,   7.314255, ...,  15.696906,  16.280842],\n",
       "        [  5.522757,   6.34812 , ...,  13.560523,  14.208528],\n",
       "        ...,\n",
       "        [  4.306975,   4.442597, ...,   5.316783,   6.461861],\n",
       "        [  1.94559 ,   4.490096, ...,   6.088234,   4.047858]],\n",
       "\n",
       "       [[  0.389808,   0.882246, ...,   3.350842,   2.963107],\n",
       "        [  2.436364,   0.524299, ...,   2.358284,   1.597555],\n",
       "        ...,\n",
       "        [ -2.946647,  -3.268961, ..., -12.400928, -12.447833],\n",
       "        [ -1.604164,  -1.112823, ..., -10.431235,  -9.446319]]])\n",
       "Coordinates:\n",
       "  * events      (events) (numpy.record, [('begin_distractor', '<i8'), ('begin_math_correct', '<i8'), ('eegfile', '<U256'), ('eegoffset', '<i8'), ('eogArtifact', '<i8'), ('experiment', '<U256'), ('final_distractor', '<i8'), ('final_math_correct', '<i8'), ('intruded', '<i8'), ('intrusion', '<i8'), ('item_name', '<U256'), ('item_num', '<i8'), ('montage', '<U256'), ('msoffset', '<i8'), ('mstime', '<i8'), ('protocol', '<U256'), ('recalled', '<i8'), ('rectime', '<i8'), ('serialpos', '<i8'), ('session', '<i8'), ('subject', '<U256'), ('trial', '<i8'), ('type', '<U256')]) (0, -999, '/protocols/ltp/subjects/LTP331/experiments/ltpFR2/sessions/0/ephys/current_processed/LTP331_session_0.bdf', 1559059, 1, 'ltpFR2', 24000, 11, 0, -999, 'VICTIM', 1562, '0.0', 1, 1484840043992, 'ltp', 1, -999, 1, 0, 'LTP331', 1, 'WORD') ...\n",
       "  * channels    (channels) <U3 'A1' 'A2' 'A3' 'A4' 'A5' 'A6' 'A7' 'A8' 'A9' ...\n",
       "  * time        (time) float64 -0.2002 -0.1997 -0.1992 -0.1987 -0.1982 ...\n",
       "    samplerate  float64 2.048e+03"
      ]
     },
     "execution_count": 33,
     "metadata": {},
     "output_type": "execute_result"
    }
   ],
   "source": [
    "dat"
   ]
  },
  {
   "cell_type": "code",
   "execution_count": 39,
   "metadata": {},
   "outputs": [],
   "source": [
    "import matplotlib.pyplot as plt\n",
    "%matplotlib inline"
   ]
  },
  {
   "cell_type": "code",
   "execution_count": 43,
   "metadata": {},
   "outputs": [
    {
     "data": {
      "text/plain": [
       "<matplotlib.legend.Legend at 0x2b71e8414b38>"
      ]
     },
     "execution_count": 43,
     "metadata": {},
     "output_type": "execute_result"
    },
    {
     "data": {
      "image/png": "[encoded data removed]",
      "text/plain": [
       "<Figure size 432x288 with 1 Axes>"
      ]
     },
     "metadata": {},
     "output_type": "display_data"
    }
   ],
   "source": [
    "dat.sel(events=dat['events'].values['recalled']==1, channels='A23').mean('events').plot(\n",
    "    label='recalled')\n",
    "dat.sel(events=dat['events'].values['recalled']==0, channels='A23').mean('events').plot(\n",
    "    label='not recalled')\n",
    "plt.legend()"
   ]
  },
  {
   "cell_type": "code",
   "execution_count": 47,
   "metadata": {},
   "outputs": [
    {
     "ename": "NameError",
     "evalue": "name 'pd' is not defined",
     "output_type": "error",
     "traceback": [
      "\u001b[0;31m---------------------------------------------------------------------------\u001b[0m",
      "\u001b[0;31mNameError\u001b[0m                                 Traceback (most recent call last)",
      "\u001b[0;32m<ipython-input-47-25895c434ecb>\u001b[0m in \u001b[0;36m<module>\u001b[0;34m()\u001b[0m\n\u001b[1;32m      1\u001b[0m \u001b[0;31m#dat['events'].values\u001b[0m\u001b[0;34m\u001b[0m\u001b[0;34m\u001b[0m\u001b[0m\n\u001b[0;32m----> 2\u001b[0;31m \u001b[0mpd\u001b[0m\u001b[0;34m\u001b[0m\u001b[0m\n\u001b[0m",
      "\u001b[0;31mNameError\u001b[0m: name 'pd' is not defined"
     ]
    }
   ],
   "source": [
    "#dat['events'].values\n",
    "pd"
   ]
  },
  {
   "cell_type": "code",
   "execution_count": 50,
   "metadata": {},
   "outputs": [],
   "source": [
    "import pandas as pd\n",
    "import statsmodels"
   ]
  },
  {
   "cell_type": "code",
   "execution_count": 53,
   "metadata": {},
   "outputs": [],
   "source": [
    "evs_df = pd.DataFrame.from_records(dat['events'].values)"
   ]
  },
  {
   "cell_type": "code",
   "execution_count": 64,
   "metadata": {},
   "outputs": [
    {
     "data": {
      "text/plain": [
       "<xarray.TimeSeriesX (events: 576, channels: 128, time: 2459)>\n",
       "array([[[  3.443741,   1.832915, ...,  11.451516,  11.126709],\n",
       "        [  2.839841,   1.667402, ...,   5.563594,   6.457687],\n",
       "        ...,\n",
       "        [  3.632159,   3.684467, ..., -13.078795, -14.021902],\n",
       "        [ -2.17386 ,  -0.294625, ...,  28.289229,  27.795317]],\n",
       "\n",
       "       [[ -1.542187,  -0.089606, ...,  -3.707338,  -3.550211],\n",
       "        [ -4.457799,  -4.6312  , ...,   0.856954,   0.481425],\n",
       "        ...,\n",
       "        [ -2.560272,  -3.570953, ...,  28.335052,  27.246839],\n",
       "        [ 23.872326,  21.183544, ..., -23.881376, -23.961667]],\n",
       "\n",
       "       ...,\n",
       "\n",
       "       [[  7.615629,   7.314255, ...,  15.696906,  16.280842],\n",
       "        [  5.522757,   6.34812 , ...,  13.560523,  14.208528],\n",
       "        ...,\n",
       "        [  4.306975,   4.442597, ...,   5.316783,   6.461861],\n",
       "        [  1.94559 ,   4.490096, ...,   6.088234,   4.047858]],\n",
       "\n",
       "       [[  0.389808,   0.882246, ...,   3.350842,   2.963107],\n",
       "        [  2.436364,   0.524299, ...,   2.358284,   1.597555],\n",
       "        ...,\n",
       "        [ -2.946647,  -3.268961, ..., -12.400928, -12.447833],\n",
       "        [ -1.604164,  -1.112823, ..., -10.431235,  -9.446319]]])\n",
       "Coordinates:\n",
       "  * events      (events) (numpy.record, [('begin_distractor', '<i8'), ('begin_math_correct', '<i8'), ('eegfile', '<U256'), ('eegoffset', '<i8'), ('eogArtifact', '<i8'), ('experiment', '<U256'), ('final_distractor', '<i8'), ('final_math_correct', '<i8'), ('intruded', '<i8'), ('intrusion', '<i8'), ('item_name', '<U256'), ('item_num', '<i8'), ('montage', '<U256'), ('msoffset', '<i8'), ('mstime', '<i8'), ('protocol', '<U256'), ('recalled', '<i8'), ('rectime', '<i8'), ('serialpos', '<i8'), ('session', '<i8'), ('subject', '<U256'), ('trial', '<i8'), ('type', '<U256')]) (0, -999, '/protocols/ltp/subjects/LTP331/experiments/ltpFR2/sessions/0/ephys/current_processed/LTP331_session_0.bdf', 1559059, 1, 'ltpFR2', 24000, 11, 0, -999, 'VICTIM', 1562, '0.0', 1, 1484840043992, 'ltp', 1, -999, 1, 0, 'LTP331', 1, 'WORD') ...\n",
       "  * channels    (channels) <U3 'A1' 'A2' 'A3' 'A4' 'A5' 'A6' 'A7' 'A8' 'A9' ...\n",
       "  * time        (time) float64 -0.2002 -0.1997 -0.1992 -0.1987 -0.1982 ...\n",
       "    samplerate  float64 2.048e+03"
      ]
     },
     "execution_count": 64,
     "metadata": {},
     "output_type": "execute_result"
    }
   ],
   "source": [
    "dat"
   ]
  },
  {
   "cell_type": "code",
   "execution_count": 54,
   "metadata": {},
   "outputs": [
    {
     "data": {
      "text/plain": [
       "('begin_distractor',\n",
       " 'begin_math_correct',\n",
       " 'eegfile',\n",
       " 'eegoffset',\n",
       " 'eogArtifact',\n",
       " 'experiment',\n",
       " 'final_distractor',\n",
       " 'final_math_correct',\n",
       " 'intruded',\n",
       " 'intrusion',\n",
       " 'item_name',\n",
       " 'item_num',\n",
       " 'montage',\n",
       " 'msoffset',\n",
       " 'mstime',\n",
       " 'protocol',\n",
       " 'recalled',\n",
       " 'rectime',\n",
       " 'serialpos',\n",
       " 'session',\n",
       " 'subject',\n",
       " 'trial',\n",
       " 'type')"
      ]
     },
     "execution_count": 54,
     "metadata": {},
     "output_type": "execute_result"
    }
   ],
   "source": [
    "dat['events'].values.dtype.names"
   ]
  },
  {
   "cell_type": "code",
   "execution_count": 59,
   "metadata": {},
   "outputs": [
    {
     "data": {
      "text/plain": [
       "array([11, 10,  9, 12, 13])"
      ]
     },
     "execution_count": 59,
     "metadata": {},
     "output_type": "execute_result"
    }
   ],
   "source": [
    "evs_df['final_math_correct'].unique()"
   ]
  },
  {
   "cell_type": "code",
   "execution_count": 86,
   "metadata": {},
   "outputs": [
    {
     "ename": "KeyError",
     "evalue": "False",
     "output_type": "error",
     "traceback": [
      "\u001b[0;31m---------------------------------------------------------------------------\u001b[0m",
      "\u001b[0;31mKeyError\u001b[0m                                  Traceback (most recent call last)",
      "\u001b[0;32m~/anaconda3/envs/PTSA/lib/python3.6/site-packages/pandas/core/indexes/base.py\u001b[0m in \u001b[0;36mget_loc\u001b[0;34m(self, key, method, tolerance)\u001b[0m\n\u001b[1;32m   2524\u001b[0m             \u001b[0;32mtry\u001b[0m\u001b[0;34m:\u001b[0m\u001b[0;34m\u001b[0m\u001b[0m\n\u001b[0;32m-> 2525\u001b[0;31m                 \u001b[0;32mreturn\u001b[0m \u001b[0mself\u001b[0m\u001b[0;34m.\u001b[0m\u001b[0m_engine\u001b[0m\u001b[0;34m.\u001b[0m\u001b[0mget_loc\u001b[0m\u001b[0;34m(\u001b[0m\u001b[0mkey\u001b[0m\u001b[0;34m)\u001b[0m\u001b[0;34m\u001b[0m\u001b[0m\n\u001b[0m\u001b[1;32m   2526\u001b[0m             \u001b[0;32mexcept\u001b[0m \u001b[0mKeyError\u001b[0m\u001b[0;34m:\u001b[0m\u001b[0;34m\u001b[0m\u001b[0m\n",
      "\u001b[0;32mpandas/_libs/index.pyx\u001b[0m in \u001b[0;36mpandas._libs.index.IndexEngine.get_loc\u001b[0;34m()\u001b[0m\n",
      "\u001b[0;32mpandas/_libs/index_class_helper.pxi\u001b[0m in \u001b[0;36mpandas._libs.index.Int64Engine._check_type\u001b[0;34m()\u001b[0m\n",
      "\u001b[0;32mpandas/_libs/index_class_helper.pxi\u001b[0m in \u001b[0;36mpandas._libs.index.Int64Engine._check_type\u001b[0;34m()\u001b[0m\n",
      "\u001b[0;31mKeyError\u001b[0m: False",
      "\nDuring handling of the above exception, another exception occurred:\n",
      "\u001b[0;31mKeyError\u001b[0m                                  Traceback (most recent call last)",
      "\u001b[0;32m<ipython-input-86-981ce5865931>\u001b[0m in \u001b[0;36m<module>\u001b[0;34m()\u001b[0m\n\u001b[0;32m----> 1\u001b[0;31m \u001b[0mevs_df\u001b[0m\u001b[0;34m.\u001b[0m\u001b[0mloc\u001b[0m\u001b[0;34m[\u001b[0m\u001b[0;34m'session'\u001b[0m\u001b[0;34m==\u001b[0m\u001b[0;36m0\u001b[0m\u001b[0;34m]\u001b[0m\u001b[0;34m\u001b[0m\u001b[0m\n\u001b[0m",
      "\u001b[0;32m~/anaconda3/envs/PTSA/lib/python3.6/site-packages/pandas/core/indexing.py\u001b[0m in \u001b[0;36m__getitem__\u001b[0;34m(self, key)\u001b[0m\n\u001b[1;32m   1371\u001b[0m \u001b[0;34m\u001b[0m\u001b[0m\n\u001b[1;32m   1372\u001b[0m             \u001b[0mmaybe_callable\u001b[0m \u001b[0;34m=\u001b[0m \u001b[0mcom\u001b[0m\u001b[0;34m.\u001b[0m\u001b[0m_apply_if_callable\u001b[0m\u001b[0;34m(\u001b[0m\u001b[0mkey\u001b[0m\u001b[0;34m,\u001b[0m \u001b[0mself\u001b[0m\u001b[0;34m.\u001b[0m\u001b[0mobj\u001b[0m\u001b[0;34m)\u001b[0m\u001b[0;34m\u001b[0m\u001b[0m\n\u001b[0;32m-> 1373\u001b[0;31m             \u001b[0;32mreturn\u001b[0m \u001b[0mself\u001b[0m\u001b[0;34m.\u001b[0m\u001b[0m_getitem_axis\u001b[0m\u001b[0;34m(\u001b[0m\u001b[0mmaybe_callable\u001b[0m\u001b[0;34m,\u001b[0m \u001b[0maxis\u001b[0m\u001b[0;34m=\u001b[0m\u001b[0maxis\u001b[0m\u001b[0;34m)\u001b[0m\u001b[0;34m\u001b[0m\u001b[0m\n\u001b[0m\u001b[1;32m   1374\u001b[0m \u001b[0;34m\u001b[0m\u001b[0m\n\u001b[1;32m   1375\u001b[0m     \u001b[0;32mdef\u001b[0m \u001b[0m_is_scalar_access\u001b[0m\u001b[0;34m(\u001b[0m\u001b[0mself\u001b[0m\u001b[0;34m,\u001b[0m \u001b[0mkey\u001b[0m\u001b[0;34m)\u001b[0m\u001b[0;34m:\u001b[0m\u001b[0;34m\u001b[0m\u001b[0m\n",
      "\u001b[0;32m~/anaconda3/envs/PTSA/lib/python3.6/site-packages/pandas/core/indexing.py\u001b[0m in \u001b[0;36m_getitem_axis\u001b[0;34m(self, key, axis)\u001b[0m\n\u001b[1;32m   1625\u001b[0m         \u001b[0;31m# fall thru to straight lookup\u001b[0m\u001b[0;34m\u001b[0m\u001b[0;34m\u001b[0m\u001b[0m\n\u001b[1;32m   1626\u001b[0m         \u001b[0mself\u001b[0m\u001b[0;34m.\u001b[0m\u001b[0m_has_valid_type\u001b[0m\u001b[0;34m(\u001b[0m\u001b[0mkey\u001b[0m\u001b[0;34m,\u001b[0m \u001b[0maxis\u001b[0m\u001b[0;34m)\u001b[0m\u001b[0;34m\u001b[0m\u001b[0m\n\u001b[0;32m-> 1627\u001b[0;31m         \u001b[0;32mreturn\u001b[0m \u001b[0mself\u001b[0m\u001b[0;34m.\u001b[0m\u001b[0m_get_label\u001b[0m\u001b[0;34m(\u001b[0m\u001b[0mkey\u001b[0m\u001b[0;34m,\u001b[0m \u001b[0maxis\u001b[0m\u001b[0;34m=\u001b[0m\u001b[0maxis\u001b[0m\u001b[0;34m)\u001b[0m\u001b[0;34m\u001b[0m\u001b[0m\n\u001b[0m\u001b[1;32m   1628\u001b[0m \u001b[0;34m\u001b[0m\u001b[0m\n\u001b[1;32m   1629\u001b[0m \u001b[0;34m\u001b[0m\u001b[0m\n",
      "\u001b[0;32m~/anaconda3/envs/PTSA/lib/python3.6/site-packages/pandas/core/indexing.py\u001b[0m in \u001b[0;36m_get_label\u001b[0;34m(self, label, axis)\u001b[0m\n\u001b[1;32m    143\u001b[0m             \u001b[0;32mraise\u001b[0m \u001b[0mIndexingError\u001b[0m\u001b[0;34m(\u001b[0m\u001b[0;34m'no slices here, handle elsewhere'\u001b[0m\u001b[0;34m)\u001b[0m\u001b[0;34m\u001b[0m\u001b[0m\n\u001b[1;32m    144\u001b[0m \u001b[0;34m\u001b[0m\u001b[0m\n\u001b[0;32m--> 145\u001b[0;31m         \u001b[0;32mreturn\u001b[0m \u001b[0mself\u001b[0m\u001b[0;34m.\u001b[0m\u001b[0mobj\u001b[0m\u001b[0;34m.\u001b[0m\u001b[0m_xs\u001b[0m\u001b[0;34m(\u001b[0m\u001b[0mlabel\u001b[0m\u001b[0;34m,\u001b[0m \u001b[0maxis\u001b[0m\u001b[0;34m=\u001b[0m\u001b[0maxis\u001b[0m\u001b[0;34m)\u001b[0m\u001b[0;34m\u001b[0m\u001b[0m\n\u001b[0m\u001b[1;32m    146\u001b[0m \u001b[0;34m\u001b[0m\u001b[0m\n\u001b[1;32m    147\u001b[0m     \u001b[0;32mdef\u001b[0m \u001b[0m_get_loc\u001b[0m\u001b[0;34m(\u001b[0m\u001b[0mself\u001b[0m\u001b[0;34m,\u001b[0m \u001b[0mkey\u001b[0m\u001b[0;34m,\u001b[0m \u001b[0maxis\u001b[0m\u001b[0;34m=\u001b[0m\u001b[0;32mNone\u001b[0m\u001b[0;34m)\u001b[0m\u001b[0;34m:\u001b[0m\u001b[0;34m\u001b[0m\u001b[0m\n",
      "\u001b[0;32m~/anaconda3/envs/PTSA/lib/python3.6/site-packages/pandas/core/generic.py\u001b[0m in \u001b[0;36mxs\u001b[0;34m(self, key, axis, level, drop_level)\u001b[0m\n\u001b[1;32m   2342\u001b[0m                                                       drop_level=drop_level)\n\u001b[1;32m   2343\u001b[0m         \u001b[0;32melse\u001b[0m\u001b[0;34m:\u001b[0m\u001b[0;34m\u001b[0m\u001b[0m\n\u001b[0;32m-> 2344\u001b[0;31m             \u001b[0mloc\u001b[0m \u001b[0;34m=\u001b[0m \u001b[0mself\u001b[0m\u001b[0;34m.\u001b[0m\u001b[0mindex\u001b[0m\u001b[0;34m.\u001b[0m\u001b[0mget_loc\u001b[0m\u001b[0;34m(\u001b[0m\u001b[0mkey\u001b[0m\u001b[0;34m)\u001b[0m\u001b[0;34m\u001b[0m\u001b[0m\n\u001b[0m\u001b[1;32m   2345\u001b[0m \u001b[0;34m\u001b[0m\u001b[0m\n\u001b[1;32m   2346\u001b[0m             \u001b[0;32mif\u001b[0m \u001b[0misinstance\u001b[0m\u001b[0;34m(\u001b[0m\u001b[0mloc\u001b[0m\u001b[0;34m,\u001b[0m \u001b[0mnp\u001b[0m\u001b[0;34m.\u001b[0m\u001b[0mndarray\u001b[0m\u001b[0;34m)\u001b[0m\u001b[0;34m:\u001b[0m\u001b[0;34m\u001b[0m\u001b[0m\n",
      "\u001b[0;32m~/anaconda3/envs/PTSA/lib/python3.6/site-packages/pandas/core/indexes/base.py\u001b[0m in \u001b[0;36mget_loc\u001b[0;34m(self, key, method, tolerance)\u001b[0m\n\u001b[1;32m   2525\u001b[0m                 \u001b[0;32mreturn\u001b[0m \u001b[0mself\u001b[0m\u001b[0;34m.\u001b[0m\u001b[0m_engine\u001b[0m\u001b[0;34m.\u001b[0m\u001b[0mget_loc\u001b[0m\u001b[0;34m(\u001b[0m\u001b[0mkey\u001b[0m\u001b[0;34m)\u001b[0m\u001b[0;34m\u001b[0m\u001b[0m\n\u001b[1;32m   2526\u001b[0m             \u001b[0;32mexcept\u001b[0m \u001b[0mKeyError\u001b[0m\u001b[0;34m:\u001b[0m\u001b[0;34m\u001b[0m\u001b[0m\n\u001b[0;32m-> 2527\u001b[0;31m                 \u001b[0;32mreturn\u001b[0m \u001b[0mself\u001b[0m\u001b[0;34m.\u001b[0m\u001b[0m_engine\u001b[0m\u001b[0;34m.\u001b[0m\u001b[0mget_loc\u001b[0m\u001b[0;34m(\u001b[0m\u001b[0mself\u001b[0m\u001b[0;34m.\u001b[0m\u001b[0m_maybe_cast_indexer\u001b[0m\u001b[0;34m(\u001b[0m\u001b[0mkey\u001b[0m\u001b[0;34m)\u001b[0m\u001b[0;34m)\u001b[0m\u001b[0;34m\u001b[0m\u001b[0m\n\u001b[0m\u001b[1;32m   2528\u001b[0m \u001b[0;34m\u001b[0m\u001b[0m\n\u001b[1;32m   2529\u001b[0m         \u001b[0mindexer\u001b[0m \u001b[0;34m=\u001b[0m \u001b[0mself\u001b[0m\u001b[0;34m.\u001b[0m\u001b[0mget_indexer\u001b[0m\u001b[0;34m(\u001b[0m\u001b[0;34m[\u001b[0m\u001b[0mkey\u001b[0m\u001b[0;34m]\u001b[0m\u001b[0;34m,\u001b[0m \u001b[0mmethod\u001b[0m\u001b[0;34m=\u001b[0m\u001b[0mmethod\u001b[0m\u001b[0;34m,\u001b[0m \u001b[0mtolerance\u001b[0m\u001b[0;34m=\u001b[0m\u001b[0mtolerance\u001b[0m\u001b[0;34m)\u001b[0m\u001b[0;34m\u001b[0m\u001b[0m\n",
      "\u001b[0;32mpandas/_libs/index.pyx\u001b[0m in \u001b[0;36mpandas._libs.index.IndexEngine.get_loc\u001b[0;34m()\u001b[0m\n",
      "\u001b[0;32mpandas/_libs/index_class_helper.pxi\u001b[0m in \u001b[0;36mpandas._libs.index.Int64Engine._check_type\u001b[0;34m()\u001b[0m\n",
      "\u001b[0;32mpandas/_libs/index_class_helper.pxi\u001b[0m in \u001b[0;36mpandas._libs.index.Int64Engine._check_type\u001b[0;34m()\u001b[0m\n",
      "\u001b[0;31mKeyError\u001b[0m: False"
     ]
    }
   ],
   "source": [
    "evs_df.loc[evs_df['session']==0]"
   ]
  },
  {
   "cell_type": "code",
   "execution_count": null,
   "metadata": {},
   "outputs": [],
   "source": [
    "import statsmodels.formula.api as smf"
   ]
  },
  {
   "cell_type": "code",
   "execution_count": 63,
   "metadata": {},
   "outputs": [
    {
     "data": {
      "text/plain": [
       "0.9583333333333334"
      ]
     },
     "execution_count": 63,
     "metadata": {},
     "output_type": "execute_result"
    }
   ],
   "source": [
    "23/24"
   ]
  },
  {
   "cell_type": "code",
   "execution_count": null,
   "metadata": {},
   "outputs": [],
   "source": [
    "smf.ols(\n",
    "        'recalled ~ 1 + session + sleep + alertness + hrs_from_noon',\n",
    "        data=evsessinfo).fit()"
   ]
  },
  {
   "cell_type": "code",
   "execution_count": 98,
   "metadata": {},
   "outputs": [
    {
     "data": {
      "text/plain": [
       "True"
      ]
     },
     "execution_count": 98,
     "metadata": {},
     "output_type": "execute_result"
    }
   ],
   "source": [
    "576*314752 == 576*128*2459"
   ]
  },
  {
   "cell_type": "code",
   "execution_count": 100,
   "metadata": {},
   "outputs": [],
   "source": [
    "test = dat.stack(features=('channels', 'time'))"
   ]
  },
  {
   "cell_type": "code",
   "execution_count": 101,
   "metadata": {},
   "outputs": [
    {
     "data": {
      "text/plain": [
       "<xarray.TimeSeriesX (events: 576, features: 314752)>\n",
       "array([[  3.443741,   1.832915,   2.629897, ...,  28.635745,  28.289229,\n",
       "         27.795317],\n",
       "       [ -1.542187,  -0.089606,  -0.774781, ..., -24.372178, -23.881376,\n",
       "        -23.961667],\n",
       "       [ -2.692511,  -4.839268,  -6.311028, ..., -16.766538, -17.826848,\n",
       "        -16.438466],\n",
       "       ...,\n",
       "       [  0.77951 ,  -0.158448,  -0.346668, ...,   7.918862,   6.63767 ,\n",
       "          7.008819],\n",
       "       [  7.615629,   7.314255,   6.524339, ...,   5.14971 ,   6.088234,\n",
       "          4.047858],\n",
       "       [  0.389808,   0.882246,   2.701245, ...,  -9.809904, -10.431235,\n",
       "         -9.446319]])\n",
       "Coordinates:\n",
       "  * events      (events) (numpy.record, [('begin_distractor', '<i8'), ('begin_math_correct', '<i8'), ('eegfile', '<U256'), ('eegoffset', '<i8'), ('eogArtifact', '<i8'), ('experiment', '<U256'), ('final_distractor', '<i8'), ('final_math_correct', '<i8'), ('intruded', '<i8'), ('intrusion', '<i8'), ('item_name', '<U256'), ('item_num', '<i8'), ('montage', '<U256'), ('msoffset', '<i8'), ('mstime', '<i8'), ('protocol', '<U256'), ('recalled', '<i8'), ('rectime', '<i8'), ('serialpos', '<i8'), ('session', '<i8'), ('subject', '<U256'), ('trial', '<i8'), ('type', '<U256')]) (0, -999, '/protocols/ltp/subjects/LTP331/experiments/ltpFR2/sessions/0/ephys/current_processed/LTP331_session_0.bdf', 1559059, 1, 'ltpFR2', 24000, 11, 0, -999, 'VICTIM', 1562, '0.0', 1, 1484840043992, 'ltp', 1, -999, 1, 0, 'LTP331', 1, 'WORD') ...\n",
       "    samplerate  float64 2.048e+03\n",
       "  * features    (features) MultiIndex\n",
       "  - channels    (features) object 'A1' 'A1' 'A1' 'A1' 'A1' 'A1' 'A1' 'A1' ...\n",
       "  - time        (features) float64 -0.2002 -0.1997 -0.1992 -0.1987 -0.1982 ..."
      ]
     },
     "execution_count": 101,
     "metadata": {},
     "output_type": "execute_result"
    }
   ],
   "source": [
    "test"
   ]
  },
  {
   "cell_type": "code",
   "execution_count": 103,
   "metadata": {},
   "outputs": [
    {
     "data": {
      "text/plain": [
       "<xarray.TimeSeriesX (events: 576, channels: 128, time: 2459)>\n",
       "array([[[  3.443741,   1.832915, ...,  11.451516,  11.126709],\n",
       "        [  2.839841,   1.667402, ...,   5.563594,   6.457687],\n",
       "        ...,\n",
       "        [  3.632159,   3.684467, ..., -13.078795, -14.021902],\n",
       "        [ -2.17386 ,  -0.294625, ...,  28.289229,  27.795317]],\n",
       "\n",
       "       [[ -1.542187,  -0.089606, ...,  -3.707338,  -3.550211],\n",
       "        [ -4.457799,  -4.6312  , ...,   0.856954,   0.481425],\n",
       "        ...,\n",
       "        [ -2.560272,  -3.570953, ...,  28.335052,  27.246839],\n",
       "        [ 23.872326,  21.183544, ..., -23.881376, -23.961667]],\n",
       "\n",
       "       ...,\n",
       "\n",
       "       [[  7.615629,   7.314255, ...,  15.696906,  16.280842],\n",
       "        [  5.522757,   6.34812 , ...,  13.560523,  14.208528],\n",
       "        ...,\n",
       "        [  4.306975,   4.442597, ...,   5.316783,   6.461861],\n",
       "        [  1.94559 ,   4.490096, ...,   6.088234,   4.047858]],\n",
       "\n",
       "       [[  0.389808,   0.882246, ...,   3.350842,   2.963107],\n",
       "        [  2.436364,   0.524299, ...,   2.358284,   1.597555],\n",
       "        ...,\n",
       "        [ -2.946647,  -3.268961, ..., -12.400928, -12.447833],\n",
       "        [ -1.604164,  -1.112823, ..., -10.431235,  -9.446319]]])\n",
       "Coordinates:\n",
       "  * events      (events) (numpy.record, [('begin_distractor', '<i8'), ('begin_math_correct', '<i8'), ('eegfile', '<U256'), ('eegoffset', '<i8'), ('eogArtifact', '<i8'), ('experiment', '<U256'), ('final_distractor', '<i8'), ('final_math_correct', '<i8'), ('intruded', '<i8'), ('intrusion', '<i8'), ('item_name', '<U256'), ('item_num', '<i8'), ('montage', '<U256'), ('msoffset', '<i8'), ('mstime', '<i8'), ('protocol', '<U256'), ('recalled', '<i8'), ('rectime', '<i8'), ('serialpos', '<i8'), ('session', '<i8'), ('subject', '<U256'), ('trial', '<i8'), ('type', '<U256')]) (0, -999, '/protocols/ltp/subjects/LTP331/experiments/ltpFR2/sessions/0/ephys/current_processed/LTP331_session_0.bdf', 1559059, 1, 'ltpFR2', 24000, 11, 0, -999, 'VICTIM', 1562, '0.0', 1, 1484840043992, 'ltp', 1, -999, 1, 0, 'LTP331', 1, 'WORD') ...\n",
       "    samplerate  float64 2.048e+03\n",
       "  * channels    (channels) object 'A1' 'A2' 'A3' 'A4' 'A5' 'A6' 'A7' 'A8' ...\n",
       "  * time        (time) float64 -0.2002 -0.1997 -0.1992 -0.1987 -0.1982 ..."
      ]
     },
     "execution_count": 103,
     "metadata": {},
     "output_type": "execute_result"
    }
   ],
   "source": [
    "test.unstack('features')"
   ]
  },
  {
   "cell_type": "code",
   "execution_count": 104,
   "metadata": {},
   "outputs": [
    {
     "data": {
      "text/plain": [
       "<xarray.TimeSeriesX (events: 576, features: 314752)>\n",
       "array([[  3.443741,   1.832915,   2.629897, ...,  28.635745,  28.289229,\n",
       "         27.795317],\n",
       "       [ -1.542187,  -0.089606,  -0.774781, ..., -24.372178, -23.881376,\n",
       "        -23.961667],\n",
       "       [ -2.692511,  -4.839268,  -6.311028, ..., -16.766538, -17.826848,\n",
       "        -16.438466],\n",
       "       ...,\n",
       "       [  0.77951 ,  -0.158448,  -0.346668, ...,   7.918862,   6.63767 ,\n",
       "          7.008819],\n",
       "       [  7.615629,   7.314255,   6.524339, ...,   5.14971 ,   6.088234,\n",
       "          4.047858],\n",
       "       [  0.389808,   0.882246,   2.701245, ...,  -9.809904, -10.431235,\n",
       "         -9.446319]])\n",
       "Coordinates:\n",
       "  * events      (events) (numpy.record, [('begin_distractor', '<i8'), ('begin_math_correct', '<i8'), ('eegfile', '<U256'), ('eegoffset', '<i8'), ('eogArtifact', '<i8'), ('experiment', '<U256'), ('final_distractor', '<i8'), ('final_math_correct', '<i8'), ('intruded', '<i8'), ('intrusion', '<i8'), ('item_name', '<U256'), ('item_num', '<i8'), ('montage', '<U256'), ('msoffset', '<i8'), ('mstime', '<i8'), ('protocol', '<U256'), ('recalled', '<i8'), ('rectime', '<i8'), ('serialpos', '<i8'), ('session', '<i8'), ('subject', '<U256'), ('trial', '<i8'), ('type', '<U256')]) (0, -999, '/protocols/ltp/subjects/LTP331/experiments/ltpFR2/sessions/0/ephys/current_processed/LTP331_session_0.bdf', 1559059, 1, 'ltpFR2', 24000, 11, 0, -999, 'VICTIM', 1562, '0.0', 1, 1484840043992, 'ltp', 1, -999, 1, 0, 'LTP331', 1, 'WORD') ...\n",
       "    samplerate  float64 2.048e+03\n",
       "  * features    (features) MultiIndex\n",
       "  - channels    (features) object 'A1' 'A1' 'A1' 'A1' 'A1' 'A1' 'A1' 'A1' ...\n",
       "  - time        (features) float64 -0.2002 -0.1997 -0.1992 -0.1987 -0.1982 ..."
      ]
     },
     "execution_count": 104,
     "metadata": {},
     "output_type": "execute_result"
    }
   ],
   "source": [
    "test"
   ]
  },
  {
   "cell_type": "code",
   "execution_count": 105,
   "metadata": {},
   "outputs": [],
   "source": [
    "coefs = np.random.randn(314752)"
   ]
  },
  {
   "cell_type": "code",
   "execution_count": 114,
   "metadata": {},
   "outputs": [
    {
     "data": {
      "text/plain": [
       "array([-0.45221391, -0.32675881, -0.80659597, ...,  0.86216555,\n",
       "       -0.70461636, -0.91736917])"
      ]
     },
     "execution_count": 114,
     "metadata": {},
     "output_type": "execute_result"
    }
   ],
   "source": [
    "coefs[(test['features']['channels']=='A32')]"
   ]
  },
  {
   "cell_type": "code",
   "execution_count": 116,
   "metadata": {},
   "outputs": [],
   "source": [
    "tst = TimeSeries(coefs, coords=test['features'].coords)"
   ]
  },
  {
   "cell_type": "code",
   "execution_count": 117,
   "metadata": {},
   "outputs": [
    {
     "data": {
      "text/plain": [
       "<xarray.TimeSeriesX (features: 314752)>\n",
       "array([ 0.279713, -0.324705, -1.004485, ..., -0.055374,  0.757126, -0.157481])\n",
       "Coordinates:\n",
       "    samplerate  float64 2.048e+03\n",
       "  * features    (features) MultiIndex\n",
       "  - channels    (features) object 'A1' 'A1' 'A1' 'A1' 'A1' 'A1' 'A1' 'A1' ...\n",
       "  - time        (features) float64 -0.2002 -0.1997 -0.1992 -0.1987 -0.1982 ..."
      ]
     },
     "execution_count": 117,
     "metadata": {},
     "output_type": "execute_result"
    }
   ],
   "source": [
    "tst"
   ]
  },
  {
   "cell_type": "code",
   "execution_count": 119,
   "metadata": {},
   "outputs": [
    {
     "data": {
      "text/plain": [
       "<xarray.TimeSeriesX (channels: 128, time: 2459)>\n",
       "array([[ 0.279713, -0.324705, -1.004485, ..., -0.436182, -0.240082,  0.10724 ],\n",
       "       [ 0.734511,  0.20226 , -0.779919, ..., -0.272355,  0.696822,  2.556011],\n",
       "       [ 0.659136, -2.104339, -0.577777, ...,  1.915687,  0.040751,  2.120715],\n",
       "       ...,\n",
       "       [ 0.974801,  0.213496,  0.789636, ...,  0.800692,  3.157423, -1.668109],\n",
       "       [-0.40348 ,  0.498331, -0.965858, ..., -0.257123,  0.927316,  0.565899],\n",
       "       [-0.179956, -1.937625,  0.628869, ..., -0.055374,  0.757126, -0.157481]])\n",
       "Coordinates:\n",
       "    samplerate  float64 2.048e+03\n",
       "  * channels    (channels) object 'A1' 'A2' 'A3' 'A4' 'A5' 'A6' 'A7' 'A8' ...\n",
       "  * time        (time) float64 -0.2002 -0.1997 -0.1992 -0.1987 -0.1982 ..."
      ]
     },
     "execution_count": 119,
     "metadata": {},
     "output_type": "execute_result"
    }
   ],
   "source": [
    "tst.unstack('features')"
   ]
  },
  {
   "cell_type": "code",
   "execution_count": null,
   "metadata": {},
   "outputs": [],
   "source": []
  }
 ],
 "metadata": {
  "kernelspec": {
   "display_name": "PTSA",
   "language": "python",
   "name": "ptsa"
  },
  "language_info": {
   "codemirror_mode": {
    "name": "ipython",
    "version": 3
   },
   "file_extension": ".py",
   "mimetype": "text/x-python",
   "name": "python",
   "nbconvert_exporter": "python",
   "pygments_lexer": "ipython3",
   "version": "3.6.5"
  }
 },
 "nbformat": 4,
 "nbformat_minor": 2
}
