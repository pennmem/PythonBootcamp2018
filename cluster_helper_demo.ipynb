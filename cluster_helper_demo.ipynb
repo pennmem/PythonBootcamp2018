{
 "cells": [
  {
   "cell_type": "markdown",
   "metadata": {},
   "source": [
    "# Installation:\n",
    "\n",
    "### Install using pip:\n",
    "\n",
    "pip install ipython-cluster-helper\n",
    "\n",
    "#### If you receive an error stating \"No module named 'pip.req'\", you may need to change your pip version to 9.0.1 by running:\n",
    "\n",
    "pip install --upgrade pip==9.0.1\n"
   ]
  },
  {
   "cell_type": "markdown",
   "metadata": {},
   "source": [
    "# Import"
   ]
  },
  {
   "cell_type": "code",
   "execution_count": null,
   "metadata": {
    "collapsed": true
   },
   "outputs": [],
   "source": [
    "from cluster_helper.cluster import cluster_view"
   ]
  },
  {
   "cell_type": "markdown",
   "metadata": {},
   "source": [
    "# Basic Example"
   ]
  },
  {
   "cell_type": "code",
   "execution_count": null,
   "metadata": {
    "collapsed": true
   },
   "outputs": [],
   "source": [
    "# Define the function you wish to run multiple copies of\n",
    "def square(N):\n",
    "    y = N**2\n",
    "\n",
    "# Define the list of inputs you wish to process in parallel\n",
    "inputs = [1, 2, 3, 4]"
   ]
  },
  {
   "cell_type": "code",
   "execution_count": null,
   "metadata": {
    "collapsed": false
   },
   "outputs": [],
   "source": [
    "\"\"\"\n",
    "Submit parallel jobs using cluster helper. Cluster helper will automatically run the function you provide on each of \n",
    "the inputs you provide. Note that your function can only take one argument, or it will not work with cluster helper. \n",
    "You should design your function in a way that it will not require more than one input.\n",
    "\n",
    "Parameters include:\n",
    "scheduler - Rhino uses the Sun Grid Engine, so set this to 'sge'\n",
    "queue - 'RAM.q' is the main queue on Rhino. We also have 'matlab.q' to place jobs on nodes with MATLAB licenses.\n",
    "num_jobs - The number of parallel jobs you want to run. \n",
    "cores_per_job - The number of cores assigned to each job. Usually leave this set to 1, but it can be used to limit \n",
    "the number of jobs assigned to the same node in order to avoid memory errors.\n",
    "\"\"\"\n",
    "with cluster_view(scheduler='sge', queue='RAM.q', num_jobs=4, cores_per_job=1) as view:\n",
    "    view.map(square, inputs)"
   ]
  },
  {
   "cell_type": "markdown",
   "metadata": {},
   "source": [
    "# EEG Example"
   ]
  },
  {
   "cell_type": "code",
   "execution_count": null,
   "metadata": {
    "collapsed": true
   },
   "outputs": [],
   "source": [
    "# This function will read the header of an EEG file and write the time of the recording to a text file\n",
    "def read_eeg_time(eegfile):\n",
    "    # When using cluster helper, your function will only have access to packages you import in the function itself,\n",
    "    # so we will import os and mne here instead of at the top of the file.\n",
    "    import os\n",
    "    import mne\n",
    "    \n",
    "    if os.path.exists(eegfile):\n",
    "        raw = mne.io.read_raw_edf(eegfile, preload=False)\n",
    "        t = str(raw.info['meas_date'])\n",
    "\n",
    "        outfile = '/scratch/jpazdera/' + os.path.splitext(os.path.basename(eegfile))[0] + '_time.txt'\n",
    "        with open(outfile, 'w') as f:\n",
    "            f.write(t)"
   ]
  },
  {
   "cell_type": "code",
   "execution_count": null,
   "metadata": {
    "collapsed": false
   },
   "outputs": [],
   "source": [
    "# Set up a list of EEG file paths we want to work with\n",
    "eegfiles = []\n",
    "subj = 'LTP331'\n",
    "for sess in range(3):\n",
    "    filepath = '/protocols/ltp/subjects/%s/experiments/ltpFR2/sessions/%s/ephys/current_processed/%s_session_%s.bdf' % (subj, sess, subj, sess)\n",
    "    eegfiles.append(filepath)"
   ]
  },
  {
   "cell_type": "code",
   "execution_count": null,
   "metadata": {
    "collapsed": false
   },
   "outputs": [],
   "source": [
    "with cluster_view(scheduler='sge', queue='RAM.q', num_jobs=3, cores_per_job=1) as view:\n",
    "    view.map(read_eeg_time, eegfiles)"
   ]
  },
  {
   "cell_type": "code",
   "execution_count": null,
   "metadata": {
    "collapsed": false
   },
   "outputs": [],
   "source": []
  },
  {
   "cell_type": "code",
   "execution_count": null,
   "metadata": {
    "collapsed": true
   },
   "outputs": [],
   "source": []
  }
 ],
 "metadata": {
  "kernelspec": {
   "display_name": "py36",
   "language": "python",
   "name": "py36"
  },
  "language_info": {
   "codemirror_mode": {
    "name": "ipython",
    "version": 3
   },
   "file_extension": ".py",
   "mimetype": "text/x-python",
   "name": "python",
   "nbconvert_exporter": "python",
   "pygments_lexer": "ipython3",
   "version": "3.6.5"
  }
 },
 "nbformat": 4,
 "nbformat_minor": 0
}
